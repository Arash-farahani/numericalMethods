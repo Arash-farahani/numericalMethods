{
  "nbformat": 4,
  "nbformat_minor": 0,
  "metadata": {
    "colab": {
      "provenance": [],
      "authorship_tag": "ABX9TyPEfaTzZrdqVcbzETfMPum0",
      "include_colab_link": true
    },
    "kernelspec": {
      "name": "python3",
      "display_name": "Python 3"
    },
    "language_info": {
      "name": "python"
    }
  },
  "cells": [
    {
      "cell_type": "markdown",
      "metadata": {
        "id": "view-in-github",
        "colab_type": "text"
      },
      "source": [
        "<a href=\"https://colab.research.google.com/github/hamidrezanorouzi/numericalMethods/blob/main/Lectures/Lecture06_curve_Fitting.ipynb\" target=\"_parent\"><img src=\"https://colab.research.google.com/assets/colab-badge.svg\" alt=\"Open In Colab\"/></a>"
      ]
    },
    {
      "cell_type": "markdown",
      "source": [
        "# **Curve Fitting**\n",
        "\n",
        "&nbsp;\n",
        "\n",
        "Lecturer: **Hamidreza Norouzi**\n",
        "\n",
        "&nbsp;"
      ],
      "metadata": {
        "id": "kYoMQav_943S"
      }
    },
    {
      "cell_type": "markdown",
      "source": [
        "### **Notes**❕\n",
        "This content forms a part of the instructional presentations for the **`numerical methods in chemical engineering`** course designed for undergraduate chemical engineering students at Amirkabir University of Technology.\n",
        "\n",
        "Feel free to utilize the information and source codes provided in this material, ensuring appropriate acknowledgment of the original document.\n",
        "\n",
        "The visual elements featured in this document are either original or have been obtained from the following sources, unless specified otherwise:\n",
        "\n",
        "* Steven C. Chapra, Applied Numerical Methods with Matlab for Engineers and Scientists, 3rd edition, McGraw-Hill (2012).\n",
        "* Amos Gilat and Vish Subramanian, Numerical Methods for Engineers and Scientists, 3rd edition, Wiley (2014).\n",
        "\n",
        "\n",
        "<div align=\"center\">\n",
        "🟪 🟪 🟪\n",
        "</dive>\n",
        "\n",
        "---"
      ],
      "metadata": {
        "id": "Pk3iG32lh2kM"
      }
    },
    {
      "cell_type": "markdown",
      "source": [
        "# 🔵 1) What are the applications?"
      ],
      "metadata": {
        "id": "0YjfomtgiLMv"
      }
    },
    {
      "cell_type": "markdown",
      "source": [
        "\n",
        "* **Kinetics and Reaction Rate Modeling:** Curve fitting is used to determine **reaction kinetics** and **rate constants** by fitting experimental data to various kinetic models.\n",
        "\n",
        "* **Material Properties Estimation:** Curve fitting can be employed to determine material properties, such as **thermo-physical properties**, from experimental data. This is vital for designing and simulating chemical processes accurately.\n",
        "\n",
        "* **Calibration of Instruments:** In chemical engineering, instruments like **spectrophotometers**, **mass spectrometers**, and **chromatographs** require calibration. Curve fitting is used to relate instrument responses to known concentrations or properties of chemical compounds.\n",
        "\n",
        "* **Experimental Data Analysis:** Curve fitting aids in extracting meaningful information from noisy or complex experimental data, helping researchers and engineers draw conclusions and make decisions based on the data.\n",
        "* And many more...\n",
        "\n",
        "<div align=\"center\">\n",
        "🟦 🟦 🟦\n",
        "</div>\n",
        "\n",
        "\n",
        "---\n",
        "\n"
      ],
      "metadata": {
        "id": "-kPGgmDfmj8t"
      }
    },
    {
      "cell_type": "markdown",
      "source": [
        "# 🔴 2) What is a curve fitting problem?"
      ],
      "metadata": {
        "id": "oSMBEaBQpfwB"
      }
    },
    {
      "cell_type": "markdown",
      "source": [
        "* Consider that we have $n$ set of data points (most often obtained from experimental measurements), $(x_i, y_i)$ with $i = 1, 2,..., n$\n",
        "\n",
        "* The task of curve fitting/regression is to find an smooth curve  $f(x)$ that goes through the data points, which on average have the least error in representing the data.\n",
        "\n",
        "* The curve $f(x)$ has $m$ coefficients in its mathematical relation that should be determined in the process of curve-fitting:\n",
        "\n",
        " $$\n",
        " f(x) = f(x, a_1, a_2, a_3, ..., a_m)\n",
        " $$\n",
        "\n",
        " where, ***m<n*** and  $f$ is a function of $x$ and constants $a_i$ is to be determined.\n",
        "\n"
      ],
      "metadata": {
        "id": "TCrXtVxYq5lr"
      }
    },
    {
      "cell_type": "markdown",
      "source": [
        "* The form of $f(x)$ is pre-determined.\n",
        " * We usually use linear form $y = a_0 + a_1x$\n",
        " * Higher order polynomials can also be used: $y = a_0 + a_1x + a_2x^2 + a_3x^3$\n",
        " * Other forms of functions can be converted into the linear form:\n",
        "   * Consider $z = b_0 e^{b_1x}$, which is non-linear.\n",
        "   * if we take logarithm from the both sides\n",
        "   $Ln (z) = ln(b_0) + b_1x$, which is equivalent to finding the best **linear** fit on data points $(x_i, ln(z_i))$.\n"
      ],
      "metadata": {
        "id": "ousgEvKlulPN"
      }
    },
    {
      "cell_type": "markdown",
      "source": [
        "## 2-1) The definition of least squares\n",
        "* The process of curve-fitting is to find the coefficients in function $f(x)$ that **best fits/represents** the experimental data.\n",
        "* The definition of the **Best Fit** can be any statistical measure.\n",
        " * Minimizing sum of residual errors:\n",
        " $$\n",
        " \\sum_{i=1}^{n}e_i = \\sum_{i=1}^{n}(y_i-f(x_i))\n",
        " $$\n",
        " * Minimizing sum of absolute of residual errors:\n",
        " $$\n",
        " \\sum_{i=1}^{n}|e_i| = \\sum_{i=1}^{n}|y_i-f(x_i)|\n",
        " $$\n",
        " * Minimizing sum of the **square of residual errors** (called sum of residuals):\n",
        " $$\n",
        " S_r = \\sum_{i=1}^{n}(e_i)^2 = \\sum_{i=1}^{n}(y_i-f(x_i))^2\n",
        " $$\n",
        "* Among the above options, the best one is the last one.\n",
        "* So, **least squares** is to find the coefficients in function $f(x)$ that minimizes the sum of the square of residual errors."
      ],
      "metadata": {
        "id": "VGh5jwi_pZcQ"
      }
    },
    {
      "cell_type": "markdown",
      "source": [
        "<div align=\"center\">\n",
        "🟥 🟥 🟥\n",
        "</div>\n",
        "\n",
        "\n",
        "---\n",
        "\n"
      ],
      "metadata": {
        "id": "9vRl08cRyRuC"
      }
    },
    {
      "cell_type": "markdown",
      "source": [
        "# 🟢 3) Least squares for a straight line\n"
      ],
      "metadata": {
        "id": "EGz-DPESygZZ"
      }
    },
    {
      "cell_type": "markdown",
      "source": [
        "## 3-1) Problem definition\n",
        "* The function is $f(x) = a_0 + a_1x$.\n",
        "* The task is to find $a_0$ and $a_1$ so that the sum of square of residual errors becomes minimum (best fit).\n",
        "* Sum of residuals becomes:\n",
        "$$\n",
        "S_r = \\sum_{i=1}^{n}(y_i-f(x_i))^2 = \\sum_{i=1}^{n}(y_i-a_0-a_1x_i)^2 \\tag{3-1}\n",
        "$$\n",
        "\n",
        "\n"
      ],
      "metadata": {
        "id": "u7LZ2xm3WygO"
      }
    },
    {
      "cell_type": "markdown",
      "source": [
        "## 3-2) Formulation\n",
        "* To find values of $a_0$ and $a_1$, we should take the derivatives of Eq. (3-1) with respect to $a_0$ and $a_1$:\n",
        "$$\n",
        "\\begin{aligned}\n",
        "\\frac{∂S_r}{∂a_0} &= -2\\sum_{i=1}^{n}(y_i-a_0-a_1x_i)   \\\\\n",
        "\\frac{∂S_r}{∂a_1} &= -2\\sum_{i=1}^{n}((y_i-a_0-a_1x_i)x_i)\n",
        "\\end{aligned} \\tag{3-2}\n",
        "$$\n",
        "\n",
        "* Setting these derivatives equal to zero will result in a minimum $S_r$:\n",
        "\n",
        "$$\n",
        "\\begin{aligned}\n",
        "0 &= \\sum y_i - \\sum a_0 - \\sum a_1x_i \\\\\n",
        "0 &= \\sum x_iy_i - \\sum x_ia_0 - \\sum a_1x^2_i   \n",
        "\\end{aligned}\n",
        "\\tag{3-3}\n",
        "$$\n",
        "\n",
        "* Rearranging the equations will give:\n",
        "$$\n",
        "\\begin{aligned}\n",
        "\\begin{cases}\n",
        "n a_0 &+ (\\sum x_i)a_1 &= \\sum y_i  \\\\\n",
        "(\\sum x_i)a_0 &+ (\\sum x^2_i)a_1 &= \\sum x_iy_i  \n",
        "\\end{cases}\n",
        "\\end{aligned}\n",
        "\\tag{3-4}\n",
        "$$"
      ],
      "metadata": {
        "id": "2opQgQ_Xbvh0"
      }
    },
    {
      "cell_type": "markdown",
      "source": [
        "### ❓ **Example 1**\n",
        "Fit a straight line on the measured data given in table below:\n",
        "\n",
        "| V (m/s) | F (N)|\n",
        "| :---: | :---: |\n",
        "|10| 25|\n",
        "|20| 70|\n",
        "|30| 380|\n",
        "|40| 550|\n",
        "|50| 610|\n",
        "|60| 1220|\n",
        "|70| 830|\n",
        "|80| 1450|\n",
        "\n"
      ],
      "metadata": {
        "id": "Ka3Bb3ZzkFBd"
      }
    },
    {
      "cell_type": "markdown",
      "source": [
        "💡 *Solution*\n",
        "\n",
        "Using Eq. (3-4), we should compute the coefficient matrix and know vector to form the equations set.\n",
        "\n",
        "|i| $x_i$  | $y_i$| $x^2_i$ | $x_iy_i$|\n",
        "|:---| :---: | :---: | :---: |:---:|\n",
        "|1|10| 25|  100 | 250 |\n",
        "|2|20| 70|  400 | 1400|\n",
        "|3|30| 380| 900 | 11400|\n",
        "|4|40| 550| 1600| 22000|\n",
        "|5|50| 610| 2500| 30500|\n",
        "|6|60| 1220| 3600| 73200 |\n",
        "|7|70| 830| 4900 | 58100|\n",
        "|8|80| 1450| 6400| 116000|\n",
        "|$\\sum$| **360** |**5135** | **20400** | **312850**|\n",
        "\n"
      ],
      "metadata": {
        "id": "B3yMxP2WmM-s"
      }
    },
    {
      "cell_type": "markdown",
      "source": [
        "The following set of equations is obtained\n",
        "\n",
        "$$\n",
        "\\begin{bmatrix}\n",
        "8 & 360 \\\\\n",
        "360 & 20400\n",
        "\\end{bmatrix}\n",
        "\\begin{bmatrix} a_0 \\\\ a_1 \\end{bmatrix} =\n",
        "\\begin{bmatrix} 5135 \\\\ 312850 \\end{bmatrix}\n",
        "$$\n",
        "\n",
        "We can solve it using Cramer's rule:\n",
        "\n",
        "\n",
        "\\begin{aligned}\n",
        "D &= 8(20400)-360^2 = 33600 \\\\\n",
        "a_0 &= \\frac{D_0}{D} = \\frac{\\begin{vmatrix} 5135 & 360 \\\\ 312850 & 20400 \\end{vmatrix} }{33600} = -243.2857 \\\\\n",
        "a_1 &= 19.47024 \\\\\n",
        "F &= -243.2857 + 19.47024 V\n",
        "\\end{aligned}\n"
      ],
      "metadata": {
        "id": "EhLXDVIh3xjN"
      }
    },
    {
      "cell_type": "markdown",
      "source": [
        "## 3-3) Code for straight line least squares"
      ],
      "metadata": {
        "id": "f5axya5Qb2us"
      }
    },
    {
      "cell_type": "code",
      "execution_count": 1,
      "metadata": {
        "id": "oyTUSjyqfmlG"
      },
      "outputs": [],
      "source": [
        "import numpy as np\n",
        "\n",
        "def starightLineCurveFitting(x,y):\n",
        "  n = len(x)\n",
        "  ny = len(y)\n",
        "\n",
        "  if n!=ny:\n",
        "    print(\"number of x data points and y data points does not match!\")\n",
        "    return None\n",
        "\n",
        "  A = np.zeros((2,2))\n",
        "  B = np.zeros((2,1))\n",
        "  A[0,0] = n;\n",
        "  A[1,0] = A[0,1] = np.sum(x)\n",
        "  A[1,1] = np.sum(x*x)\n",
        "  B[0] = np.sum(y)\n",
        "  B[1] = np.sum(x*y)\n",
        "  a = np.linalg.solve(A, B)\n",
        "\n",
        "  return a.reshape((2,))"
      ]
    },
    {
      "cell_type": "code",
      "source": [
        "import matplotlib.pyplot as plt\n",
        "\n",
        "V = np.array([10.0, 20.0, 30.0, 40.0, 50.0, 60.0, 70.0, 80.0])\n",
        "F = np.array([25.0,70.0, 380.0, 550, 610, 1220, 830, 1450])\n",
        "a0, a1 = starightLineCurveFitting(V,F)\n",
        "\n",
        "print(f' a0 = {a0} and a1 = {a1}')\n",
        "\n",
        "fittedF = [a0 + a1*vi for vi in V]\n",
        "plt.scatter(V,F, c='r')\n",
        "plt.plot(V, fittedF)\n",
        "plt.xlabel('V(m/s)')\n",
        "plt.ylabel('F(N)')\n",
        "plt.show()"
      ],
      "metadata": {
        "colab": {
          "base_uri": "https://localhost:8080/",
          "height": 466
        },
        "id": "LVRFDnOAilWG",
        "outputId": "d6d6a14e-2185-463e-e084-98517fc494c8"
      },
      "execution_count": 2,
      "outputs": [
        {
          "output_type": "stream",
          "name": "stdout",
          "text": [
            " a0 = -234.28571428571402 and a1 = 19.47023809523809\n"
          ]
        },
        {
          "output_type": "display_data",
          "data": {
            "text/plain": [
              "<Figure size 640x480 with 1 Axes>"
            ],
            "image/png": "[encoded data removed]"
          },
          "metadata": {}
        }
      ]
    },
    {
      "cell_type": "markdown",
      "source": [
        "## 3-4) Linearization of functions\n",
        "* In straight line least squares, a linear relation between independent and dependent variables exists.\n",
        "* But sometimes we need to fit the data on a function which is not linear.\n",
        "* Some of these non-linear functions can be converted into linear form with proper mathematical manipulations.\n",
        "  * **Exponential model, $y= α_1e^{β_1}$:**\n",
        "\n",
        "   This equation can be linearized by taking its natural logarithm to yield:\n",
        "  $$\n",
        "  \\ln{y} = \\ln{\\alpha_1}+\\beta_1 x \\tag{3-5}\n",
        "  $$\n",
        "  * **Power equation, $y=\\alpha_2 x^{\\beta_2}$:**\n",
        "   This equation is linearized by taking its base-10 logarithm to give:\n",
        "   $$\n",
        "   \\log{y} = \\log{α_2} + \\beta_2 \\log{x}  \\tag{3-6}\n",
        "   $$\n",
        "  * **Saturation-growth-rate equation, $y=\\alpha_3 \\frac{x}{\\beta_3+x}$:**\n",
        "   This equation is linearized by inverting it to give:\n",
        "   $$\n",
        "   \\frac{1}{y} = \\frac{1}{\\alpha_3} + \\frac{\\beta_3}{\\alpha_3}\\frac{1}{x} \\tag{3-7}\n",
        "   $$"
      ],
      "metadata": {
        "id": "B0oBWiXkRuni"
      }
    },
    {
      "cell_type": "markdown",
      "source": [
        "<div align=\"center\">\n",
        "<img src=\"https://drive.google.com/uc?id=1KDoKjqfDaQygVuWuJmM331Twb08aWMem\" width =\"650\">\n",
        "</div>\n"
      ],
      "metadata": {
        "id": "XAyrDFwyoY4o"
      }
    },
    {
      "cell_type": "markdown",
      "source": [
        "### ❓ **Example 2:**\n",
        "\n",
        "Fit power model, $F=\\alpha V^{\\beta}$ on the following data.\n",
        "\n",
        "| V (m/s) | F (N)|\n",
        "| :---: | :---: |\n",
        "|10| 25|\n",
        "|20| 70|\n",
        "|30| 380|\n",
        "|40| 550|\n",
        "|50| 610|\n",
        "|60| 1220|\n",
        "|70| 830|\n",
        "|80| 1450|\n"
      ],
      "metadata": {
        "id": "T1dthuU9r8sW"
      }
    },
    {
      "cell_type": "markdown",
      "source": [
        "💡 *Solution*\n",
        "\n",
        "To linearize the equation, we need to take base-10 logarithm from both sides to get:\n",
        "$$\n",
        "\\begin{aligned}\n",
        "\\log{F} &= \\log{α} + \\beta \\log{V}   \\\\\n",
        "y &= a + bx \\\\\n",
        "\\end{aligned}\n",
        "$$\n",
        "\n",
        "|i| $V_i$ | $F_i$| $x_i = \\log{V_i}$  | $y_i=\\log{F_i}$| $x^2_i$ | $x_iy_i$|\n",
        "|:---| :---: | :---: | :---: |:---:| :---:| :---:|\n",
        "|1|10|25|&nbsp;&nbsp;&nbsp;&nbsp;&nbsp;&nbsp;&nbsp;&nbsp;1.0000&nbsp;&nbsp;&nbsp;&nbsp;&nbsp;&nbsp;&nbsp;&nbsp;|&nbsp;&nbsp;&nbsp;&nbsp;&nbsp;&nbsp;&nbsp;&nbsp;1.3979&nbsp;&nbsp;&nbsp;&nbsp;&nbsp;&nbsp;&nbsp;&nbsp;|1.0000|1.3979|\n",
        "|2|20|70|1.3010|1.8451|1.6927|2.4005|\n",
        "|3|30|380|1.4771|2.5798|2.1819|3.8107|\n",
        "|4|40|550|1.6021|2.7404|2.5666|4.3902|\n",
        "|5|50|610|1.6990|2.7853|2.8865|4.7322|\n",
        "|6|60|1220|1.7782|3.0864|3.1618|5.4880|\n",
        "|7|70|830|1.8451|2.9191|3.4044|5.3860|\n",
        "|8|80|1450|1.9031|3.1614|3.6218|6.0164|\n",
        "|||$\\sum$|12.6055|20.5153|20.5156|33.6219|\n",
        "\n",
        "&nbsp;\n",
        "\n"
      ],
      "metadata": {
        "id": "f0L4nM0msmFI"
      }
    },
    {
      "cell_type": "markdown",
      "source": [
        "The following set of equations is obtained\n",
        "\n",
        "$$\n",
        "\\begin{bmatrix}\n",
        "8 & 12.6055 \\\\\n",
        "12.6055 & 20.5156\n",
        "\\end{bmatrix}\n",
        "\\begin{bmatrix} a \\\\ b \\end{bmatrix} =\n",
        "\\begin{bmatrix} 20.5153 \\\\ 33.6219 \\end{bmatrix}\n",
        "$$\n",
        "\n",
        "&nbsp;\n",
        "\n",
        "We can solve it using Cramer's rule:\n",
        "\n",
        "\n",
        "\\begin{aligned}\n",
        "D &= 8(20.5156)-12.6055^2 = 5.2263 \\\\\n",
        "a &= \\frac{D_0}{D} = \\frac{\\begin{vmatrix} 20.5153 & 12.6055 \\\\ 33.6219 & 20.5156 \\end{vmatrix} }{5.2262} = -0.5620 \\\\\n",
        "b &= 1.9842 \\\\ \\\\\n",
        "y &= -0.5620 + 1.9842 x\n",
        "\\end{aligned}\n",
        "\n",
        "&nbsp;\n",
        "\n"
      ],
      "metadata": {
        "id": "vJMb1CQa4C7U"
      }
    },
    {
      "cell_type": "markdown",
      "source": [
        "We can show the formula in untransformed form:\n",
        "$$\n",
        "\\begin{aligned}\n",
        "\\alpha &= 10^{-0.5620} = 0.2741 \\\\\n",
        "\\beta &= 1.9842 \\\\ \\\\\n",
        "F &= 0.2741 V^{1.9842}\n",
        "\\end{aligned}\n",
        "$$\n"
      ],
      "metadata": {
        "id": "HpUlqQVb4Hga"
      }
    },
    {
      "cell_type": "code",
      "source": [
        "import matplotlib.pyplot as plt\n",
        "\n",
        "V = np.array([10.0, 20.0, 30.0, 40.0, 50.0, 60.0, 70.0, 80.0])\n",
        "F = np.array([25.0,70.0, 380.0, 550, 610, 1220, 830, 1450])\n",
        "\n",
        "x = np.log10(V)\n",
        "y = np.log10(F)\n",
        "\n",
        "a, b = starightLineCurveFitting(x,y)\n",
        "\n",
        "alpha = pow(10.0,a)\n",
        "beta = b\n",
        "print(f' a = {a} and b = {b}')\n",
        "print(f' alpha = {alpha} and beta = {beta}')\n",
        "\n",
        "VV = np.linspace(10.0,80.0, 30)\n",
        "fittedF = [ alpha*pow(vi,beta) for vi in VV]\n",
        "plt.scatter(V,F, c='r')\n",
        "plt.plot(VV, fittedF)\n",
        "plt.xlabel('V(m/s)')\n",
        "plt.ylabel('F(N)')\n",
        "plt.legend([\"Experimental\", f\"$F={alpha:6.4f} V^{{{beta:6.4f}}}$\"])\n",
        "plt.show()\n"
      ],
      "metadata": {
        "colab": {
          "base_uri": "https://localhost:8080/",
          "height": 484
        },
        "id": "kHkWiQVf1mSv",
        "outputId": "1b19289b-7762-4272-f0d2-ddff258832c6"
      },
      "execution_count": 3,
      "outputs": [
        {
          "output_type": "stream",
          "name": "stdout",
          "text": [
            " a = -0.5620318023820827 and b = 1.9841762557640126\n",
            " alpha = 0.27413734201322115 and beta = 1.9841762557640126\n"
          ]
        },
        {
          "output_type": "display_data",
          "data": {
            "text/plain": [
              "<Figure size 640x480 with 1 Axes>"
            ],
            "image/png": "[encoded data removed]"
          },
          "metadata": {}
        }
      ]
    },
    {
      "cell_type": "markdown",
      "source": [
        "<div align=\"center\">\n",
        "🟩 🟩 🟩\n",
        "</div>\n",
        "\n",
        "\n",
        "---\n",
        "\n"
      ],
      "metadata": {
        "id": "9jHJn3X1TUQM"
      }
    },
    {
      "cell_type": "markdown",
      "source": [
        "# 🟡 4) Quantification of Error"
      ],
      "metadata": {
        "id": "AZQWUng-Tyhf"
      }
    },
    {
      "cell_type": "markdown",
      "source": [
        "* After regression, we should evaluate how well the curve $f(x)$ represents the original data.\n"
      ],
      "metadata": {
        "id": "KpfVxFn1Vhdp"
      }
    },
    {
      "cell_type": "markdown",
      "source": [
        "## 4-1) Sum of residuals\n",
        "* Sum of residuals shows the distance between data and predicted values. In other words, **it quantifies the distribution of data points around curve $f(x)$**\n",
        " $$\n",
        " S_r = \\sum_{i=1}^{n}(e_i)^2 = \\sum_{i=1}^{n}(y_i-f(x_i))^2 \\tag{4-1}\n",
        " $$\n",
        "\n",
        "<div align=\"center\">\n",
        "<img src=\"https://drive.google.com/uc?id=1lryprZXsNxo_Q23Y3hcXnUOOXiBK1QGc\" width=\"400\">\n",
        "</div>"
      ],
      "metadata": {
        "id": "wMKpdP9eaDOv"
      }
    },
    {
      "cell_type": "markdown",
      "source": [
        "## 4-2) Sum of total error\n",
        "*  Sum of total error shows the vertical distance between data points and their mean value. In other words, **it quantifies the distribution of the data points around their mean**.\n",
        "\n",
        "$$\n",
        " \\begin{aligned}\n",
        " S_t &= \\sum_{i=1}^{n}(y_i-\\bar{y})^2 \\\\\n",
        " \\bar{y} &= \\frac{\\sum y_i}{n}\n",
        " \\end{aligned} \\tag{4-2}\n",
        " $$\n",
        "\n",
        " <div align=\"center\">\n",
        " <img src=\"https://drive.google.com/uc?id=1eS2bSJY9RxicAkh15q60Ps46XMjYNrLN\" width=\"400\">\n",
        " </div>\n"
      ],
      "metadata": {
        "id": "as_oTfWFaNwH"
      }
    },
    {
      "cell_type": "markdown",
      "source": [
        "## 4-3) Standard error of estimate\n",
        "* It quantifies the spread of data points around the regressed curve $f(x)$.\n",
        "$$\n",
        "S_{x/y} = \\sqrt{\\frac{S_r}{n-m}}  \\tag{4-3}\n",
        "$$\n",
        "\n",
        " * $n$: is the number of data points.\n",
        " * $m$: is the number of coefficients, $a_i$s, obtained from regression. For straight line it is 2.\n",
        " * $x/y$: shows that the error is for a predicted value of y corresponding to a particular value of x.\n"
      ],
      "metadata": {
        "id": "6LwDaBUXcfiP"
      }
    },
    {
      "cell_type": "markdown",
      "source": [
        "## 4-4) Coefficient of determination ($R^2$)\n",
        "* In our error quantification:\n",
        "  * $S_t$ is the error associated with representing the data with a single value mean.\n",
        "  * $S_r$ is the error associated with representing the data with a curve $f(x)$.\n",
        "  * $S_t-S_r$ quantifies the improvement or error reduction due to describing the data in terms of the curve $f(x)$ rather than as a mean value.\n",
        "* We define the **coefficient of determination** as:\n",
        "$$\n",
        "R^2 = \\frac{S_t-S_r}{S_t} = 1 - \\frac{S_r}{S_t} \\tag{4-4}\n",
        "$$\n",
        "  If $R^2 = 1$, the least square explains 100% of the variability of data.\n",
        "  if $R^2 = 0$, the least square shows no improvement over representing the data with a mean."
      ],
      "metadata": {
        "id": "eiQJEpQlfHd8"
      }
    },
    {
      "cell_type": "markdown",
      "source": [
        "### ❓ **Example 3:**\n",
        "Consider the following set of data obtained from experimental analysis. Find $E$ and $k_0$ that best fit the data. Calculate the coefficient of determination for this fit.  \n",
        "$$\n",
        "k = k_0 e^{\\frac{-E}{RT}}\n",
        "$$\n",
        "\n",
        "| T [K] | k [1/s]|\n",
        "| --- | --- |\n",
        "|300|\t190|\n",
        "|320|\t224|\n",
        "|334|\t230|\n",
        "|360|\t300|\n",
        "|401|\t310|\n"
      ],
      "metadata": {
        "id": "R7ip61CqQZQ0"
      }
    },
    {
      "cell_type": "markdown",
      "source": [
        "💡 *Solution*\n",
        "\n",
        "\n",
        "The curve (equation) is not a linear function of T. So, we need to first check if we can linearize it or not.\n",
        "\n",
        "By taking natural logarithm from both sides, we obtain:\n",
        "$$\n",
        "\\begin{aligned}\n",
        "\\ln{k} &= \\ln{k_0} - \\frac{E}{R} \\frac{1}{T} \\\\\n",
        "\\Rightarrow  y &= a + b x\n",
        "\\end{aligned}\n",
        "$$\n",
        "\n",
        "&nbsp;\n",
        "\n",
        "Now, if we perform curve fitting on a set of data whose elements are $(\\frac{1}{T},\\ln{k})$, we obtain a strait line with slope of $-\\frac{E}{R}$ and intercept of $\\ln{k_0}$.\n",
        "\n",
        "|$i$| T [K]| k [1/s] | $x_i = \\frac{1}{T_i}$| $y_i = \\ln{k_i}$| $x^2_i$ | $x_iy_i$|\n",
        "|---|:---:|:---:|:---:|:---:|:---:|:---:|  \n",
        "|1|300.0|190.0|3.33333E-03|&nbsp;&nbsp;&nbsp;&nbsp;5.24702&nbsp;&nbsp;&nbsp;&nbsp;|1.11111E-05|1.74901E-02|\n",
        "|2|320.0|224.0|3.12500E-03|5.41165|9.76563E-06|1.69114E-02|\n",
        "|3|334.0|230.0|2.99401E-03|5.43808|8.96411E-06|1.62817E-02|\n",
        "|5|360.0|300.0|2.77778E-03|5.70378|7.71605E-06|1.58438E-02|\n",
        "|5|401.0|310.0|2.49377E-03|5.73657|6.21887E-06|1.43057E-02|\n",
        "| | | $\\sum$|1.47239E-02|27.53710|4.37758E-05|8.08327E-02|\n",
        "\n"
      ],
      "metadata": {
        "id": "2rW8oVmWRtQB"
      }
    },
    {
      "cell_type": "markdown",
      "source": [
        "The following set is formed, which can be solved using Cramer's role:\n",
        "$$\n",
        "\\begin{bmatrix}\n",
        "5 & 1.47239\\times 10^{-2} \\\\\n",
        "1.47239\\times 10^{-2} & 4.37758\\times 10^{-5} \\\\\n",
        "\\end{bmatrix}\n",
        "\\begin{bmatrix}\n",
        "\\ln{k_0} \\\\ -\\frac{E}{R} \\\\\n",
        "\\end{bmatrix}\n",
        "=\n",
        "\\begin{bmatrix}\n",
        "27.53710 \\\\\n",
        "8.08327\\times 10^{-2}\\\\\n",
        "\\end{bmatrix}\n",
        "$$\n",
        "\n",
        "&nbsp;\n",
        "\n",
        "&nbsp;\n",
        "\n",
        "$$\n",
        "\\begin{aligned}\n",
        "D &= 5(4.37758\\times 10^{-5}) - (1.47239\\times 10^{-2})^2 = 2.08590\\times 10^{-6} \\\\\n",
        "D_1 &= 27.53710(4.37758\\times 10^{-5}) - (8.08327\\times 10^{-2}) (1.47239\\times 10^{-2}) = 1.52866\\times 10^{-5} \\\\\n",
        "\\\\\n",
        "a &= \\ln{k_0} = \\frac{D_1}{D} = \\frac{1.52866E-05}{2.08590E-06} = 7.32855 \\\\\n",
        "⇒ k_0 &= e^{7.32855} = 1523.17 \\\\\n",
        "⇒ b &= -\\frac{E}{R} = -617.427 \\\\\n",
        "\\end{aligned}\n",
        "$$\n",
        "\n"
      ],
      "metadata": {
        "id": "Hqh5InShkIBU"
      }
    },
    {
      "cell_type": "markdown",
      "source": [
        "**Calculating coefficient of determination**\n",
        "\n",
        "We need to calculate average T:\n",
        "$$\n",
        "\\bar{T} = \\frac{\\sum_i T_i}{5} = 250.8\n",
        "$$\n",
        "\n",
        "And thereafter, we calculate $S_t$ and $S_r$:\n",
        "\n",
        "|$i$| T | k | $f(x_i) = k_0e^{-\\frac{E}{RT}}$| $(T_i-f(x_i))^2$ | $(T_i-\\bar{T})^2$|\n",
        "|:---:|:---:|:---:|:---:|:---:|:---:|\n",
        "|1|300.0|190.0|&nbsp;&nbsp;&nbsp;&nbsp;&nbsp;&nbsp;&nbsp;1.94505E+02&nbsp;&nbsp;&nbsp;&nbsp;&nbsp;&nbsp;&nbsp;|&nbsp;&nbsp;&nbsp;2.02970E+01&nbsp;&nbsp;&nbsp;|3.69664E+03|\n",
        "|2|320.0|224.0|2.21205E+02|7.81237E+00|7.18240E+02|\n",
        "|3|334.0|230.0|2.39838E+02|9.67930E+01|4.32640E+02|\n",
        "|4|360.0|300.0|2.74095E+02|6.71080E+02|2.42064E+03|\n",
        "|5|401.0|310.0|3.26631E+02|2.76587E+02|3.50464E+03|\n",
        "| | | |$\\sum$|1.07257E+03|1.07728E+04|\n",
        "\n",
        "$$\n",
        "R^2 = 1- \\frac{S_r}{S_t} = 1 - \\frac{1.07275 \\times 10^3}{1.07728 \\times 10^4} = 0.90043\n",
        "$$"
      ],
      "metadata": {
        "id": "b1B1C87do70V"
      }
    },
    {
      "cell_type": "code",
      "source": [
        "import numpy as np\n",
        "import matplotlib.pyplot as plt\n",
        "\n",
        "T= np.array([300, 320, 334, 360, 401])\n",
        "k = np.array([190, 224, 230, 300, 310])\n",
        "x = 1.0/T\n",
        "y = np.log(k)\n",
        "\n",
        "a, b = starightLineCurveFitting(x,y)\n",
        "\n",
        "k0 = np.exp(a)\n",
        "EoverR = - b\n",
        "\n",
        "TT = np.linspace(280, 420, 30);\n",
        "predicted_k = k0*np.exp(-EoverR/TT)\n",
        "\n",
        "plt.scatter(T,k, c='r')\n",
        "plt.plot(TT,predicted_k)\n",
        "plt.xlabel(\"Temperature [K]\")\n",
        "plt.ylabel(\"k [1/s]\")\n",
        "plt.legend([\n",
        "    \"experimental data\",\n",
        "    f\"$k = {k0:.2f} e^{{{-EoverR:.3f}/T}}$ \"])\n",
        "plt.show()\n"
      ],
      "metadata": {
        "colab": {
          "base_uri": "https://localhost:8080/",
          "height": 449
        },
        "id": "67ybO5U9rKYQ",
        "outputId": "fc0de6ea-3fa0-47ef-b619-036c2840c7ad"
      },
      "execution_count": 4,
      "outputs": [
        {
          "output_type": "display_data",
          "data": {
            "text/plain": [
              "<Figure size 640x480 with 1 Axes>"
            ],
            "image/png": "[encoded data removed]"
          },
          "metadata": {}
        }
      ]
    },
    {
      "cell_type": "markdown",
      "source": [
        "# ⚫ 5) Least squares for a polynomial\n",
        "* The least squares method we used for a straight line can be extended for fitting the data on a polynomial of order $m$.\n",
        "\n",
        "* Recall the regression for straight line $y=a_0+a_1x$. We obtained the following matrix:\n",
        "$$\n",
        "\\begin{aligned}\n",
        "\\begin{cases}\n",
        "n a_0 &+ (\\sum x_i)a_1 &= \\sum y_i  \\\\\n",
        "(\\sum x_i)a_0 &+ (\\sum x^2_i)a_1 &= \\sum x_iy_i  \n",
        "\\end{cases}\n",
        "\\end{aligned}\n",
        "$$\n",
        "\n",
        "&nbsp;\n",
        "\n",
        "\n",
        "* With the same procedure we can obtain the following set of equations for regression of polynomial $y=a_0+a_1x+...+a_{m}x^m$.\n",
        "\n",
        "$$\n",
        "\\begin{aligned}\n",
        "\\begin{cases}\n",
        "n &a_0 + (\\sum x_i)&a_1 + . . . &+ (\\sum x^m_i)&a_m = \\sum y_i  \\\\\n",
        "(\\sum x_i)&a_0 + (\\sum x^2_i)&a_1 +...&+(\\sum x^{m+1}_i)&a_m = \\sum x_iy_i \\\\\n",
        ". & & & &. \\\\\n",
        ". & & & &. \\\\\n",
        ". & & & &. \\\\\n",
        "(\\sum x^m_i)&a_0 +(\\sum x^{m+1}_i)&a_1 +...&+(\\sum x^{2m}_i)&a_m = \\sum x^m_iy_i\n",
        "\\end{cases}\n",
        "\\end{aligned}\n",
        "\\tag{5-1}\n",
        "$$\n",
        "\n",
        "&nbsp;\n",
        "\n"
      ],
      "metadata": {
        "id": "YSNGc-Y5g5ia"
      }
    },
    {
      "cell_type": "markdown",
      "source": [
        "* The above set can be converted into matrix form, the size of coefficient matrix is $(m+1)×(m+1)$:\n",
        "$$ \\begin{bmatrix}\n",
        "n &  \\sum x_i & ... & \\sum x^m_i\\\\\n",
        "\\sum x_i & \\sum x^2_i & ...& \\sum x^{m+1}_i\\\\\n",
        ". \\\\\n",
        ". \\\\\n",
        "\\sum x^m_i & \\sum x^{m+1}_i& ... & \\sum x^{2m}_i\n",
        "\\end{bmatrix}\n",
        "\\begin{bmatrix} a_0 \\\\ a_1\\\\ . \\\\ . \\\\ a_m\\end{bmatrix} =\n",
        "\\begin{bmatrix} \\sum y_i \\\\ \\sum x_iy_i\\\\ . \\\\ . \\\\ \\sum x^m_iy_i \\end{bmatrix}\n",
        "\\tag{5-2}\n",
        "$$"
      ],
      "metadata": {
        "id": "2P0c8HHrmAVS"
      }
    },
    {
      "cell_type": "markdown",
      "source": [
        "### ❓ **Example 3:**\n",
        "We have experimental data on the constant pressure heat capacity ($C_P$) on n-butane from 100 to 1400 K. We are supposed to fit a polynomial of order 2 on these data and calculate the coefficient of determination and average absolute relative error for the fit.\n",
        "\n",
        "**Note**: The data are obtained from [NIST databank](https://webbook.nist.gov/cgi/cbook.cgi?ID=C106978&Units=SI&Mask=1F).\n",
        "\n",
        "| Temperature (K) | $C_P (\\frac{J}{molK})$ |\n",
        "| :---: | :---: |\n",
        "| 100.00 | 55.350 |\n",
        "| 200.00 | 76.440 |\n",
        "| 273.15 | 92.300 |\n",
        "| 298.15 | 98.490 |\n",
        "| 300.00 | 98.950 |\n",
        "| 400.00 | 124.770 |\n",
        "| 600.00 | 169.280 |\n",
        "| 800.00 | 202.380 |\n",
        "| 900.00 | 215.730 |\n",
        "| 1100.00 | 237.480 |\n",
        "| 1200.00 | 246.270 |\n",
        "| 1400.00 | 260.580 |\n"
      ],
      "metadata": {
        "id": "pLx6Ctn-siqA"
      }
    },
    {
      "cell_type": "markdown",
      "source": [
        "💡 *Solution*\n",
        "\n",
        "We can use Eq. (5-2) to construct the required set of equations for curve fitting. Since $m=2$, we will end with a 3×3 system.\n",
        "\n",
        "Here is the table that calculates the required coefficients. Remember that we do our calculations with 6 decimal points precision.\n",
        "\n",
        "$$\n",
        "C_P = a_0 + a_1T + a_2T^2\n",
        "$$"
      ],
      "metadata": {
        "id": "tTu13B2D6Wy8"
      }
    },
    {
      "cell_type": "markdown",
      "source": [
        "|i| $x_i$ | $y_i$ | $x^2_i$ | $x^3_i$ | $x^4_i$| $x_iy_i$ | $x^2_iy_i$|\n",
        "|:---| --- | ---- | ---| --- | ---|---| ---|\n",
        "|1|1.00000E+02 | 5.535000E+01 | 1.000000E+04 | 1.000000E+06 | 1.000000E+08|5.535000E+03 | 5.535000E+05 |\n",
        "|2|2.00000E+02 | 7.644000E+01 | 4.000000E+04 | 8.000000E+06 | 1.600000E+09|1.528800E+04 | 3.057600E+06 |\n",
        "|3|2.73150E+02 | 9.230000E+01 | 7.461092E+04 | 2.037997E+07 | 5.566790E+09|2.521175E+04 | 6.886588E+06 |\n",
        "|4|2.98150E+02 | 9.849000E+01 | 8.889342E+04 | 2.650357E+07 | 7.902041E+09|2.936479E+04 | 8.755113E+06 |\n",
        "|5|3.00000E+02 | 9.895000E+01 | 9.000000E+04 | 2.700000E+07 | 8.100000E+09|2.968500E+04 | 8.905500E+06 |\n",
        "|6|4.00000E+02 | 1.247700E+02 | 1.600000E+05 | 6.400000E+07 | 2.560000E+10|4.990800E+04 | 1.996320E+07 |\n",
        "|7|6.00000E+02 | 1.692800E+02 | 3.600000E+05 | 2.160000E+08 | 1.296000E+11|1.015680E+05 | 6.094080E+07 |\n",
        "|8|8.00000E+02 | 2.023800E+02 | 6.400000E+05 | 5.120000E+08 | 4.096000E+11|1.619040E+05 | 1.295232E+08 |\n",
        "|9|1.00000E+03 | 2.273600E+02 | 1.000000E+06 | 1.000000E+09 | 1.000000E+12|2.273600E+05 | 2.273600E+08 |\n",
        "|10|1.20000E+03 | 2.462700E+02 | 1.440000E+06 | 1.728000E+09 | 2.073600E+12|2.955240E+05 | 3.546288E+08 |\n",
        "|11|1.40000E+03 | 2.605800E+02 | 1.960000E+06 | 2.744000E+09 | 3.841600E+12|3.648120E+05 | 5.107368E+08 |\n",
        "|$\\sum$|**6.57130E+03** | **1.652170E+03** | **5.863504E+06** | **6.346884E+09** | **7.503269E+12**|**1.306161E+06** | **1.331311E+09** |\n",
        "\n"
      ],
      "metadata": {
        "id": "eMzLVOczxiek"
      }
    },
    {
      "cell_type": "markdown",
      "source": [
        "The following set of equations is formed.\n",
        "$$ \\begin{bmatrix}\n",
        "11 &  6.57130E+03 & 5.863504E+06 \\\\\n",
        "6.57130E+03 & 5.863504E+06 & 6.346884E+09\\\\\n",
        " 5.863504E+06 & 6.346884E+09 & 7.503269E+12\n",
        "\\end{bmatrix}\n",
        "\\begin{bmatrix} a_0 \\\\ a_1\\\\ a_2\\end{bmatrix} =\n",
        "\\begin{bmatrix} 1.652170E+03 \\\\ 1.306161E+06\\\\ 1.331311E+09 \\end{bmatrix}\n",
        "$$\n",
        "\n",
        "The solution of the above set using Gauss elimination (or any other method) is:\n",
        "$$\n",
        "\\begin{aligned}\n",
        "a_0 &= 2.177855\\times10^1 \\\\  \n",
        "a_1 &= 2.929206\\times10^{-1} \\\\\n",
        "a_2 &= -8.736465\\times10^{-5}\n",
        "\\end{aligned}\n",
        "$$"
      ],
      "metadata": {
        "id": "tA3426zG62K4"
      }
    },
    {
      "cell_type": "markdown",
      "source": [
        "**Caculation of $R^2$ and average absolute relative error:**\n",
        "\n",
        "The average value of y can be calculated as:\n",
        "\n",
        "$$\n",
        "\\bar{y} = \\frac{\\sum y_i}{11} = \\frac{1.652170 \\times 10^3}{11} = 1.50197 \\times 10^2\n",
        "$$\n",
        "\n",
        "|$i$| $x_i$ | $y_i$ | $f(x_i)$ | $(y_i-f(x_i))^2$ | $(y_i-\\bar{y})^2$| $|\\frac{y_i-f(x_i)}{y_i}|$ |\n",
        "|:---| :---: | :---: | :---:| :---: | :---:|:---:|\n",
        "|1|1.00E+02|5.5350E+01|&nbsp;&nbsp;5.01970E+01&nbsp;&nbsp;|&nbsp;&nbsp;2.65538E+01&nbsp;&nbsp;|&nbsp;&nbsp;8.99601E+03&nbsp;&nbsp;|&nbsp;&nbsp;1.02656E-01&nbsp;&nbsp;|\n",
        "|2|2.00E+02|7.6440E+01|7.68681E+01|1.83256E-01|5.44014E+03|5.56907E-03|\n",
        "|3|2.73E+02|9.2300E+01|9.52715E+01|8.82954E+00|3.35209E+03|3.11894E-02|\n",
        "|4|2.98E+02|9.8490E+01|1.01347E+02|8.16064E+00|2.67364E+03|2.81872E-02|\n",
        "|5|3.00E+02|9.8950E+01|1.01792E+02|8.07646E+00|2.62628E+03|2.79188E-02|\n",
        "|6|4.00E+02|1.2477E+02|1.24968E+02|3.93808E-02|6.46546E+02|1.58797E-03|\n",
        "|7|6.00E+02|1.6928E+02|1.66080E+02|1.02423E+01|3.64150E+02|1.92701E-02|\n",
        "|8|8.00E+02|2.0238E+02|2.00202E+02|4.74519E+00|2.72304E+03|1.08808E-02|\n",
        "|9|1.00E+03|2.2736E+02|2.27335E+02|6.50250E-04|5.95409E+03|1.12170E-04|\n",
        "|10|1.20E+03|2.4627E+02|2.47478E+02|1.45968E+00|9.22997E+03|4.88194E-03|\n",
        "|11|1.40E+03|2.6058E+02|2.60633E+02|2.77476E-03|1.21843E+04|2.02108E-04|\n",
        "||||$\\sum$|6.82937E+01|5.41903E+04|2.32456E-01|\n",
        "\n",
        "$$\n",
        "R^2 = 1 - \\frac{6.82937 \\times 10^1}{5.41903 \\times 10^4} = 0.99874 \\\\\n",
        "\\bar{ϵ_a} = \\frac{2.32456 \\times 10^{-1}}{11} 100 \\%= 2.1132 \\%\n",
        "$$\n"
      ],
      "metadata": {
        "id": "XtY8U2BpIXNf"
      }
    },
    {
      "cell_type": "markdown",
      "source": [
        "## 5-1) Code for polynomial fit"
      ],
      "metadata": {
        "id": "kvP3V4lS-UiI"
      }
    },
    {
      "cell_type": "code",
      "source": [
        "import numpy as np\n",
        "\n",
        "def polyfit(x, y, m, printMat: bool= False):\n",
        "\n",
        "  n = len(x)\n",
        "  ny = len(y)\n",
        "\n",
        "  if n != ny:\n",
        "    print(\"number of data points in vectors x and y is not equal\")\n",
        "    return None\n",
        "\n",
        "  A = np.zeros((m+1,m+1))\n",
        "  B = np.zeros((m+1,1))\n",
        "\n",
        "  for i in range(m+1):\n",
        "    for j in range(m+1):\n",
        "      A[i,j]= np.sum(pow(x,i+j))\n",
        "\n",
        "    B[i] = np.sum( y * pow(x,i))\n",
        "\n",
        "\n",
        "  coeffs = np.linalg.solve(A,B)\n",
        "  a = coeffs.reshape((m+1),)\n",
        "\n",
        "  # constructing fitted function\n",
        "  def fittedFx(x):\n",
        "    yi = [pow(x,i) for i in range(m+1)]\n",
        "    return np.dot(a,yi)\n",
        "\n",
        "  # error calculation\n",
        "  e = np.zeros((n,))\n",
        "  er = np.zeros((n,))\n",
        "  for i in range(n):\n",
        "    e[i] = y[i] - fittedFx(x[i])\n",
        "    er[i] = e[i]/max(abs(y[i]),1.0e-15)\n",
        "\n",
        "  y_mean = np.mean(y)\n",
        "  Sr = np.sum(np.square(e) )\n",
        "  St = np.sum( np.square(y - y_mean) )\n",
        "\n",
        "  R2 = 1- Sr/St;\n",
        "  averageRelError = np.mean(abs(er))\n",
        "\n",
        "  if printMat:\n",
        "    print(\"Marix A \\n\",A)\n",
        "    print(\"Vector B \\n\", B)\n",
        "\n",
        "  return a, R2, averageRelError\n"
      ],
      "metadata": {
        "id": "jjBBmtFv-VZk"
      },
      "execution_count": 5,
      "outputs": []
    },
    {
      "cell_type": "code",
      "source": [
        "import numpy as np\n",
        "import matplotlib.pyplot as plt\n",
        "\n",
        "T = np.array([100, 200, 273.15, 298.15,\n",
        "              300, 400, 600,\n",
        "              800, 1000, 1200, 1400])\n",
        "\n",
        "Cp = np.array([55.35, 76.44, 92.3, 98.49,\n",
        "               98.95, 124.77, 169.28,\n",
        "               202.38, 227.36, 246.27, 260.58])\n",
        "\n",
        "[a0, a1, a2], R2, err = polyfit(T,Cp, 2)\n",
        "\n",
        "print(f\"a0: {a0}, a1: {a1}, a2:{a2}\")\n",
        "print(f'R2 = {R2:.5f}')\n",
        "print(f'Average absolute relative error = {err:.5f}')\n",
        "\n",
        "fx = lambda x: a0+a1*x+a2*x*x\n",
        "TT = np.linspace(100,1400, 40)\n",
        "CpPredicted = [fx(Ti) for Ti in TT]\n",
        "\n",
        "plt.scatter(T,Cp, c='r')\n",
        "plt.plot(TT,CpPredicted)\n",
        "plt.xlabel(\"Temperature [K]\")\n",
        "plt.ylabel(\"Cp [J/(mol.K)]\")\n",
        "plt.show()\n"
      ],
      "metadata": {
        "colab": {
          "base_uri": "https://localhost:8080/",
          "height": 501
        },
        "id": "1E82r6rg5BEl",
        "outputId": "a542a50c-2595-452f-e00a-18718f268aea"
      },
      "execution_count": 6,
      "outputs": [
        {
          "output_type": "stream",
          "name": "stdout",
          "text": [
            "a0: 21.78061086414977, a1: 0.2929122795451685, a2:-8.735922273471322e-05\n",
            "R2 = 0.99874\n",
            "Average absolute relative error = 0.02046\n"
          ]
        },
        {
          "output_type": "display_data",
          "data": {
            "text/plain": [
              "<Figure size 640x480 with 1 Axes>"
            ],
            "image/png": "[encoded data removed]"
          },
          "metadata": {}
        }
      ]
    },
    {
      "cell_type": "markdown",
      "source": [
        "<div align=\"center\">\n",
        "⬛ ⬛ ⬛\n",
        "</div>\n",
        "\n",
        "\n",
        "---\n",
        "\n"
      ],
      "metadata": {
        "id": "ijs8kiNyP2Qa"
      }
    },
    {
      "cell_type": "markdown",
      "source": [
        "# 🟤 6) General linear least squares"
      ],
      "metadata": {
        "id": "_3sjli-jR2kC"
      }
    },
    {
      "cell_type": "markdown",
      "source": [
        "* Consider that you have a data set and you want to fit a function over that data set. The function has the following form:\n",
        "$$\n",
        "y = a_0z_0 + a_1z_1 + a_2z_2 + ... + a_mz_m = \\sum_{j=0}^{m} a_jz_j \\tag{6-1}\n",
        "$$\n",
        "\n",
        "* If each of these $z_i$s is a function of independent variables of the data set, we can use linear regression technique to perform the fit.\n",
        "* This is the most general form of the linear least squares that includes polynomial and straight-line least squares.\n",
        "\n",
        " * For example, In polynomial fit, $z_0 = 1$, $z_1 = x$, $z_2 = x^2$, ..., $z_m = x^m$.\n",
        " * Or, in straight line fit, $z_0 = 1$, $z_1 = x$.\n",
        " * It also includes multi-variate least squares.\n"
      ],
      "metadata": {
        "id": "K-UeGP2hSWsZ"
      }
    },
    {
      "cell_type": "markdown",
      "source": [
        "## 6-1) Formulation\n",
        "* Consider that we have a data set containing $n$ samples and we want to fit the data on a curve given by Eq. (6-1).\n",
        "* We can create a $n\\times m$ matrix of **independent variables** like this:\n",
        "$$\n",
        "[Z] =\n",
        "\\begin{bmatrix}\n",
        "z_{0,1} & z_{1,1} & ... & a_{m,1} \\\\\n",
        "z_{0,2} & z_{1,2} & ... & a_{m,2} \\\\\n",
        ". \\\\ . \\\\ . \\\\\n",
        "z_{0,n} & z_{1,n} & ... & a_{m,n}\n",
        "\\end{bmatrix}_{n\\times m} \\notag\n",
        "\\tag{6-2}\n",
        "$$\n",
        " * $m$ is the number of variables in the model\n",
        " * $n$ is the number data points, and $n>m$ always holds.\n",
        "\n",
        "* The matrix of dependent variables is:\n",
        "$$\n",
        "[y]^T = [y_1,y_2,...,y_n]_{1 \\times n} \\tag{6-3}\n",
        "$$\n",
        "* The matrix of unknowns is:\n",
        "$$\n",
        "[a]^T = [a_1,a_2,...,a_m]_{1 \\times m} \\tag{6-3}\n",
        "$$\n"
      ],
      "metadata": {
        "id": "fVW3RZUbgvUF"
      }
    },
    {
      "cell_type": "markdown",
      "source": [
        "* The residual error is defined as:\n",
        "$$\n",
        "S_r = \\sum_{i=i}^n (y_i-\\sum_{j=0}^m a_jz_{ji})^2 \\tag{6-4}\n",
        "$$\n",
        "* The derivative of $S_r$ should be taken with respect to each of $a_j$ and setting the resulting equation to zero.\n",
        "* Without going into details, it can be shown that we will end up the following equation, which forms a set of linear equations with $m$ unknowns:\n",
        "$$\n",
        "[[Z]^T[Z]][a] = [Z]^T[y] \\\\ \\tag{6-5}\n",
        "$$\n",
        "\n",
        "* The solution of the above set will give model coefficients $a_i$s.\n"
      ],
      "metadata": {
        "id": "-bMOMKj7lmTR"
      }
    },
    {
      "cell_type": "markdown",
      "source": [
        "### ❓ **Example 4 (using python):**\n",
        "Consider we have a set of experimental data points on vapor pressure of ethanol and we want to fit the data over Reidel equation as follows:\n",
        "$$\n",
        "ln{P^*} = A - \\frac{B}{T} + C ln(T) + DT^2\n",
        "$$\n",
        "Obtain a set of model coefficients, {A, B, C, D} that best fits the data.\n",
        "\n",
        "|i| Temperature [K] | $P^*$ [kPa]|\n",
        "|---|:---:|:---:|\n",
        "|1\t|273.15\t|1.5932|\n",
        "|2\t|281.45\t|2.76|\n",
        "|3\t|284.75\t|3.413|\n",
        "|4\t|289.05\t|4.493|\n",
        "|5\t|294.25\t|6.199|\n",
        "|6\t|303.16\t|10.454|\n",
        "|7\t|308.18\t|13.785|\n",
        "|8\t|313.15\t|17.877|\n",
        "|9\t|319.17\t|24.257|\n",
        "|10\t|325.55\t|33.411|\n",
        "|11\t|333.15\t|46.839|\n",
        "|12\t|338.15\t|58.358|\n",
        "|13\t|343.15\t|72.273|\n",
        "|14\t|350.85\t|100.045|\n",
        "|15\t|351.7\t|102.22|\n",
        "\n",
        "**Note:** The data are obtained from [Dortmund databank](http://www.ddbst.com/en/EED/PCP/VAP_C11.php).\n"
      ],
      "metadata": {
        "id": "yrmZyzjMnCtp"
      }
    },
    {
      "cell_type": "code",
      "source": [
        "import numpy as np\n",
        "import matplotlib.pyplot as plt\n",
        "\n",
        "## Data\n",
        "T = np.array(\n",
        "    [273.15, 281.45, 284.75, 289.05,\n",
        "     294.25, 303.16, 308.18, 313.15,\n",
        "     319.17, 325.55, 333.15, 338.15,\n",
        "     343.15, 350.85, 351.7])\n",
        "Ps = np.array(\n",
        "    [1.5932, 2.76, 3.413, 4.493,\n",
        "     6.199, 10.454, 13.785, 17.877,\n",
        "     24.257, 33.411, 46.839, 58.358,\n",
        "     72.273, 100.045, 102.22])\n",
        "m = 4\n",
        "n = len(T)\n",
        "\n",
        "# General least squares\n",
        "Z = np.zeros((n,m))\n",
        "Y = np.zeros((n,1))\n",
        "\n",
        "for i in range(n):\n",
        "  Z[i,:] = [1, -1.0/T[i], np.log(T[i]), pow(T[i],2)]\n",
        "  Y[i] = np.log(Ps[i])\n",
        "\n",
        "A_coeff = np.dot(Z.T,Z)\n",
        "B_coeff = np.dot(Z.T,Y)\n",
        "A, B, C, D = np.linalg.solve(A_coeff, B_coeff)\n",
        "\n",
        "print(f\"A = {A}, B = {B}, C = {C}, D = {D}\")\n",
        "\n",
        "# Ploting the results\n",
        "PsFunction = lambda T: np.exp( A - B/T + C*np.log(T) + D*pow(T,2) )\n",
        "\n",
        "TT = np.linspace(270.0,355.0,40)\n",
        "Ps_pred = [PsFunction(Ti) for Ti in TT]\n",
        "\n",
        "plt.scatter(T,Ps, edgecolors='r', facecolors='none')\n",
        "plt.plot(TT,Ps_pred)\n",
        "plt.xlabel(\"Temperature [K]\")\n",
        "plt.ylabel(\"Vapor pressure [kPa]\")\n",
        "plt.show()"
      ],
      "metadata": {
        "colab": {
          "base_uri": "https://localhost:8080/",
          "height": 466
        },
        "id": "WTI_fDDt4kc5",
        "outputId": "5642e21b-7d9f-4835-942d-e299506c008a"
      },
      "execution_count": 7,
      "outputs": [
        {
          "output_type": "stream",
          "name": "stdout",
          "text": [
            "A = [-111.98086648], B = [1181.25118864], C = [21.41177992], D = [-4.49828163e-05]\n"
          ]
        },
        {
          "output_type": "display_data",
          "data": {
            "text/plain": [
              "<Figure size 640x480 with 1 Axes>"
            ],
            "image/png": "[encoded data removed]"
          },
          "metadata": {}
        }
      ]
    },
    {
      "cell_type": "markdown",
      "source": [
        "<div align=\"center\">\n",
        "🟫 🟫 🟫\n",
        "</div>\n",
        "\n",
        "\n",
        "---\n",
        "\n"
      ],
      "metadata": {
        "id": "8BWhgs2C-uYa"
      }
    }
  ]
}