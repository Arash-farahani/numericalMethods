{
  "nbformat": 4,
  "nbformat_minor": 0,
  "metadata": {
    "colab": {
      "provenance": [],
      "authorship_tag": "ABX9TyNMuEXepLA1w4UmQDJ7Wmhu",
      "include_colab_link": true
    },
    "kernelspec": {
      "name": "python3",
      "display_name": "Python 3"
    },
    "language_info": {
      "name": "python"
    }
  },
  "cells": [
    {
      "cell_type": "markdown",
      "metadata": {
        "id": "view-in-github",
        "colab_type": "text"
      },
      "source": [
        "<a href=\"https://colab.research.google.com/github/hamidrezanorouzi/numericalMethods/blob/main/Lectures/linearSystems_Part1.ipynb\" target=\"_parent\"><img src=\"https://colab.research.google.com/assets/colab-badge.svg\" alt=\"Open In Colab\"/></a>"
      ]
    },
    {
      "cell_type": "markdown",
      "source": [
        "### **Notes**❕\n",
        "This content forms a part of the instructional presentations for the **`numerical methods in chemical engineering`** course designed for undergraduate chemical engineering students at Amirkabir University of Technology.\n",
        "\n",
        "Feel free to utilize the information and source codes provided in this material, ensuring appropriate acknowledgment of the original document.\n",
        "\n",
        "The visual elements featured in this document have been sourced from the following origins, unless specified otherwise:\n",
        "\n",
        "* Steven C. Chapra, Applied Numerical Methods with Matlab for Engineers and Scientists, 3rd edition, McGraw-Hill (2012).\n",
        "\n",
        "\n",
        "<div align=\"center\">\n",
        "🟧 🟧 🟧\n",
        "</dive>\n",
        "\n",
        "---"
      ],
      "metadata": {
        "id": "J5VWgZjnGDwn"
      }
    },
    {
      "cell_type": "markdown",
      "source": [
        "# 🔴 1) Where do we face solving a set of linear equations?"
      ],
      "metadata": {
        "id": "_eI4X3NHGUra"
      }
    },
    {
      "cell_type": "markdown",
      "source": [
        "* **Chemical Systems (Tens to Thousands of Equations):** M&E balances are employed in diverse chemical systems such as distillation columns, adsorption columns, and chemical processes. These systems often entail solving systems of equations ranging from tens to thousands, reflecting the intricate interplay of chemical reactions and mass/energy transfers.\n",
        "\n",
        "* **Reactor Engineering (Tens of Equations):** Reactor engineering deals with systems characterized by numerous elementary reactions. Typically, tens of equations are formulated to describe reaction kinetics and species concentrations within the reactor.\n",
        "\n",
        "* **Curve Fitting (Usually Less than 10 Equations):** Curve fitting scenarios involve the determination of linear systems, typically containing fewer than ten equations. These are essential for fitting experimental data to mathematical models or functions.\n",
        "\n",
        "* **Solving ODEs and PDEs (Thousands to Millions of Equations):** Solving ordinary differential equations (ODEs) and partial differential equations (PDEs), often encountered in boundary value problems, necessitates techniques like linearization and discretization. These processes transform complex continuous problems into sets of linear equations that may range from thousands to millions in scale.\n"
      ],
      "metadata": {
        "id": "zyudnRtXG972"
      }
    },
    {
      "cell_type": "markdown",
      "source": [
        "# 🟢 2) Gauss elimination\n",
        "\n",
        "## 2-1) Gauss elimination without pivoting\n",
        "\n",
        "* Consider the following set of equations:\n",
        "$$\n",
        "[A]{x} = {B}\n",
        "$$\n",
        " where [A] is the matrix of coefficient and B is the vector of known variables and $x$ is the vector of unknowns.\n",
        "* Gauss elminination is based on the operations (on rows of the system) to convert the coefficient matrix into a upper-triangle matrix.\n",
        "$$\n",
        "[U]{x} = {B^{'}}\n",
        "$$\n",
        "\n",
        "* Then using back-substitution from the last equation to obtain the solution of the system."
      ],
      "metadata": {
        "id": "Wbao-_GRP7xw"
      }
    },
    {
      "cell_type": "markdown",
      "source": [
        "<div align=\"center\">\n",
        "<img src=\"https://drive.google.com/uc?id=1f2csAYPmDogI2vuas9KbmJ7JOyo6GcHq\" width = \"400\">\n",
        "</div>"
      ],
      "metadata": {
        "id": "q3qYCtY36k1c"
      }
    },
    {
      "cell_type": "markdown",
      "source": [
        "### Rules of for triangulation:\n",
        "\n",
        "* Any equation can be multiplied by a nonzero scalar without affecting the solution.\n",
        "* Any equation can be added to (or subtracted from) another equation without affecting the solution.\n",
        "* Any two equations can interchange positions within the set without affecting the solution.\n"
      ],
      "metadata": {
        "id": "FjKHe2p4UzvD"
      }
    },
    {
      "cell_type": "markdown",
      "source": [
        "### ❓ **Example 1:**\n",
        "Solve the following system of equations using gauss elimination.\n",
        "\n",
        "$$\n",
        "3x_1 +18 x_2+ 9x_3= 18\\\\\n",
        "2x_1 +3 x_2 +3 x_3=117\\\\\n",
        "4x_1 +1 x_2 +2 x_3=283\n",
        "$$\n",
        "\n",
        "&nbsp;\n"
      ],
      "metadata": {
        "id": "fjcfhraJDFj1"
      }
    },
    {
      "cell_type": "markdown",
      "source": [
        "💡 *Solution*\n",
        "\n",
        "\n",
        "The above set in matrix form becomes:\n",
        "$$ \\begin{bmatrix}\n",
        "3 & 18 & 9 \\\\\n",
        "2 & 3 & 3 \\\\\n",
        "4 & 1 & 2\n",
        "\\end{bmatrix}\n",
        "\\begin{bmatrix} x_1 \\\\ x_2 \\\\ x_3\\end{bmatrix} =\n",
        "\\begin{bmatrix} 18 \\\\ 117\\\\ 283 \\end{bmatrix}\n",
        "$$"
      ],
      "metadata": {
        "id": "xHWu_lQTPIem"
      }
    },
    {
      "cell_type": "markdown",
      "source": [
        "**Step 1:** Write the augmented matrix:\n",
        "\n",
        "\n",
        "\\begin{array}{ccc|c}\n",
        "3 & 18 & 9 & 18 \\\\\n",
        "2 & 3 & 3 & 117 \\\\\n",
        "4 & 1 & 2 & 283 \\\\\n",
        "\\end{array}"
      ],
      "metadata": {
        "id": "5cokIKJoOZL7"
      }
    },
    {
      "cell_type": "markdown",
      "source": [
        "**Step 2:** $a_{1,1}$ is chosen as pivot element to make elements under the pivot element zero:\n",
        "\n",
        "1) Row2 - (2/3) * Row1 → Row2\n",
        "\n",
        "\\begin{array}{ccc|c}\n",
        "3 & 18 & 9 & 18 \\\\\n",
        "0 & -9 & -3 & 105 \\\\\n",
        "4 & 1 & 2 & 283 \\\\\n",
        "\\end{array}\n",
        "\n",
        "2) Row3 - (4/3) * Row1 → Row3\n",
        "\n",
        "\\begin{array}{ccc|c}\n",
        "3 & 18 & 9 & 18 \\\\\n",
        "0 & -9 & -3 & 105 \\\\\n",
        "0 & -23 & -10 & 259 \\\\\n",
        "\\end{array}\n",
        "\n"
      ],
      "metadata": {
        "id": "Jrj0MQPrFDZt"
      }
    },
    {
      "cell_type": "markdown",
      "source": [
        "**Step 3:** $a_{2,2}$ is chosen as pivot element to make elements under the pivot element zero:\n",
        "\n",
        "1) Row3 - (23/7) * Row2 → Row3\n",
        "\n",
        "\\begin{array}{ccc|c}\n",
        "3 & 18 & 9 & 18 \\\\\n",
        "0 & -9 & -3 & 105 \\\\\n",
        "0 &  0 & \\frac{-7}{3} & \\frac{-28}{3} \\\\\n",
        "\\end{array}\n",
        "\n"
      ],
      "metadata": {
        "id": "2O4X3daSOeMG"
      }
    },
    {
      "cell_type": "markdown",
      "source": [
        "**Step 4:** Back substitution:\n",
        "\n",
        "&nbsp;\n",
        "\n",
        "$$\n",
        "3x_1+18x_2+9x_3 = 18 \\\\\n",
        "-9x_2 - 3x_3 = 105 \\\\\n",
        "-\\frac{7}{3}x_3 = \\frac{-28}{3}\n",
        "$$\n",
        "\n",
        "&nbsp;\n",
        "\n",
        "\n",
        "$$\n",
        "x_3 = 4,  x_2 = -13, x_1 = 117\n",
        "$$"
      ],
      "metadata": {
        "id": "Sp1d0__9OgB_"
      }
    },
    {
      "cell_type": "markdown",
      "source": [
        "## 2-2) Code for Gauss elimination without pivoting"
      ],
      "metadata": {
        "id": "8wwEzeaM1QXD"
      }
    },
    {
      "cell_type": "code",
      "source": [
        "import numpy as np\n",
        "\n",
        "def gaussEliminationNoPivoting(A, B):\n",
        "\n",
        "  n = len(A)\n",
        "  augMat = np.concatenate([A,B],1)\n",
        "\n",
        "  # forward pass\n",
        "  for k in range(n-1):\n",
        "\n",
        "    # making elements below the pivot element zero\n",
        "    for m in range(k+1,n):\n",
        "      augMat[m,:] -= (augMat[m,k]/augMat[k,k]) * augMat[k,:]\n",
        "\n",
        "  # back substitution\n",
        "  x = np.zeros((n,1))\n",
        "  x[n-1] = augMat[n-1,n]/augMat[n-1,n-1]\n",
        "\n",
        "  for k in range(n-2, -1, -1):\n",
        "    x[k] = (augMat[k,n] - np.dot(augMat[k,k+1:n],x[k+1:n]) )/augMat[k,k]\n",
        "\n",
        "  return x"
      ],
      "metadata": {
        "id": "TYAwEWAH10GK"
      },
      "execution_count": null,
      "outputs": []
    },
    {
      "cell_type": "code",
      "source": [
        "A = np.array([[3.0, 18 , 9],[2,3,3],[4,1,2]]);\n",
        "B = np.array([[18, 117, 283]]).T\n",
        "\n",
        "x = gaussEliminationNoPivoting(A,B)\n",
        "print(x)"
      ],
      "metadata": {
        "colab": {
          "base_uri": "https://localhost:8080/"
        },
        "id": "sDWzCL5n28Kp",
        "outputId": "9420a8da-acd8-47cd-fc20-0c9565288692"
      },
      "execution_count": null,
      "outputs": [
        {
          "output_type": "stream",
          "name": "stdout",
          "text": [
            "[[ 72.]\n",
            " [-13.]\n",
            " [  4.]]\n"
          ]
        }
      ]
    },
    {
      "cell_type": "markdown",
      "source": [
        "## 2-3) Gauss elimination with partial pivoting\n",
        "* Consider the following system of equations:\n",
        "  \n",
        "\\begin{cases}\n",
        "2x_2 + 5x_3 = 10\\\\\n",
        "x_1+ 3x_2 - x_3 = 4\\\\\n",
        "3x_1+x_2+x_3 = -2\n",
        "\\end{cases}\n",
        "\n",
        "* This will give the following form:\n",
        "\n",
        "$$ \\begin{bmatrix}\n",
        "0 & 2 & 5 \\\\\n",
        "1 & 3 & -1 \\\\\n",
        "3 & 1 & 1\n",
        "\\end{bmatrix}\n",
        "\\begin{bmatrix} x_1 \\\\ x_2 \\\\ x_3\\end{bmatrix} =\n",
        "\\begin{bmatrix} 10 \\\\ 4\\\\ -2 \\end{bmatrix}\n",
        "$$\n"
      ],
      "metadata": {
        "id": "i9PMpiJ_u-rO"
      }
    },
    {
      "cell_type": "markdown",
      "source": [
        "* In each step, before eliminating the elements below the pivot element, it is advantageous to determine the coefficient with the **largest absolute value** in the column **below the pivot element**. The rows can then be **switched** so that the largest element is the pivot element.\n",
        "\n",
        "* By rearranging rows of the augmented matrix we can obtain a diagonal dominant matrix (partial pivoting).\n",
        "\n",
        " * This reduces the possibility of division by zero.\n",
        "\n",
        " * Increases the accuracy of calculation by dividing the elements by larger values (decreasing round-off error).\n"
      ],
      "metadata": {
        "id": "q0jugQ07yKbp"
      }
    },
    {
      "cell_type": "markdown",
      "source": [
        "* Lets consider the following system of two equations. The exact solution is $x_1 = 1/3$ and $x_2 = 2/3$\n",
        "* Now lets test the solution of Gauss elemination without pivoting:"
      ],
      "metadata": {
        "id": "XVCe-AAc5h6r"
      }
    },
    {
      "cell_type": "code",
      "execution_count": null,
      "metadata": {
        "id": "5ZqlZZH4GDKM",
        "colab": {
          "base_uri": "https://localhost:8080/"
        },
        "outputId": "6a9b07a9-8617-4229-f83e-9333d28721f4"
      },
      "outputs": [
        {
          "output_type": "stream",
          "name": "stdout",
          "text": [
            "Answer is \n",
            " [[0.33336297]\n",
            " [0.66666667]]\n"
          ]
        }
      ],
      "source": [
        "A = np.array([[3.0e-12, 3.0],[1.0,1.0]]);\n",
        "B = np.array([[2.000000000001, 1]]).T\n",
        "\n",
        "x = gaussEliminationNoPivoting(A,B)\n",
        "print(\"Answer is \\n\",x)"
      ]
    },
    {
      "cell_type": "code",
      "source": [],
      "metadata": {
        "id": "g24XSdY87Bn_"
      },
      "execution_count": null,
      "outputs": []
    },
    {
      "cell_type": "markdown",
      "source": [
        "## 2-4) Code for Gauss elimination with pivoting\n"
      ],
      "metadata": {
        "id": "M5Rep1To6ANA"
      }
    },
    {
      "cell_type": "code",
      "source": [
        "import numpy as np\n",
        "\n",
        "def gaussElimination(A, B):\n",
        "  tol = 0.000001\n",
        "  #number of rows and columns\n",
        "  nr,nc = A.shape;\n",
        "  if nr!=nc:\n",
        "    print('input matrix A is not square!')\n",
        "    return None\n",
        "\n",
        "  #number of equations in the set\n",
        "  n,m = B.shape\n",
        "  if n!= nr:\n",
        "    print('A and B size mismatch')\n",
        "    return None\n",
        "\n",
        "  Aug = np.concatenate([A,B],1);\n",
        "  detA = 1;\n",
        "\n",
        "  #main loop\n",
        "  for k in range(n-1):\n",
        "\n",
        "    #first: partial pivoting\n",
        "    pElement = abs(Aug[k,k])\n",
        "    pRow = k;\n",
        "\n",
        "    #locate maximum  element in the rows below the pElement\n",
        "    for row in range(k+1,n):\n",
        "      if abs(Aug[row,k]) > pElement:\n",
        "        pElement = abs(Aug[row,k])\n",
        "        pRow = row\n",
        "\n",
        "\n",
        "    #interchanges the rows, if necessary\n",
        "    if pRow != k:\n",
        "      temp = np.array(Aug[k,:])\n",
        "      Aug[k,:] = Aug[pRow,:]\n",
        "      Aug[pRow,:] = temp\n",
        "      detA = -detA  #change of sign\n",
        "\n",
        "\n",
        "    if abs(Aug[k,k]) < tol:\n",
        "      print('Singular matrix!')\n",
        "      return None\n",
        "\n",
        "\n",
        "    # making elements below the pivot element zero\n",
        "    for m in range(k+1,n):\n",
        "      Aug[m,:] -= Aug[m,k]/Aug[k,k] * Aug[k,:]\n",
        "\n",
        "  #the last equation never checked\n",
        "  if abs(Aug[n-1,n-1]) < tol:\n",
        "    print('Singular matrix!')\n",
        "    return None\n",
        "\n",
        "  # back substitution\n",
        "  x = np.zeros((n,1))\n",
        "  x[n-1] = Aug[n-1,n]/Aug[n-1,n-1];\n",
        "  detA = detA*Aug[n-1,n-1];\n",
        "\n",
        "  for k in range(n-2, -1, -1):\n",
        "    x[k] = (Aug[k,n] - np.dot(Aug[k,k+1:n],x[k+1:n]) )/Aug[k,k]\n",
        "    detA = detA * Aug[k,k]\n",
        "\n",
        "  return x, detA;"
      ],
      "metadata": {
        "id": "9ZiNq0Xb6t22"
      },
      "execution_count": null,
      "outputs": []
    },
    {
      "cell_type": "code",
      "source": [
        "A = np.array([[3.0e-12, 3.0],[1.0,1.0]]);\n",
        "B = np.array([[2.00000000001, 1]]).T\n",
        "\n",
        "x, det = gaussElimination(A,B)\n",
        "print(\"Answer is \\n\",x)"
      ],
      "metadata": {
        "colab": {
          "base_uri": "https://localhost:8080/"
        },
        "id": "6jzZPAfa7EfR",
        "outputId": "539ace13-6e37-4ece-af57-892b9b74d480"
      },
      "execution_count": null,
      "outputs": [
        {
          "output_type": "stream",
          "name": "stdout",
          "text": [
            "Answer is \n",
            " [[0.33333333]\n",
            " [0.66666667]]\n"
          ]
        }
      ]
    }
  ]
}