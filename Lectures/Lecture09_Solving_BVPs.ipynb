{
  "nbformat": 4,
  "nbformat_minor": 0,
  "metadata": {
    "colab": {
      "provenance": [],
      "authorship_tag": "ABX9TyPnt2N4uU2yFqJnayzR2dPP",
      "include_colab_link": true
    },
    "kernelspec": {
      "name": "python3",
      "display_name": "Python 3"
    },
    "language_info": {
      "name": "python"
    }
  },
  "cells": [
    {
      "cell_type": "markdown",
      "metadata": {
        "id": "view-in-github",
        "colab_type": "text"
      },
      "source": [
        "<a href=\"https://colab.research.google.com/github/hamidrezanorouzi/numericalMethods/blob/main/Lectures/Lecture09_Solving_BVPs.ipynb\" target=\"_parent\"><img src=\"https://colab.research.google.com/assets/colab-badge.svg\" alt=\"Open In Colab\"/></a>"
      ]
    },
    {
      "cell_type": "markdown",
      "source": [
        "# **Solving Boundary Value Problems**"
      ],
      "metadata": {
        "id": "jp9WfBVmiNm3"
      }
    },
    {
      "cell_type": "markdown",
      "source": [
        "### **Notes**❕\n",
        "This content forms a part of the instructional presentations for the **`numerical methods in chemical engineering`** course designed for undergraduate chemical engineering students at Amirkabir University of Technology.\n",
        "\n",
        "Feel free to utilize the information and source codes provided in this material, ensuring appropriate acknowledgment of the original document.\n",
        "\n",
        "The visual elements featured in this document have been sourced from the following sources, unless specified otherwise:\n",
        "\n",
        "* Steven C. Chapra, Applied Numerical Methods with Matlab for Engineers and Scientists, 3rd edition, McGraw-Hill (2012).\n",
        "\n",
        "\n",
        "<div align=\"center\">\n",
        "🟪 🟪 🟪\n",
        "</dive>\n",
        "\n",
        "---"
      ],
      "metadata": {
        "id": "HKYl2J2LijoI"
      }
    },
    {
      "cell_type": "markdown",
      "source": [
        "# 🔵 1) What is a boundary value problem (ODE)?\n",
        "* In general form, it is:\n",
        "$$\n",
        "\\frac{d^2y}{dx^2} = f(x,y,\\frac{dy}{dx})\n",
        "\\tag{1-1}\n",
        "$$\n",
        "* where $x$ is independent variable $a\\le x\\le b$ and $y$ is dependent variable.\n",
        "* The counditions for solving this ODE are defined at $a$ and $b$. It can be a combination of the following:\n",
        " * **Dirichlet** boundary condition (constant value):\n",
        "  $$ y(a) = Y_a \\ \\ \\text{or} \\ \\ \\ y(b) = Y_b \\tag{1-2}$$\n",
        "   in a heat transfer problem, it is called constant temperature condition.\n",
        "\n",
        " * **Neumann** boundary condition (constant flux):\n",
        " $$\n",
        " \\frac{dy}{dx}|_{x=a} = D_a  \\ \\ \\text{or} \\ \\ \\ \\frac{dy}{dx}|_{x=b} = D_b \\tag{1-3}\n",
        " $$\n",
        "  in a heat transfer problem, it can be used for isolation or constant heat flux condition.\n",
        " * **Mixed** boundary condition:\n",
        " $$\n",
        " c_1\\frac{dy}{dx}|_{x=a} + c_2y(a) = C_a \\ \\text{or} \\\\\n",
        " c_3\\frac{dy}{dx}|_{x=b} + c_4y(b) = C_b \\tag{1-4}\n",
        " $$\n",
        " in a heat transfer problem, it is used when a solid surface has convective heat trasnfer with a fluid.\n",
        "\n"
      ],
      "metadata": {
        "id": "e13dfTc8u-aB"
      }
    },
    {
      "cell_type": "markdown",
      "source": [
        "<div align=\"center\">\n",
        "🟦 🟦 🟦\n",
        "</div>\n",
        "\n",
        "\n",
        "---\n",
        "\n"
      ],
      "metadata": {
        "id": "5AmzZgNDuw9o"
      }
    },
    {
      "cell_type": "markdown",
      "source": [
        "# 2) Shooting method"
      ],
      "metadata": {
        "id": "BihjiLedvivG"
      }
    },
    {
      "cell_type": "markdown",
      "source": [
        "* Consider the following problem:\n",
        "$$\n",
        "\\frac{d^2y}{dx^2} = f(x,y,\\frac{dy}{dx}) \\ \\ \\ \\text{with} \\ \\ y(a)=Y_a, \\ \\ y(b) = Y_b\n",
        "$$\n",
        "* **Step1** (transforming to canonical form): We can convert this equation into two first-order differntial equations using the change of variables:\n",
        "$$\n",
        "\\begin{cases}\n",
        "\\frac{dy}{dx} = w & y(a) = Y_a \\\\\n",
        "\\frac{dw}{dx} = f(x,y,w) & \\text{no initial condition for }w\n",
        "\\end{cases}\n",
        "$$\n",
        "* **Step2** (first guess/estimate):  Solve until you get a solution at $x = b$, and you obtain $y_{b1}$, then compare.\n",
        "$$\n",
        "w(a) = W_1\n",
        "$$\n",
        "* **Step3** (second guess/estimate): Solve until you get a solution at $x=b$, and you obtain $y_{b2}$, then compare.\n",
        "$$\n",
        "w(a) = W_2\n",
        "$$\n",
        "* **Step4:** estimate a new value for w(a) based on two previous estimates:\n",
        "$$\n",
        "W_{new} = W_1+(Y_b - y_{b1})\\frac{W_2-W_1}{y_{b2}-y_{b1}}\n",
        "$$\n",
        "* **Step5:** solve again upto $x=b$ to obtain $y_{b3}$ and compare:\n",
        " * $\\epsilon_a = |\\frac{y_{b3}-Y_b}{Y_b}|$\n",
        " * if $\\epsilon_a < tol ⇒$ **finished**.\n",
        " * otherwise, switch the third guess with either of the first or second guess and goto **step4**.\n"
      ],
      "metadata": {
        "id": "_o8_GVQGv-1R"
      }
    },
    {
      "cell_type": "markdown",
      "source": [
        "<div align=\"center\">\n",
        "<img src=\"https://drive.google.com/uc?id=1tkn4PIOyx0t_69IcbB2C1P9_jRyX3dYI\" width=\"500\">\n",
        "</div>"
      ],
      "metadata": {
        "id": "65AUYLm6Bpfs"
      }
    },
    {
      "cell_type": "markdown",
      "source": [
        "### ❓ **Example 1:**\n",
        "Solve this equation using shooting method.\n",
        "\n",
        "$$\n",
        "\\frac{d^2T}{dx^2} + 0.05(200-T)=0  \\\\\n",
        "T(0) = 300 K  \\\\\n",
        "T(10) = 400 K\n",
        "$$"
      ],
      "metadata": {
        "id": "uAhVDZME25C7"
      }
    },
    {
      "cell_type": "markdown",
      "source": [
        "<div align=\"center\">\n",
        "<img src=\"https://drive.google.com/uc?id=1mcIVusDQgJNdNPTEzIokMp-oMlf1-6cS\" width=\"500\">\n",
        "</div>"
      ],
      "metadata": {
        "id": "iu6ugg2YCRyO"
      }
    },
    {
      "cell_type": "markdown",
      "source": [
        "💡 *Solution*\n",
        "\n",
        "**Step1** (transforming to canonical form)\n",
        "$$\n",
        "\\begin{cases}\n",
        "\\frac{dT}{dx} = z & T(0) = 300 \\\\\n",
        "\\frac{dz}{dx} = -0.05(200-T) & ❔\n",
        "\\end{cases}\n",
        "$$\n",
        "**Step2** (first guess)\n",
        "$$\n",
        "Z_1 = -5 ⇒ T_{b1} = 569.754\n",
        "$$\n",
        "**Step3** (second guess)\n",
        "$$\n",
        "Z_2 = -20 ⇒ T_{b2} = 259.513\n",
        "$$\n",
        "**Step4&5** (new estimate)\n",
        "$$\n",
        "Z_{new} = -5 + \\frac{-20 -(-5)}{259.513 - 569.75}(400 - 569.75) = -13.2075\n",
        "$$\n",
        "\n",
        "&nbsp;\n",
        "\n",
        "Solving with this new $Z(0) = -13.2075$ will give $T(10) = 400.000777$.\n",
        "We found the solution!"
      ],
      "metadata": {
        "id": "nXkeyF1n39al"
      }
    },
    {
      "cell_type": "code",
      "execution_count": 13,
      "metadata": {
        "colab": {
          "base_uri": "https://localhost:8080/",
          "height": 0
        },
        "id": "Eewt8diLiMpI",
        "outputId": "3033a3ee-d516-45fa-e5d7-85fc55a51c06"
      },
      "outputs": [
        {
          "output_type": "stream",
          "name": "stdout",
          "text": [
            "T at x = 10 is : 400.00077670448013\n"
          ]
        }
      ],
      "source": [
        "import scipy.integrate as Int\n",
        "\n",
        "def odeSystemExp1(t, y):\n",
        "  T , z = y\n",
        "  return [z, -0.05*(200-T)]\n",
        "\n",
        "z_geuss = -13.2075;\n",
        "sol = Int.solve_ivp(odeSystemExp1, [0,10], [300, z_geuss],rtol=1.0e-5)\n",
        "print(\"T at x = 10 is :\", sol.y[0,-1])"
      ]
    },
    {
      "cell_type": "code",
      "source": [
        "import scipy.integrate as Int\n",
        "import matplotlib.pyplot as plt\n",
        "\n",
        "sol1 = Int.solve_ivp(odeSystemExp1, [0,10], [300, -5],rtol=1.0e-5)\n",
        "sol2 = Int.solve_ivp(odeSystemExp1, [0,10], [300, -20],rtol=1.0e-5)\n",
        "sol3 = Int.solve_ivp(odeSystemExp1, [0,10], [300, -13.2075],rtol=1.0e-5)\n",
        "\n",
        "plt.scatter(sol1.t, sol1.y[0,:], c='r')\n",
        "plt.scatter(sol2.t, sol2.y[0,:], c='b')\n",
        "plt.scatter(sol3.t, sol3.y[0,:], c='g')\n",
        "plt.legend([\"solution with z(0)=-5\",\n",
        "           \"solution with z(0)=-20\",\n",
        "           \"solution with z(0)=-13.2075\"])\n",
        "plt.grid(True)\n",
        "plt.show()"
      ],
      "metadata": {
        "colab": {
          "base_uri": "https://localhost:8080/",
          "height": 430
        },
        "id": "0XRniCB_94I5",
        "outputId": "ce318159-b48c-4f1c-8841-a8a1cb4db05c"
      },
      "execution_count": 19,
      "outputs": [
        {
          "output_type": "display_data",
          "data": {
            "text/plain": [
              "<Figure size 640x480 with 1 Axes>"
            ],
            "image/png": "[encoded data removed]"
          },
          "metadata": {}
        }
      ]
    },
    {
      "cell_type": "markdown",
      "source": [
        "### ❓ **Example 2:**\n",
        "Solve this equation using shooting method.\n",
        "\n",
        "$$\n",
        "\\frac{d^2T}{dx^2} + 0.05(200-T)=0  \\\\\n",
        "\\frac{dT}{dx}(0) = \\frac{1}{200}(T(0)-200)    \\\\\n",
        "T(10) = 400 K\n",
        "$$"
      ],
      "metadata": {
        "id": "leOwQzAF_26P"
      }
    },
    {
      "cell_type": "markdown",
      "source": [
        "<div align=\"center\">\n",
        "<img src=\"https://drive.google.com/uc?id=1EfSF7gOP8lnCiRJ6pDxsE-TK2TGMwLWs\" width=\"500\">\n",
        "</div>"
      ],
      "metadata": {
        "id": "WP3j7B_TCisL"
      }
    },
    {
      "cell_type": "markdown",
      "source": [
        "💡 *Solution*\n",
        "\n",
        "**Step1** (transforming to canonical form)\n",
        "$$\n",
        "\\begin{cases}\n",
        "\\frac{dT}{dx} = z & ❔ \\\\\n",
        "\\frac{dz}{dx} = -0.05(200-T) & z(0) = \\frac{1}{200}(T(0)-200)\n",
        "\\end{cases}\n",
        "$$\n",
        "\n",
        "**Step2** (first guess): the guess for T at $x = 0$\n",
        "$$\n",
        "T_1 = 300 ⇒ z(0) = \\frac{1}{200}(300-200) = 0.5\n",
        "$$\n",
        "If we integrate the above equations up to $x=10$ we will get $T(10) = T_{b1} = 683.51$.\n",
        "\n",
        "**Step3** (second guess): the guess for T at $x=0$:\n",
        "$$\n",
        "T_2 = 250 ⇒ z(0) = \\frac{1}{200}(250-200) = 0.25\n",
        "$$\n",
        "If we integrate the above equations up to $x=10$ we will get $T(10) = T_{b2} = 441.75$.\n",
        "\n",
        "**Step4&5** (new estimate):\n",
        "$$\n",
        "T_{new} = 300 + \\frac{250-300}{441.75-683.51}(400 - 683.51) = 241.365\n",
        "$$\n",
        "Solving with new $T(0) = 241.365$ upto x=10, we get $T(10) = 400.0038$.\n",
        "This is close enough to 400, so we stop the solution here."
      ],
      "metadata": {
        "id": "GbTsqVoUEZ9E"
      }
    },
    {
      "cell_type": "code",
      "source": [
        "import scipy.integrate as Int\n",
        "\n",
        "def odeSystemExp1(t, y):\n",
        "  T , z = y\n",
        "  return [z, -0.05*(200-T)]\n",
        "\n",
        "T_guess = 241.365;\n",
        "z_0 = 1.0/200.0*(T_guess - 200)\n",
        "sol = Int.solve_ivp(odeSystemExp1, [0,10], [T_guess, z_0],rtol=1.0e-5)\n",
        "print(\"T at x = 10 is :\", sol.y[0,-1])"
      ],
      "metadata": {
        "colab": {
          "base_uri": "https://localhost:8080/",
          "height": 0
        },
        "id": "gzO68aXW90uN",
        "outputId": "258c4653-c4c7-4d51-c19a-1ab3f92ac309"
      },
      "execution_count": 26,
      "outputs": [
        {
          "output_type": "stream",
          "name": "stdout",
          "text": [
            "T at x = 10 is : 400.00385678339063\n"
          ]
        }
      ]
    },
    {
      "cell_type": "markdown",
      "source": [
        "# 3) Finite difference method ODE (BVP)\n",
        "* Conside an ODE with boundary conditions that holds in $a\\le x \\le b$.\n",
        "* We divide this domain in equally-spaced intervals. These intervals are separated by $Δx$ and the ends are repesented by nodes.\n",
        "* Since the ODE holds on every point in domain, it also hold on nodes.\n",
        "* We use finite difference approximations for estimating the derivatives."
      ],
      "metadata": {
        "id": "TO4trNz5JA4Y"
      }
    },
    {
      "cell_type": "markdown",
      "source": [
        "* For example consider the 1D heat equation in a rod.\n",
        "$$\n",
        "\\frac{d^2T}{dx^2} + 0.05(200-T)=0  \\\\\n",
        "T(0) = 300 K  \\\\\n",
        "T(10) = 400 K\n",
        "\\tag{3-1}\n",
        "$$\n",
        "* We divide $x$ length  into $n$ intervals:\n",
        " * We will have $n+1$ nodes\n",
        " * Temperatures at the first node and the last node are are known (boundary conditions)\n",
        " * Temperatures at $n-1$ nodes are unknown.  \n",
        "<div align=\"center\">\n",
        "<img src=\"https://drive.google.com/uc?id=1dj-Rflc9y3i9lqPgfb_I_Wwqm0Fhu5Ea\" width=\"500\">\n",
        "</div>\n",
        "\n"
      ],
      "metadata": {
        "id": "SRqrkgPYVmFC"
      }
    },
    {
      "cell_type": "markdown",
      "source": [
        "* We use finite difference formulas for evaluating the derivatives for node $i$:\n",
        "$$\n",
        "\\frac{d^2T}{dx^2} ≃ \\frac{T_{i+1}-2T_i+T_{i-1}}{Δx^2}\n",
        "\\tag{3-2}\n",
        "$$\n",
        "\n",
        "* This is substituted into the ODE and we get:\n",
        "$$\n",
        "\\frac{T_{i+1}-2T_i+T_{i-1}}{Δx^2} + 0.05(200-T_i)=0\n",
        "\\tag{3-3}\n",
        "$$\n",
        "* re-arranging the above equation will give:\n",
        "$$\n",
        "-T_{i-1} +(2+0.05Δx^2)T_i - T_{i+1} = 10 Δx^2\n",
        "\\tag{3-4}\n",
        "$$\n",
        "* We can write the above equation for n-1 internal nodes and this is equal to the number of unknown temperatures.\n",
        "* The above equation forms a set of linear equations whose solution will give the temperature distribution in the rod."
      ],
      "metadata": {
        "id": "9jxrQ_WjZndv"
      }
    },
    {
      "cell_type": "markdown",
      "source": [
        "### ❓ **Example 3:**\n",
        "\n",
        "Solve the following equation using finite difference method with $\\Delta x = 2 \\ m$.\n",
        "$$\n",
        "\\frac{d^2T}{dx^2} + 0.05(200-T)=0  \\\\\n",
        "T(0) = 300 K  \\\\\n",
        "T(10) = 400 K\n",
        "$$\n"
      ],
      "metadata": {
        "id": "JumPGqfrJHIU"
      }
    },
    {
      "cell_type": "markdown",
      "source": [
        "💡 *Solution*\n",
        "\n",
        "Since $Δx = 2$, we have 6 nodes, indexed by $i=0,1, ...,5$.\n",
        "\n",
        "Nodes 0 and 5 are boundary nodes and their temperatures are known by boundary conditions.\n",
        "$$\n",
        "T_0 = 300 \\\\\n",
        "T_5 = 400\n",
        "$$\n",
        "\n",
        "using Eq. (3-4) and setting $Δx = 2$, we get:\n",
        "$$\n",
        "-T_{i-1} +2.2T_i - T_{i+1} = 40\n",
        "$$\n",
        "\n",
        "* For $i=1$:\n",
        "$$\n",
        "-T_0 + 2.2T_1-T_2 = 40 ⇒ 2.2T_1-T_2 = 340\n",
        "$$\n",
        "* For $i=4$:\n",
        "$$\n",
        "-T_3 + 2.2T_4-T_5 = 40 ⇒ -T_3 + 2.2T_4 = 440\n",
        "$$\n",
        "\n",
        "* For the rest of nodes:\n",
        "$$\n",
        "i = 2 ⇒ -T_1 +2.2T_2 - T_3 = 40   \\\\\n",
        "i = 3 ⇒ -T_2 +2.2T_3 - T_4 = 40\n",
        "$$\n",
        "\n"
      ],
      "metadata": {
        "id": "1NnIkOM5cJ_C"
      }
    },
    {
      "cell_type": "markdown",
      "source": [
        "* The above equations form a set that should be solved.\n",
        "$$\n",
        "\\begin{bmatrix}\n",
        " 2.2 & -1 & 0 & 0 \\\\\n",
        " -1  & 2.2& -1& 0 \\\\\n",
        " 0 & -1 & 2.2 & -1 \\\\\n",
        " 0 & 0 & -1 & 2.2\n",
        "\\end{bmatrix}\n",
        "\\begin{bmatrix}\n",
        "T_1 \\\\ T_2 \\\\ T_3 \\\\ T_4\n",
        "\\end{bmatrix}\n",
        "=\n",
        "\\begin{bmatrix}\n",
        "340 \\\\ 40 \\\\ 40\\\\ 440\n",
        "\\end{bmatrix}\n",
        "$$\n",
        "The solution of the above set is:\n",
        "$$\n",
        "T =\n",
        "\\begin{bmatrix}\n",
        "283.2660 \\\\\n",
        "283.1853 \\\\\n",
        "299.7416 \\\\\n",
        "336.2462\n",
        "\\end{bmatrix}\n",
        "$$\n",
        "\n"
      ],
      "metadata": {
        "id": "DfKzv6QqpRl7"
      }
    }
  ]
}