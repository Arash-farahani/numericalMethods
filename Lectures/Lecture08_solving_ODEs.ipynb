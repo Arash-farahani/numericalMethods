{
  "nbformat": 4,
  "nbformat_minor": 0,
  "metadata": {
    "colab": {
      "provenance": [],
      "toc_visible": true,
      "authorship_tag": "ABX9TyM/tzHlbboS2WajO3UQAn53",
      "include_colab_link": true
    },
    "kernelspec": {
      "name": "python3",
      "display_name": "Python 3"
    },
    "language_info": {
      "name": "python"
    }
  },
  "cells": [
    {
      "cell_type": "markdown",
      "metadata": {
        "id": "view-in-github",
        "colab_type": "text"
      },
      "source": [
        "<a href=\"https://colab.research.google.com/github/hamidrezanorouzi/numericalMethods/blob/main/Lectures/Lecture08_solving_ODEs.ipynb\" target=\"_parent\"><img src=\"https://colab.research.google.com/assets/colab-badge.svg\" alt=\"Open In Colab\"/></a>"
      ]
    },
    {
      "cell_type": "markdown",
      "source": [
        "### **Notes**❕\n",
        "This content forms a part of the instructional presentations for the **`numerical methods in chemical engineering`** course designed for undergraduate chemical engineering students at Amirkabir University of Technology.\n",
        "\n",
        "Feel free to utilize the information and source codes provided in this material, ensuring appropriate acknowledgment of the original document.\n",
        "\n",
        "The visual elements featured in this document have been sourced from the following sources, unless specified otherwise:\n",
        "\n",
        "* Steven C. Chapra, Applied Numerical Methods with Matlab for Engineers and Scientists, 3rd edition, McGraw-Hill (2012).\n",
        "\n",
        "\n",
        "<div align=\"center\">\n",
        "🟪 🟪 🟪\n",
        "</dive>\n",
        "\n",
        "---"
      ],
      "metadata": {
        "id": "_XXaVOuh7Qh-"
      }
    },
    {
      "cell_type": "markdown",
      "source": [
        "# 🔴 1) Where do we face with solving ODEs?"
      ],
      "metadata": {
        "id": "TJMfL4s07aOK"
      }
    },
    {
      "cell_type": "markdown",
      "source": [
        "## 1-1) Chemical Reactor Modeling (from a few to tens of equations)\n",
        "* ODEs are used to model and simulate chemical reactions in reactors.\n",
        "\n",
        "<table width=\"100%\">\n",
        "<tr>\n",
        "<td width = \"65%\">\n",
        "\n",
        "* For example, the kinetics of a chemical reaction in a batch reactor can be described using ODEs to predict how concentrations of reactants and products change over time within the reactor.\n",
        "Certainly! Let's consider a chemical reactor with two competing reactions:\n",
        "\n",
        "1. **Reaction 1:** A + B → C\n",
        "2. **Reaction 2:** C → D\n",
        "\n",
        "\n",
        "* We can describe the concentrations of the species A, B, C, and D over time using a system of ODEs:\n",
        "\n",
        "\\begin{aligned}\n",
        "\\frac{d[A]}{dt} &= -k_1[A][B] \\\\\n",
        "\\frac{d[B]}{dt} &= -k_1[A][B] \\\\\n",
        "\\frac{d[C]}{dt} &= k_1[A][B] - k_2[C] \\\\\n",
        "\\frac{d[D]}{dt} &= k_2[C] \\\\\n",
        "\\end{aligned}\n",
        "\n",
        "\n",
        "</td>\n",
        "<td>\n",
        "<div align = \"center\">\n",
        "<img src = \"https://drive.google.com/uc?id=1KZBPBqW-yKlTQnqDhtMVmEYByhVMiK5Q\" width =\"200\">\n",
        "</div>\n",
        "</td>\n",
        "</tr>\n",
        "</table>\n",
        "\n",
        "\n",
        "* These equations describe how the concentrations of A, B, C, and D change over time due to the competing reactions.\n",
        "\n",
        "* This system of ODEs can be solved numerically to predict how the concentrations of A, B, C, and D evolve over time in the chemical reactor as the reactions occur.\n",
        "\n"
      ],
      "metadata": {
        "id": "YCXE5jSpOQtP"
      }
    },
    {
      "cell_type": "markdown",
      "source": [
        "## 1-2) Heat transfer in a sphere (one equation)\n",
        "\n",
        "<table width=\"100%\">\n",
        "<tr>\n",
        "<td width = \"65%\">\n",
        "\n",
        "* The ODE for lumped heat transfer in a solid sphere can be written as follows:\n",
        "\n",
        " $$\\rho V C_p \\frac{dT}{dt} = h A_s (T_{∞} - T)$$\n",
        "\n",
        " Here:\n",
        " - $T$ is the temperature of the solid sphere as a function of time $t$ (the dependent variable).\n",
        " - $\\rho$ is the density of the material.\n",
        " - $V$ is the volume of the sphere.\n",
        " - $C_p$ is the specific heat capacity of the material.\n",
        "\n",
        " - $h$ is the convective heat transfer coefficient between the sphere's surface and the surrounding fluid.\n",
        " - $A_s$ is the surface area of the sphere.\n",
        " - $T_{∞}$ is the temperature of the surrounding fluid (often assumed to be constant).\n",
        "\n",
        "* Solving this ODE allows you to predict how the temperature of the solid sphere evolves over time when subjected to convective heat transfer.\n",
        "\n",
        "</td>\n",
        "<td>\n",
        "<div align = \"center\">\n",
        "<img src = \"https://drive.google.com/uc?id=1pe2gJX5_w3H8x69ydZPyojlX3rYHCMvL\" width =\"300\">\n",
        "</div>\n",
        "</td>\n",
        "</tr>\n",
        "</table>\n",
        "\n",
        "\n",
        "\n",
        "\n",
        "\n"
      ],
      "metadata": {
        "id": "JO8WHSCLTOEu"
      }
    },
    {
      "cell_type": "markdown",
      "source": [
        "## 1-3) Heat Transfer (tens to thousands equations)\n",
        "* You have a one-dimensional solid rod of length $L$, and you want to model the temperature distribution along the rod as heat is conducted through it, $T(x, t)$:\n",
        "\n",
        " $$\\rho c \\frac{\\partial T}{\\partial t} = \\frac{\\partial}{\\partial x}\\left(k \\frac{\\partial T}{\\partial x}\\right)$$\n",
        "\n",
        " Here:\n",
        " - $T(x, t)$ is the temperature as a function of position $x$ along the rod and time $t$.\n",
        " - $\\rho$ is the density of the material.\n",
        " - $c$ is the specific heat capacity of the material.\n",
        " - $k$ is the thermal conductivity of the material.\n",
        "\n",
        "\n",
        "\n",
        "<div align=\"center\">\n",
        "<img src=\"https://drive.google.com/uc?id=1fSBtHdpahzyAET2SDMlGMc_wD4wT-k8P\" width =\"500\">\n",
        "</div>\n"
      ],
      "metadata": {
        "id": "uTFGqdNoOwwh"
      }
    },
    {
      "cell_type": "markdown",
      "source": [
        "* **Solution (method of lines):** You can discretize the rod into small segments and approximate the derivatives with finite differences. This will convert the PDE into a system of ODEs. For example, using the finite-difference method, you can write an ODE for each segment of the rod:\n",
        "\n",
        "$$\\frac{dT_i}{dt} = \\frac{k}{\\rho c}\\left(\\frac{T_{i+1} - 2T_i + T_{i-1}}{\\Delta x^2}\\right)$$\n",
        "\n",
        "Here:\n",
        "- $T_i$ is the temperature at the $i$-th segment.\n",
        "- $\\Delta x$ is the length of each segment.\n"
      ],
      "metadata": {
        "id": "02Krj-6aVdOR"
      }
    },
    {
      "cell_type": "markdown",
      "source": [
        "# 🟡 2) Overview of one-step integration of ODEs\n"
      ],
      "metadata": {
        "id": "Ncs8me4Et1NO"
      }
    },
    {
      "cell_type": "markdown",
      "source": [
        "* An ODE can be expressed as:\n",
        " $$\n",
        "\\begin{aligned}\n",
        "y^{'} &= \\frac{dy}{dt} = f(t,y)  \\ \\ \\ \\text{or} \\\\  y^{'} &= \\frac{dy}{dx} = f(x,y)\n",
        "\\end{aligned}\n",
        "\\tag{2-1}\n",
        " $$\n",
        " Here,\n",
        " * $y$ is dependent vairable, and\n",
        " * $x$ and $t$ are dependent variables.\n",
        "\n",
        "* In general, **one-step integration** methods can be formulated as:\n",
        "$$\n",
        "new \\ value = old \\ value + step \\ size × slope\n",
        "\\tag{2-2}\n",
        "$$\n",
        "* and in mathematical terms:\n",
        "$$\n",
        "y_{i+1} = y_i + h ϕ\n",
        "\\tag{2-3}\n",
        "$$\n",
        " Here:\n",
        " * $y_i$ is the value dependent variable at $x_i$\n",
        " * $y_{i+1}$ is the new value of dependent variable at $x_{i+1} = x_i + h$.\n",
        " * $\\phi$ is the increament function.\n",
        " * $h$ is step size for integration."
      ],
      "metadata": {
        "id": "fWnDR__Et_x0"
      }
    },
    {
      "cell_type": "markdown",
      "source": [
        "<div align=\"center\">\n",
        "🟨 🟨 🟨\n",
        "</div>\n",
        "\n",
        "\n",
        "---\n",
        "\n"
      ],
      "metadata": {
        "id": "mFN2mM9J5n6_"
      }
    },
    {
      "cell_type": "markdown",
      "source": [
        "# 🟢 3) Euler's mehtod"
      ],
      "metadata": {
        "id": "R6EBP35GxpWm"
      }
    },
    {
      "cell_type": "markdown",
      "source": [
        "<table width=\"100%\">\n",
        "<tr>\n",
        "<td width = \"60%\">\n",
        "\n",
        "* The first derivative provides a direct estimate of the slope at $t_i$:\n",
        "\n",
        "$$\n",
        "\\begin{aligned}\n",
        "\\phi &= f(t_i,y_i)  \\\\\n",
        "y_{i+1} &= y_i + f(t_i,y_i) h\n",
        "\\end{aligned}\n",
        "\\tag{3-1}\n",
        "$$\n",
        "\n",
        "</td>\n",
        "<td>\n",
        "<div align = \"center\">\n",
        "<img src = \"https://drive.google.com/uc?id=1ab4HRwjkkTpOPfOveD-1rzDlgeY_Wsb4\" width =\"500\">\n",
        "</div>\n",
        "</td>\n",
        "</tr>\n",
        "</table>\n",
        "\n"
      ],
      "metadata": {
        "id": "nuIh7GMwMGla"
      }
    },
    {
      "cell_type": "markdown",
      "source": [
        "### ❓ **Example 1:**\n",
        "Integrate the following equation using Euler’s method in the range [0,4] with $h = 1$ and $y(0) = 2$. Compare your results with the exact solution, $y=e^{-0.5 t} (-1.07692 + 3.07692 e^{1.3 t})$.\n",
        "$$\n",
        "y^{'}=4e^{0.8t}-0.5y\n",
        "$$\n",
        "\n"
      ],
      "metadata": {
        "id": "mmCXkNY1NdUv"
      }
    },
    {
      "cell_type": "markdown",
      "source": [
        "💡 *Solution*\n",
        "\n"
      ],
      "metadata": {
        "id": "o5vVmnsLdRSU"
      }
    },
    {
      "cell_type": "markdown",
      "source": [
        "## 2-1) Code for Euler's method"
      ],
      "metadata": {
        "id": "N4qBKnILdmzI"
      }
    },
    {
      "cell_type": "code",
      "execution_count": 26,
      "metadata": {
        "id": "MzIzNgG764Rs"
      },
      "outputs": [],
      "source": [
        "import numpy as np\n",
        "\n",
        "def EulerMethod(dfx, y0, a, b , n):\n",
        "\n",
        "  h = (b-a)/n\n",
        "\n",
        "  y = np.zeros((n+1,))\n",
        "  x = np.zeros((n+1,))\n",
        "\n",
        "  y[0] = y0;\n",
        "  x[0] = a;\n",
        "\n",
        "  for i in range(n):\n",
        "    y[i+1] = y[i] + h * dfx(x[i],y[i])\n",
        "    x[i+1] = a + (i+1)*h;\n",
        "\n",
        "  return y, x"
      ]
    },
    {
      "cell_type": "code",
      "source": [
        "import matplotlib.pyplot as plt\n",
        "\n",
        "# ode\n",
        "example1Dfx = lambda t,y: 4*np.exp(0.8*t) - 0.5*y\n",
        "# solution of ode\n",
        "y , t = EulerMethod(example1Dfx, 2.0, 0.0, 4.0, 4)\n",
        "\n",
        "# exact solution\n",
        "fx_exact = lambda t : np.exp(-0.5*t) * (-1.07692 + 3.07692 * np.exp(1.3*t))\n",
        "tt = np.linspace(0,4,20)\n",
        "y_exact = [fx_exact(ti) for ti in tt]\n",
        "\n",
        "# plot\n",
        "plt.plot(tt,y_exact)\n",
        "plt.scatter(t,y,c='c')\n",
        "plt.legend([\"Exact solution\", \"Euler's method estimate\"])\n",
        "plt.show()"
      ],
      "metadata": {
        "colab": {
          "base_uri": "https://localhost:8080/",
          "height": 430
        },
        "id": "-i5OBfSKdyc6",
        "outputId": "5c67d24a-eef5-45f4-8524-db1af17db2b3"
      },
      "execution_count": null,
      "outputs": [
        {
          "output_type": "display_data",
          "data": {
            "text/plain": [
              "<Figure size 640x480 with 1 Axes>"
            ],
            "image/png": "[encoded data removed]"
          },
          "metadata": {}
        }
      ]
    },
    {
      "cell_type": "markdown",
      "source": [
        "## 3-2) Error analysis of Euler method\n",
        "* The truncation error in the solution of IVPs composed of two parts:\n",
        " * **Local truncation error**: results from the application of integration formula over a single step.\n",
        " * **Propagated truncation error**: results from the approximates produced in the previous steps\n",
        "\n",
        "* The sum of the two (local and propagated) is the **global truncation error**.\n",
        "\n",
        "* Using Taylor series expansion we have:\n",
        "$$\n",
        "\\begin{aligned}\n",
        "y_{i+1} &= y_i + y^{'}_ih + \\frac{y^\"_i}{2!}h^2 + ...+\\frac{y^{(n)}_i}{n!}h^n+R_n  \\\\\n",
        "R_n &= \\frac{y^{(n+1)}_i(ξ)}{(n+1)!}h^{n+1}\n",
        "\\end{aligned}\n",
        "\\tag{3-2}\n",
        "$$\n",
        "\n",
        "* where $O(h^{n+1})$ specifies that the **local truncation error** is proportional to the step size raised to the (n + 1)th power.\n"
      ],
      "metadata": {
        "id": "iSypr51DkcTF"
      }
    },
    {
      "cell_type": "markdown",
      "source": [
        "* By comparing Eq. (3-2) with Euler's method equation we can realize that\n",
        "\n",
        "$$\n",
        "E_t =  \\frac{y^\"_i}{2!}h^2 + ...+\\frac{y^{(n)}_i}{n!}h^n+ O(h^{n+1})  \n",
        "\\tag{3-3}\n",
        "$$\n",
        "* By neglecting higher order terms comparing the term including $h^2$, we have\n",
        "$$\n",
        "E_a =  \\frac{f^{'}(t_i,y_i)}{2!}h^2 \\\\\n",
        "\\text{or} \\\\\n",
        "E_a = O(h^2) \\tag{3-4}\n",
        "$$\n",
        "\n",
        "* Euler's method has **local trunction error of $O(h^2)$**.\n",
        "\n",
        "* Considering $h = \\frac{(b-a)}{n}$, the summation of n time integeration steps becomes:\n",
        " $$\n",
        " global \\ error ≈ n \\times O(h^2) ≈ \\frac{b-a}{h}O(h^2) ≈ O(h) \\tag{3-5}\n",
        " $$\n",
        "\n",
        "* Euler's method has **global trunction error of $O(h)$**.\n"
      ],
      "metadata": {
        "id": "YFn_Q3CDeU55"
      }
    },
    {
      "cell_type": "markdown",
      "source": [
        "<div align=\"center\">\n",
        "🟩 🟩 🟩\n",
        "</div>\n",
        "\n",
        "\n",
        "---\n",
        "\n"
      ],
      "metadata": {
        "id": "lqtXIZeF50xn"
      }
    },
    {
      "cell_type": "markdown",
      "source": [
        "# 🔵 4) Modified Euler (Heun)\n",
        "\n",
        "* What if we use the slope of the function at $t_{i+1}$ for each step of integration?\n",
        "* **Step1**: We find an estimate/prediction of $y^0_{i+1}$ at  $t_{i+1}$ using Euler's formula (**predictor equation**):\n",
        " $$\n",
        " y^0_{i+1} = y_i + f(t_i,y_i) h \\tag{4-1}\n",
        " $$\n",
        "\n",
        "* **Step2**: Using this estimate we can evalute the slope at $t_{i+1}$ and then find a new value for y_{i+1} (**corrector equation**):\n",
        "$$\n",
        "y_{i+1} = y_i + \\frac{f(t_i,y_i)+f(t_{i+1},y^0_{i+1})}{2}h  \\tag{4-2}\n",
        "$$\n",
        "\n",
        "&nbsp;\n",
        "\n",
        "<div align=\"center\">\n",
        "<img src=\"https://drive.google.com/uc?id=1bzv_QA2H3jxssZSXBqmxk8NlMhs77n2e\" width=\"700\">\n",
        "</div>"
      ],
      "metadata": {
        "id": "Gzy56br0pavP"
      }
    },
    {
      "cell_type": "markdown",
      "source": [
        "* What if we obtain a better estimate of slope at $t_{i+1}$ using the corrected $y_{i+1}$?\n",
        "* For this:\n",
        "\n",
        " **Step1**: predictor\n",
        "  $$\n",
        "  y^0_{i+1} = y_i + f(t_i,y_i) h \\tag{4-1}\n",
        "  $$\n",
        "  **Step2**: corrector\n",
        "  $$\n",
        "  y^j_{i+1} = y_i + \\frac{f(t_i,y_i)+f(t_{i+1},y^{j-1}_{i+1})}{2}h  \\tag{4-3}\n",
        "  $$\n",
        "  **Step3**: Approximate error check\n",
        "  $$\n",
        "  ϵ_a = \\lvert \\frac{y^{j}_{i+1}-y^{j-1}_{i+1}}{y^{j}_{i+1}} \\rvert < tol \\tag{4-4}\n",
        "  $$\n",
        "  if the above criteria is met, $y_{i+1} =y^{j}_{i+1}$, otherwise go to step 2."
      ],
      "metadata": {
        "id": "z6AcOXZYl3DD"
      }
    },
    {
      "cell_type": "markdown",
      "source": [
        "### ❓ **Example 2:**\n",
        "\n",
        "Integrate the following equation using Heun’s method in the range [0,4] with $h = 1$ and $y(0) = 2$ and $tol = 0.00001\\%$. Compare your results with the exact solution, $y=e^{-0.5 t} (-1.07692 + 3.07692 e^{1.3 t})$.\n",
        "$$\n",
        "y^{'}=4e^{0.8t}-0.5y\n",
        "$$"
      ],
      "metadata": {
        "id": "gASQJ0L90oF0"
      }
    },
    {
      "cell_type": "markdown",
      "source": [
        "💡 *Solution*\n",
        "\n",
        "We"
      ],
      "metadata": {
        "id": "uMoW0Ft-1KKY"
      }
    },
    {
      "cell_type": "markdown",
      "source": [
        "## 4-1) Code for Heun's method\n"
      ],
      "metadata": {
        "id": "t-kUIaHarHR6"
      }
    },
    {
      "cell_type": "code",
      "source": [
        "import numpy as np\n",
        "\n",
        "def HeunMethod(dfx, y0, a, b, n , iterate: bool = True, tol: float= 1.0e-6 ):\n",
        "  h = (b-a)/n\n",
        "\n",
        "  y = np.zeros((n+1,))\n",
        "  x = np.zeros((n+1,))\n",
        "  iters = np.zeros((n+1,))\n",
        "\n",
        "  y[0] = y0;\n",
        "  x[0] = a;\n",
        "\n",
        "  for i in range(n):\n",
        "    x[i+1] = a + (i+1)*h;\n",
        "    # predictor\n",
        "    phi_i = dfx(x[i],y[i])\n",
        "    y0 = y[i] + h * phi_i\n",
        "    # corrector loop\n",
        "    for j in range(100):\n",
        "      phi_i1 = dfx(x[i+1],y0)\n",
        "      y1 = y[i] + 0.5*(phi_i+phi_i1)*h\n",
        "\n",
        "      if not iterate:\n",
        "        y[i+1] = y1\n",
        "        iters[i+1] = 1\n",
        "        break;\n",
        "\n",
        "      ea = abs((y1-y0)/ max(abs(y1),1.0e-14))\n",
        "\n",
        "      if ea < tol:\n",
        "        y[i+1] = y1\n",
        "        iters[i+1] = j\n",
        "        break;\n",
        "\n",
        "      y0 = y1\n",
        "\n",
        "  return y , x , iters"
      ],
      "metadata": {
        "id": "C4r7xoDhrR-K"
      },
      "execution_count": 19,
      "outputs": []
    },
    {
      "cell_type": "code",
      "source": [
        "import matplotlib.pyplot as plt\n",
        "\n",
        "n = 4\n",
        "# ode\n",
        "example2Dfx = lambda t,y: 4*np.exp(0.8*t) - 0.5*y\n",
        "# solution of ode\n",
        "y , t, _ = HeunMethod(example2Dfx, 2.0, 0.0, 4.0, n)\n",
        "yNoIter , tNoIter, _ = HeunMethod(example2Dfx, 2.0, 0.0, 4.0, n, False)\n",
        "yEuler , tEuler = EulerMethod(example2Dfx, 2.0, 0.0, 4.0, n)\n",
        "\n",
        "# exact solution\n",
        "fx_exact = lambda t : np.exp(-0.5*t) * (-1.07692 + 3.07692 * np.exp(1.3*t))\n",
        "tt = np.linspace(0,4,20)\n",
        "y_exact = [fx_exact(ti) for ti in tt]\n",
        "\n",
        "# plot\n",
        "plt.plot(tt,y_exact)\n",
        "plt.scatter(t,y,c='c')\n",
        "plt.scatter(tNoIter, yNoIter, edgecolors='r', facecolors='none')\n",
        "plt.scatter(tEuler, yEuler, edgecolors='k', facecolors='none')\n",
        "plt.legend([\n",
        "    \"Exact solution\",\n",
        "    \"Huen's method with iteration\",\n",
        "    \"Huen's method without iteration\",\n",
        "    \"Euler's method\"])\n",
        "\n",
        "plt.show()"
      ],
      "metadata": {
        "colab": {
          "base_uri": "https://localhost:8080/",
          "height": 430
        },
        "id": "0LdpXdQpt6lZ",
        "outputId": "273e62f4-3307-44fb-d43b-bd1b6045f2db"
      },
      "execution_count": 34,
      "outputs": [
        {
          "output_type": "display_data",
          "data": {
            "text/plain": [
              "<Figure size 640x480 with 1 Axes>"
            ],
            "image/png": "[encoded data removed]"
          },
          "metadata": {}
        }
      ]
    },
    {
      "cell_type": "markdown",
      "source": [
        "## 4-2) Error analysis of Heun's mehtod\n",
        "* Recal the trapezoide rule (for explicit functions of t) for integration over one sub-interval $[t_i,t_{i+1}]$:\n",
        "$$\n",
        "I_i = \\frac{h}{2}(f(t_i)+f(t_{i+1}))  \\tag{4-5}\n",
        "$$\n",
        "* In Heun's method we are usign the same formula for integration over one time step:\n",
        "$$\n",
        "y_{i+1} = y_i + \\frac{h}{2}(f(t_i,y_i)+f(t_{i+1},y^0_{i+1})) \\tag{4-2}\n",
        "$$  \n",
        "* So, accordingly we can say that the local trunction error of Heun's method is similar to trapezoide rule, given by:\n",
        "$$\n",
        "E_t = -\\frac{f^{\"}(ξ)}{12}h^3  \\tag{4-6}\n",
        "$$\n",
        "* The **local truncation error** of Heun's method is $O(h^3)$.\n",
        "* The **global truncation error** of Heun's method is $O(h^2)$."
      ],
      "metadata": {
        "id": "5WZBDosMyDmx"
      }
    },
    {
      "cell_type": "markdown",
      "source": [
        "<div align=\"center\">\n",
        "🟦 🟦 🟦\n",
        "</div>\n",
        "\n",
        "---\n",
        "\n"
      ],
      "metadata": {
        "id": "aBkh2HOa6Dxm"
      }
    },
    {
      "cell_type": "markdown",
      "source": [
        "# 🟠 5) Midpoint method\n",
        "* The predictor estimates the value of y at midpoint between $[t_i,t_{i+1}]$:\n",
        "$$\n",
        "y_{i+1/2} = y_i+f(t_i,y_i) \\frac{h}{2} \\tag{5-1}\n",
        "$$\n",
        "* The corrector obtains the value of y at $t_{i+1}$ using:\n",
        "$$\n",
        "y_{i+1} = y_i + f(t_{i+1/2},y_{i+1/2})h \\tag{5-2}\n",
        "$$"
      ],
      "metadata": {
        "id": "hXYVqlZPphwv"
      }
    },
    {
      "cell_type": "markdown",
      "source": [
        "\n",
        "\n",
        "<div align=\"center\">\n",
        "<img src=\"https://drive.google.com/uc?id=1PL3cZtUsM176yuH0wwT31QNQ_dJI_FBz\" width=\"700\">\n",
        "</div>"
      ],
      "metadata": {
        "id": "w9r41YlU3V7l"
      }
    },
    {
      "cell_type": "markdown",
      "source": [
        "<div align=\"center\">\n",
        "🟧 🟧 🟧\n",
        "</div>\n",
        "\n",
        "\n",
        "---\n",
        "\n"
      ],
      "metadata": {
        "id": "tXOKOMMc6UJc"
      }
    },
    {
      "cell_type": "markdown",
      "source": [
        "# 🟣 6) Runge-Kutta methods"
      ],
      "metadata": {
        "id": "5aoskNnfplRp"
      }
    },
    {
      "cell_type": "markdown",
      "source": [
        "# 🟢 7) Extension to system of equations"
      ],
      "metadata": {
        "id": "4_yZmg5jp3Yx"
      }
    },
    {
      "cell_type": "markdown",
      "source": [
        "# 🟡 8) Adaptive Range-Kutta methods"
      ],
      "metadata": {
        "id": "aymCfgN_qRXb"
      }
    }
  ]
}