{
  "nbformat": 4,
  "nbformat_minor": 0,
  "metadata": {
    "colab": {
      "provenance": [],
      "authorship_tag": "ABX9TyMLnYVMojOoI2PIlXikfNCe",
      "include_colab_link": true
    },
    "kernelspec": {
      "name": "python3",
      "display_name": "Python 3"
    },
    "language_info": {
      "name": "python"
    }
  },
  "cells": [
    {
      "cell_type": "markdown",
      "metadata": {
        "id": "view-in-github",
        "colab_type": "text"
      },
      "source": [
        "<a href=\"https://colab.research.google.com/github/hamidrezanorouzi/numericalMethods/blob/main/Lectures/Lecture08_solving_ODEs.ipynb\" target=\"_parent\"><img src=\"https://colab.research.google.com/assets/colab-badge.svg\" alt=\"Open In Colab\"/></a>"
      ]
    },
    {
      "cell_type": "markdown",
      "source": [
        "### **Notes**❕\n",
        "This content forms a part of the instructional presentations for the **`numerical methods in chemical engineering`** course designed for undergraduate chemical engineering students at Amirkabir University of Technology.\n",
        "\n",
        "Feel free to utilize the information and source codes provided in this material, ensuring appropriate acknowledgment of the original document.\n",
        "\n",
        "The visual elements featured in this document have been sourced from the following sources, unless specified otherwise:\n",
        "\n",
        "* Steven C. Chapra, Applied Numerical Methods with Matlab for Engineers and Scientists, 3rd edition, McGraw-Hill (2012).\n",
        "\n",
        "\n",
        "<div align=\"center\">\n",
        "🟪 🟪 🟪\n",
        "</dive>\n",
        "\n",
        "---"
      ],
      "metadata": {
        "id": "_XXaVOuh7Qh-"
      }
    },
    {
      "cell_type": "markdown",
      "source": [
        "# 🔴 1) Where do we face with solving ODEs?"
      ],
      "metadata": {
        "id": "TJMfL4s07aOK"
      }
    },
    {
      "cell_type": "markdown",
      "source": [
        "## 1-1) Chemical Reactor Modeling (from a fwe to tens of equations)\n",
        "* ODEs are used to model and simulate chemical reactions in reactors.\n",
        "\n",
        "<table width=\"100%\">\n",
        "<tr>\n",
        "<td width = \"65%\">\n",
        "\n",
        "* For example, the kinetics of a chemical reaction in a batch reactor can be described using ODEs to predict how concentrations of reactants and products change over time within the reactor.\n",
        "Certainly! Let's consider a chemical reactor with two competing reactions:\n",
        "\n",
        "1. **Reaction 1:** A + B → C\n",
        "2. **Reaction 2:** C → D\n",
        "\n",
        "\n",
        "* We can describe the concentrations of the species A, B, C, and D over time using a system of ODEs:\n",
        "\n",
        "\\begin{aligned}\n",
        "\\frac{d[A]}{dt} &= -k_1[A][B] \\\\\n",
        "\\frac{d[B]}{dt} &= -k_1[A][B] \\\\\n",
        "\\frac{d[C]}{dt} &= k_1[A][B] - k_2[C] \\\\\n",
        "\\frac{d[D]}{dt} &= k_2[C] \\\\\n",
        "\\end{aligned}\n",
        "\n",
        "\n",
        "</td>\n",
        "<td>\n",
        "<div align = \"center\">\n",
        "<img src = \"https://drive.google.com/uc?id=1KZBPBqW-yKlTQnqDhtMVmEYByhVMiK5Q\" width =\"200\">\n",
        "</div>\n",
        "</td>\n",
        "</tr>\n",
        "</table>\n",
        "\n",
        "\n",
        "* These equations describe how the concentrations of A, B, C, and D change over time due to the competing reactions.\n",
        "\n",
        "* This system of ODEs can be solved numerically to predict how the concentrations of A, B, C, and D evolve over time in the chemical reactor as the reactions occur.\n",
        "\n"
      ],
      "metadata": {
        "id": "YCXE5jSpOQtP"
      }
    },
    {
      "cell_type": "markdown",
      "source": [
        "## 1-2) Heat transfer in a sphere (one equation)\n",
        "\n",
        "<table width=\"100%\">\n",
        "<tr>\n",
        "<td width = \"65%\">\n",
        "\n",
        "* The ODE for lumped heat transfer in a solid sphere can be written as follows:\n",
        "\n",
        " $$\\rho V C_p \\frac{dT}{dt} = h A_s (T_{∞} - T)$$\n",
        "\n",
        " Here:\n",
        " - $T$ is the temperature of the solid sphere as a function of time $t$ (the dependent variable).\n",
        " - $\\rho$ is the density of the material.\n",
        " - $V$ is the volume of the sphere.\n",
        " - $C_p$ is the specific heat capacity of the material.\n",
        "\n",
        " - $h$ is the convective heat transfer coefficient between the sphere's surface and the surrounding fluid.\n",
        " - $A_s$ is the surface area of the sphere.\n",
        " - $T_{∞}$ is the temperature of the surrounding fluid (often assumed to be constant).\n",
        "\n",
        "* Solving this ODE allows you to predict how the temperature of the solid sphere evolves over time when subjected to convective heat transfer.\n",
        "\n",
        "</td>\n",
        "<td>\n",
        "<div align = \"center\">\n",
        "<img src = \"https://drive.google.com/uc?id=1pe2gJX5_w3H8x69ydZPyojlX3rYHCMvL\" width =\"300\">\n",
        "</div>\n",
        "</td>\n",
        "</tr>\n",
        "</table>\n",
        "\n",
        "\n",
        "\n",
        "\n",
        "\n"
      ],
      "metadata": {
        "id": "JO8WHSCLTOEu"
      }
    },
    {
      "cell_type": "markdown",
      "source": [
        "## 1-3) Heat Transfer (tens to thousands equations)\n",
        "* You have a one-dimensional solid rod of length $L$, and you want to model the temperature distribution along the rod as heat is conducted through it, $T(x, t)$:\n",
        "\n",
        " $$\\rho c \\frac{\\partial T}{\\partial t} = \\frac{\\partial}{\\partial x}\\left(k \\frac{\\partial T}{\\partial x}\\right)$$\n",
        "\n",
        " Here:\n",
        " - $T(x, t)$ is the temperature as a function of position $x$ along the rod and time $t$.\n",
        " - $\\rho$ is the density of the material.\n",
        " - $c$ is the specific heat capacity of the material.\n",
        " - $k$ is the thermal conductivity of the material.\n",
        "\n",
        "\n",
        "\n",
        "<div align=\"center\">\n",
        "<img src=\"https://drive.google.com/uc?id=1fSBtHdpahzyAET2SDMlGMc_wD4wT-k8P\" width =\"500\">\n",
        "</div>\n"
      ],
      "metadata": {
        "id": "uTFGqdNoOwwh"
      }
    },
    {
      "cell_type": "markdown",
      "source": [
        "* **Solution (method of lines):** You can discretize the rod into small segments and approximate the derivatives with finite differences. This will convert the PDE into a system of ODEs. For example, using the finite-difference method, you can write an ODE for each segment of the rod:\n",
        "\n",
        "$$\\frac{dT_i}{dt} = \\frac{k}{\\rho c}\\left(\\frac{T_{i+1} - 2T_i + T_{i-1}}{\\Delta x^2}\\right)$$\n",
        "\n",
        "Here:\n",
        "- $T_i$ is the temperature at the $i$-th segment.\n",
        "- $\\Delta x$ is the length of each segment.\n"
      ],
      "metadata": {
        "id": "02Krj-6aVdOR"
      }
    },
    {
      "cell_type": "code",
      "execution_count": null,
      "metadata": {
        "id": "MzIzNgG764Rs"
      },
      "outputs": [],
      "source": []
    }
  ]
}