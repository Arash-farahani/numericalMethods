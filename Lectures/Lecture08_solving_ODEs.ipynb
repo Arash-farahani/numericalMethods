{
  "nbformat": 4,
  "nbformat_minor": 0,
  "metadata": {
    "colab": {
      "provenance": [],
      "authorship_tag": "ABX9TyNlNId3dmzk3u3uaRLmqMYU",
      "include_colab_link": true
    },
    "kernelspec": {
      "name": "python3",
      "display_name": "Python 3"
    },
    "language_info": {
      "name": "python"
    }
  },
  "cells": [
    {
      "cell_type": "markdown",
      "metadata": {
        "id": "view-in-github",
        "colab_type": "text"
      },
      "source": [
        "<a href=\"https://colab.research.google.com/github/hamidrezanorouzi/numericalMethods/blob/main/Lectures/Lecture08_solving_ODEs.ipynb\" target=\"_parent\"><img src=\"https://colab.research.google.com/assets/colab-badge.svg\" alt=\"Open In Colab\"/></a>"
      ]
    },
    {
      "cell_type": "markdown",
      "source": [
        "### **Notes**❕\n",
        "This content forms a part of the instructional presentations for the **`numerical methods in chemical engineering`** course designed for undergraduate chemical engineering students at Amirkabir University of Technology.\n",
        "\n",
        "Feel free to utilize the information and source codes provided in this material, ensuring appropriate acknowledgment of the original document.\n",
        "\n",
        "The visual elements featured in this document have been sourced from the following sources, unless specified otherwise:\n",
        "\n",
        "* Steven C. Chapra, Applied Numerical Methods with Matlab for Engineers and Scientists, 3rd edition, McGraw-Hill (2012).\n",
        "\n",
        "\n",
        "<div align=\"center\">\n",
        "🟪 🟪 🟪\n",
        "</dive>\n",
        "\n",
        "---"
      ],
      "metadata": {
        "id": "_XXaVOuh7Qh-"
      }
    },
    {
      "cell_type": "markdown",
      "source": [
        "# 🔴 1) Where do we face with solving ODEs?"
      ],
      "metadata": {
        "id": "TJMfL4s07aOK"
      }
    },
    {
      "cell_type": "markdown",
      "source": [
        "## 1-1) Chemical Reactor Modeling (from a few to tens of equations)\n",
        "* ODEs are used to model and simulate chemical reactions in reactors.\n",
        "\n",
        "<table width=\"100%\">\n",
        "<tr>\n",
        "<td width = \"65%\">\n",
        "\n",
        "* For example, the kinetics of a chemical reaction in a batch reactor can be described using ODEs to predict how concentrations of reactants and products change over time within the reactor.\n",
        "Certainly! Let's consider a chemical reactor with two competing reactions:\n",
        "\n",
        "1. **Reaction 1:** A + B → C\n",
        "2. **Reaction 2:** C → D\n",
        "\n",
        "\n",
        "* We can describe the concentrations of the species A, B, C, and D over time using a system of ODEs:\n",
        "\n",
        "\\begin{aligned}\n",
        "\\frac{d[A]}{dt} &= -k_1[A][B] \\\\\n",
        "\\frac{d[B]}{dt} &= -k_1[A][B] \\\\\n",
        "\\frac{d[C]}{dt} &= k_1[A][B] - k_2[C] \\\\\n",
        "\\frac{d[D]}{dt} &= k_2[C] \\\\\n",
        "\\end{aligned}\n",
        "\n",
        "\n",
        "</td>\n",
        "<td>\n",
        "<div align = \"center\">\n",
        "<img src = \"https://drive.google.com/uc?id=1KZBPBqW-yKlTQnqDhtMVmEYByhVMiK5Q\" width =\"200\">\n",
        "</div>\n",
        "</td>\n",
        "</tr>\n",
        "</table>\n",
        "\n",
        "\n",
        "* These equations describe how the concentrations of A, B, C, and D change over time due to the competing reactions.\n",
        "\n",
        "* This system of ODEs can be solved numerically to predict how the concentrations of A, B, C, and D evolve over time in the chemical reactor as the reactions occur.\n",
        "\n"
      ],
      "metadata": {
        "id": "YCXE5jSpOQtP"
      }
    },
    {
      "cell_type": "markdown",
      "source": [
        "## 1-2) Heat transfer in a sphere (one equation)\n",
        "\n",
        "<table width=\"100%\">\n",
        "<tr>\n",
        "<td width = \"65%\">\n",
        "\n",
        "* The ODE for lumped heat transfer in a solid sphere can be written as follows:\n",
        "\n",
        " $$\\rho V C_p \\frac{dT}{dt} = h A_s (T_{∞} - T)$$\n",
        "\n",
        " Here:\n",
        " - $T$ is the temperature of the solid sphere as a function of time $t$ (the dependent variable).\n",
        " - $\\rho$ is the density of the material.\n",
        " - $V$ is the volume of the sphere.\n",
        " - $C_p$ is the specific heat capacity of the material.\n",
        "\n",
        " - $h$ is the convective heat transfer coefficient between the sphere's surface and the surrounding fluid.\n",
        " - $A_s$ is the surface area of the sphere.\n",
        " - $T_{∞}$ is the temperature of the surrounding fluid (often assumed to be constant).\n",
        "\n",
        "* Solving this ODE allows you to predict how the temperature of the solid sphere evolves over time when subjected to convective heat transfer.\n",
        "\n",
        "</td>\n",
        "<td>\n",
        "<div align = \"center\">\n",
        "<img src = \"https://drive.google.com/uc?id=1pe2gJX5_w3H8x69ydZPyojlX3rYHCMvL\" width =\"300\">\n",
        "</div>\n",
        "</td>\n",
        "</tr>\n",
        "</table>\n",
        "\n",
        "\n",
        "\n",
        "\n",
        "\n"
      ],
      "metadata": {
        "id": "JO8WHSCLTOEu"
      }
    },
    {
      "cell_type": "markdown",
      "source": [
        "## 1-3) Heat Transfer (tens to thousands equations)\n",
        "* You have a one-dimensional solid rod of length $L$, and you want to model the temperature distribution along the rod as heat is conducted through it, $T(x, t)$:\n",
        "\n",
        " $$\\rho c \\frac{\\partial T}{\\partial t} = \\frac{\\partial}{\\partial x}\\left(k \\frac{\\partial T}{\\partial x}\\right)$$\n",
        "\n",
        " Here:\n",
        " - $T(x, t)$ is the temperature as a function of position $x$ along the rod and time $t$.\n",
        " - $\\rho$ is the density of the material.\n",
        " - $c$ is the specific heat capacity of the material.\n",
        " - $k$ is the thermal conductivity of the material.\n",
        "\n",
        "\n",
        "\n",
        "<div align=\"center\">\n",
        "<img src=\"https://drive.google.com/uc?id=1fSBtHdpahzyAET2SDMlGMc_wD4wT-k8P\" width =\"500\">\n",
        "</div>\n"
      ],
      "metadata": {
        "id": "uTFGqdNoOwwh"
      }
    },
    {
      "cell_type": "markdown",
      "source": [
        "* **Solution (method of lines):** You can discretize the rod into small segments and approximate the derivatives with finite differences. This will convert the PDE into a system of ODEs. For example, using the finite-difference method, you can write an ODE for each segment of the rod:\n",
        "\n",
        "$$\\frac{dT_i}{dt} = \\frac{k}{\\rho c}\\left(\\frac{T_{i+1} - 2T_i + T_{i-1}}{\\Delta x^2}\\right)$$\n",
        "\n",
        "Here:\n",
        "- $T_i$ is the temperature at the $i$-th segment.\n",
        "- $\\Delta x$ is the length of each segment.\n"
      ],
      "metadata": {
        "id": "02Krj-6aVdOR"
      }
    },
    {
      "cell_type": "markdown",
      "source": [
        "# 2) Overview of one-step integration of ODEs\n"
      ],
      "metadata": {
        "id": "Ncs8me4Et1NO"
      }
    },
    {
      "cell_type": "markdown",
      "source": [
        "* An ODE can be expressed as:\n",
        " $$\n",
        "\\begin{aligned}\n",
        "y^{'} &= \\frac{dy}{dt} = f(t,y)  \\ \\ \\ \\text{or} \\\\  y^{'} &= \\frac{dy}{dx} = f(x,y)\n",
        "\\end{aligned}\n",
        "\\tag{2-1}\n",
        " $$\n",
        " Here,\n",
        " * $y$ is dependent vairable, and\n",
        " * $x$ and $t$ are dependent variables.\n",
        "\n",
        "* In general, **one-step integration** methods can be formulated as:\n",
        "$$\n",
        "new \\ value = old \\ value + step \\ size × slope\n",
        "\\tag{2-2}\n",
        "$$\n",
        "* and in mathematical terms:\n",
        "$$\n",
        "y_{i+1} = y_i + h ϕ\n",
        "\\tag{2-3}\n",
        "$$\n",
        " Here:\n",
        " * $y_i$ is the value dependent variable at $x_i$\n",
        " * $y_{i+1}$ is the new value of dependent variable at $x_{i+1} = x_i + h$.\n",
        " * $\\phi$ is the increament function.\n",
        " * $h$ is step size for integration."
      ],
      "metadata": {
        "id": "fWnDR__Et_x0"
      }
    },
    {
      "cell_type": "markdown",
      "source": [
        "# 3) Euler's mehtod"
      ],
      "metadata": {
        "id": "R6EBP35GxpWm"
      }
    },
    {
      "cell_type": "markdown",
      "source": [
        "<table width=\"100%\">\n",
        "<tr>\n",
        "<td width = \"60%\">\n",
        "\n",
        "* The first derivative provides a direct estimate of the slope at $t_i$:\n",
        "\n",
        "$$\n",
        "\\begin{aligned}\n",
        "\\phi &= f(t_i,y_i)  \\\\\n",
        "y_{i+1} &= y_i + f(t_i,y_i) h\n",
        "\\end{aligned}\n",
        "\\tag{3-1}\n",
        "$$\n",
        "\n",
        "</td>\n",
        "<td>\n",
        "<div align = \"center\">\n",
        "<img src = \"https://drive.google.com/uc?id=1ab4HRwjkkTpOPfOveD-1rzDlgeY_Wsb4\" width =\"500\">\n",
        "</div>\n",
        "</td>\n",
        "</tr>\n",
        "</table>\n",
        "\n"
      ],
      "metadata": {
        "id": "nuIh7GMwMGla"
      }
    },
    {
      "cell_type": "markdown",
      "source": [
        "### ❓ **Example 1:**\n",
        "Integrate the following equation using Euler’s method in the range [0,4] with $h = 1$ and $y(0) = 2$. Compare your results with the exact solution, $y=e^{-0.5 t} (-1.07692 + 3.07692 e^{1.3 t})$.\n",
        "$$\n",
        "y^{'}=4e^{0.8t}-0.5y\n",
        "$$\n",
        "\n"
      ],
      "metadata": {
        "id": "mmCXkNY1NdUv"
      }
    },
    {
      "cell_type": "markdown",
      "source": [
        "💡 *Solution*\n",
        "\n"
      ],
      "metadata": {
        "id": "o5vVmnsLdRSU"
      }
    },
    {
      "cell_type": "markdown",
      "source": [
        "## 2-1) Code for Euler's method"
      ],
      "metadata": {
        "id": "N4qBKnILdmzI"
      }
    },
    {
      "cell_type": "code",
      "execution_count": 11,
      "metadata": {
        "id": "MzIzNgG764Rs"
      },
      "outputs": [],
      "source": [
        "import numpy as np\n",
        "\n",
        "def EulerMethod(dfx, y0, a, b , n):\n",
        "\n",
        "  h = (b-a)/n\n",
        "\n",
        "  y = np.zeros((n+1,))\n",
        "  x = np.zeros((n+1,))\n",
        "\n",
        "  y[0] = y0;\n",
        "  x[0] = a;\n",
        "\n",
        "  for i in range(n):\n",
        "    y[i+1] = y[i] + h * dfx(x[i],y[i])\n",
        "    x[i+1] = a + (i+1)*h;\n",
        "\n",
        "  return y, x"
      ]
    },
    {
      "cell_type": "code",
      "source": [
        "import matplotlib.pyplot as plt\n",
        "\n",
        "# ode\n",
        "example1Dfx = lambda t,y: 4*np.exp(0.8*t) - 0.5*y\n",
        "# solution of ode\n",
        "y , t = EulerMethod(example1Dfx, 2.0, 0.0, 4.0, 4)\n",
        "\n",
        "# exact solution\n",
        "fx_exact = lambda t : np.exp(-0.5*t) * (-1.07692 + 3.07692 * np.exp(1.3*t))\n",
        "tt = np.linspace(0,4,20)\n",
        "y_exact = [fx_exact(ti) for ti in tt]\n",
        "\n",
        "# plot\n",
        "plt.plot(tt,y_exact)\n",
        "plt.scatter(t,y,c='c')\n",
        "plt.legend([\"Exact solution\", \"Euler's method estimate\"])\n",
        "plt.show()"
      ],
      "metadata": {
        "colab": {
          "base_uri": "https://localhost:8080/",
          "height": 430
        },
        "id": "-i5OBfSKdyc6",
        "outputId": "5c67d24a-eef5-45f4-8524-db1af17db2b3"
      },
      "execution_count": 28,
      "outputs": [
        {
          "output_type": "display_data",
          "data": {
            "text/plain": [
              "<Figure size 640x480 with 1 Axes>"
            ],
            "image/png": "[encoded data removed]"
          },
          "metadata": {}
        }
      ]
    },
    {
      "cell_type": "markdown",
      "source": [
        "## 3-2) Error analysis of Euler method"
      ],
      "metadata": {
        "id": "iSypr51DkcTF"
      }
    },
    {
      "cell_type": "markdown",
      "source": [
        "# 4) Modified Euler (Heun)"
      ],
      "metadata": {
        "id": "Gzy56br0pavP"
      }
    },
    {
      "cell_type": "markdown",
      "source": [
        "# 5) Midpoint method"
      ],
      "metadata": {
        "id": "hXYVqlZPphwv"
      }
    },
    {
      "cell_type": "markdown",
      "source": [
        "# 6) Runge-Kutta methods"
      ],
      "metadata": {
        "id": "5aoskNnfplRp"
      }
    },
    {
      "cell_type": "markdown",
      "source": [
        "# 7) Extension to system of equations"
      ],
      "metadata": {
        "id": "4_yZmg5jp3Yx"
      }
    },
    {
      "cell_type": "markdown",
      "source": [
        "# 8) Adaptive Range-Kutta methods"
      ],
      "metadata": {
        "id": "aymCfgN_qRXb"
      }
    }
  ]
}