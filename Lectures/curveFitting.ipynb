{
  "nbformat": 4,
  "nbformat_minor": 0,
  "metadata": {
    "colab": {
      "provenance": [],
      "authorship_tag": "ABX9TyOrJYN3jfnExvO+0AsSKVlu",
      "include_colab_link": true
    },
    "kernelspec": {
      "name": "python3",
      "display_name": "Python 3"
    },
    "language_info": {
      "name": "python"
    }
  },
  "cells": [
    {
      "cell_type": "markdown",
      "metadata": {
        "id": "view-in-github",
        "colab_type": "text"
      },
      "source": [
        "<a href=\"https://colab.research.google.com/github/hamidrezanorouzi/numericalMethods/blob/main/Lectures/curveFitting.ipynb\" target=\"_parent\"><img src=\"https://colab.research.google.com/assets/colab-badge.svg\" alt=\"Open In Colab\"/></a>"
      ]
    },
    {
      "cell_type": "markdown",
      "source": [
        "### **Notes**❕\n",
        "This content forms a part of the instructional presentations for the **`numerical methods in chemical engineering`** course designed for undergraduate chemical engineering students at Amirkabir University of Technology.\n",
        "\n",
        "Feel free to utilize the information and source codes provided in this material, ensuring appropriate acknowledgment of the original document.\n",
        "\n",
        "The visual elements featured in this document have been sourced from the following sources, unless specified otherwise:\n",
        "\n",
        "* Steven C. Chapra, Applied Numerical Methods with Matlab for Engineers and Scientists, 3rd edition, McGraw-Hill (2012).\n",
        "\n",
        "\n",
        "<div align=\"center\">\n",
        "🟪 🟪 🟪\n",
        "</dive>\n",
        "\n",
        "---"
      ],
      "metadata": {
        "id": "Pk3iG32lh2kM"
      }
    },
    {
      "cell_type": "markdown",
      "source": [
        "# 🔵 1) What are the applications?"
      ],
      "metadata": {
        "id": "0YjfomtgiLMv"
      }
    },
    {
      "cell_type": "markdown",
      "source": [
        "\n",
        "* **Kinetics and Reaction Rate Modeling:** Curve fitting is used to determine **reaction kinetics** and **rate constants** by fitting experimental data to various kinetic models.\n",
        "\n",
        "* **Material Properties Estimation:** Curve fitting can be employed to determine material properties, such as **thermo-physical properties**, from experimental data. This is vital for designing and simulating chemical processes accurately.\n",
        "\n",
        "* **Calibration of Instruments:** In chemical engineering, instruments like **spectrophotometers**, **mass spectrometers**, and **chromatographs** require calibration. Curve fitting is used to relate instrument responses to known concentrations or properties of chemical compounds.\n",
        "\n",
        "* **Experimental Data Analysis:** Curve fitting aids in extracting meaningful information from noisy or complex experimental data, helping researchers and engineers draw conclusions and make decisions based on the data.\n",
        "* And many more...\n",
        "\n",
        "<div align=\"center\">\n",
        "🟦 🟦 🟦\n",
        "</div>\n",
        "\n",
        "\n",
        "---\n",
        "\n"
      ],
      "metadata": {
        "id": "-kPGgmDfmj8t"
      }
    },
    {
      "cell_type": "markdown",
      "source": [
        "# 🔴 2) What is a curve fitting problem?"
      ],
      "metadata": {
        "id": "oSMBEaBQpfwB"
      }
    },
    {
      "cell_type": "markdown",
      "source": [
        "* Consider that we have $n$ set of data points (most often obtained from experimental measurements), $(x_i, y_i)$ with $i = 1, 2,..., n$\n",
        "\n",
        "* The task of curve fitting/regression is to find an smooth curve  $f(x)$ that goes trough the data points, which on average have the least error in representing the data.\n",
        "\n",
        "* The curve $f(x)$ has $m$ coefficients in its mathmatical relation that should be determined in the process of curve-fitting:\n",
        "\n",
        " $$\n",
        " f(x) = f(x, a_1, a_2, a_3, ..., a_m)\n",
        " $$\n",
        "\n",
        " where, ***m<n*** and  $f$ is a function of $x$ and constants $a_i$ is to be determined.\n",
        "\n"
      ],
      "metadata": {
        "id": "TCrXtVxYq5lr"
      }
    },
    {
      "cell_type": "markdown",
      "source": [
        "* The form of $f(x)$ is pre-determined.\n",
        " * We usually use linear form $y = a_0 + a_1x$\n",
        " * Higher order polynomials can also be used: $y = a_0 + a_1x + a_2x^2 + a_3x^3$\n",
        " * Other forms of functions can be converted into the linear  form:\n",
        "   * Consider $z = b_0 e^{b_1x}$, which is non-linear.\n",
        "   * if we take logarithm from the both sides\n",
        "   $Ln (z) = ln(b_0) + b_1x$, which is equivalent to finding the best **linear** fit on data points $(x_i, ln(z_i))$.\n"
      ],
      "metadata": {
        "id": "ousgEvKlulPN"
      }
    },
    {
      "cell_type": "markdown",
      "source": [
        "## 2-1) The definition of least squares\n",
        "* The process of curve-fitting is to find the coefficients in function $f(x)$ that **best fits/represents** the experimental data.\n",
        "* The definition of the **Best Fit** can be any statistical measure.\n",
        " * Minimizing sum of residual errors:\n",
        " $$\n",
        " \\sum_{i=1}^{n}e_i = \\sum_{i=1}^{n}(y_i-f(x_i))\n",
        " $$\n",
        " * Minimizing sum of absolute of residual errors:\n",
        " $$\n",
        " \\sum_{i=1}^{n}|e_i| = \\sum_{i=1}^{n}|y_i-f(x_i)|\n",
        " $$\n",
        " * Minimizing sum of the **square of residual errors** (called sum of residuals):\n",
        " $$\n",
        " S_r = \\sum_{i=1}^{n}(e_i)^2 = \\sum_{i=1}^{n}(y_i-f(x_i))^2\n",
        " $$\n",
        "* Among the above options, the best one is the last one.\n",
        "* So, **least squres** is to find the coefficients in function $f(x)$ that minimizes the sum of the square of residual errors."
      ],
      "metadata": {
        "id": "VGh5jwi_pZcQ"
      }
    },
    {
      "cell_type": "markdown",
      "source": [
        "<div align=\"center\">\n",
        "🟥 🟥 🟥\n",
        "</div>\n",
        "\n",
        "\n",
        "---\n",
        "\n"
      ],
      "metadata": {
        "id": "9vRl08cRyRuC"
      }
    },
    {
      "cell_type": "markdown",
      "source": [
        "# 🟢 3) Least squres for a straight line\n"
      ],
      "metadata": {
        "id": "EGz-DPESygZZ"
      }
    },
    {
      "cell_type": "markdown",
      "source": [
        "## 3-1) Problem definition\n",
        "* The function is $f(x) = a_0 + a_1x$.\n",
        "* The task is to find $a_0$ and $a_1$ so that the sum of square of residual errors becomes minimum (best fit).\n",
        "* Sum of residuals becomes:\n",
        "$$\n",
        "S_r = \\sum_{i=1}^{n}(y_i-f(x_i))^2 = \\sum_{i=1}^{n}(y_i-a_0-a_1x_i)^2 \\tag{3-1}\n",
        "$$\n",
        "\n",
        "\n"
      ],
      "metadata": {
        "id": "u7LZ2xm3WygO"
      }
    },
    {
      "cell_type": "markdown",
      "source": [
        "## 3-2) Formulation\n",
        "* To find the the values of $a_0$ and $a_1$, we should take the derivatives of Eq. (3-1) with respect to $a_0$ and $a_1$:\n",
        "$$\n",
        "\\begin{aligned}\n",
        "\\frac{∂S_r}{∂a_0} &= -2\\sum_{i=1}^{n}(y_i-a_0-a_1x_i)   \\\\\n",
        "\\frac{∂S_r}{∂a_1} &= -2\\sum_{i=1}^{n}((y_i-a_0-a_1x_i)x_i)\n",
        "\\end{aligned} \\tag{3-2}\n",
        "$$\n",
        "\n",
        "* Setting these derivatives equal to zero will result in a minimum $S_r$:\n",
        "\n",
        "$$\n",
        "\\begin{aligned}\n",
        "0 &= \\sum y_i - \\sum a_0 - \\sum a_1x_i \\\\\n",
        "0 &= \\sum x_iy_i - \\sum x_ia_0 - \\sum a_1x^2_i   \n",
        "\\end{aligned}\n",
        "\\tag{3-3}\n",
        "$$\n",
        "\n",
        "* rearranging the equations will give:\n",
        "$$\n",
        "\\begin{aligned}\n",
        "\\begin{cases}\n",
        "n a_0 &+ (\\sum x_i)a_1 &= \\sum y_i  \\\\\n",
        "(\\sum x_i)a_0 &+ (\\sum x^2_i)a_1 &= \\sum x_iy_i  \n",
        "\\end{cases}\n",
        "\\end{aligned}\n",
        "\\tag{3-4}\n",
        "$$"
      ],
      "metadata": {
        "id": "2opQgQ_Xbvh0"
      }
    },
    {
      "cell_type": "markdown",
      "source": [
        "## 3-3) Code for straight line least squares"
      ],
      "metadata": {
        "id": "f5axya5Qb2us"
      }
    },
    {
      "cell_type": "code",
      "execution_count": 33,
      "metadata": {
        "id": "oyTUSjyqfmlG"
      },
      "outputs": [],
      "source": [
        "import numpy as np\n",
        "\n",
        "def starightLineCurveFitting(x,y):\n",
        "  n = len(x)\n",
        "  ny = len(y)\n",
        "\n",
        "  if n!=ny:\n",
        "    print(\"number of x data points and y data points does not match!\")\n",
        "    return None\n",
        "\n",
        "  A = np.zeros((2,2))\n",
        "  B = np.zeros((2,1))\n",
        "  A[0,0] = n;\n",
        "  A[1,0] = A[0,1] = np.sum(x)\n",
        "  A[1,1] = np.sum(x*x)\n",
        "  B[0] = np.sum(y)\n",
        "  B[1] = np.sum(x*y)\n",
        "  a = np.linalg.solve(A, B)\n",
        "\n",
        "  return a.reshape((2,))\n",
        "\n"
      ]
    },
    {
      "cell_type": "markdown",
      "source": [
        "### ❓ **Example 1**\n",
        "Fit a straight line on the measured data given in table below:\n",
        "\n",
        "| V (m/s) | F (N)|\n",
        "| :---: | :---: |\n",
        "|10| 25|\n",
        "|20| 70|\n",
        "|30| 380|\n",
        "|40| 550|\n",
        "|50| 610|\n",
        "|60| 1220|\n",
        "|70| 830|\n",
        "|80| 1450|\n",
        "\n",
        "💡 *Solution*\n",
        "\n",
        "Using Eq. (3-4), we should compute the coefficient maxtrix and know vector to form the equations set.\n",
        "\n",
        "|i| $x_i$  | $y_i$| $x^2_i$ | $x_iy_i$|\n",
        "|:---| :---: | :---: | :---: |:---:|\n",
        "|1|10| 25|  100 | 250 |\n",
        "|2|20| 70|  400 | 1400|\n",
        "|3|30| 380| 900 | 11400|\n",
        "|4|40| 550| 1600| 22000|\n",
        "|5|50| 610| 2500| 30500|\n",
        "|6|60| 1220| 3600| 73200 |\n",
        "|7|70| 830| 4900 | 58100|\n",
        "|8|80| 1450| 6400| 116000|\n",
        "|$\\sum$| **360** |**5135** | **20400** | **312850**|\n",
        "\n",
        "The following set of equations is obtained\n",
        "\n",
        "$$\n",
        "\\begin{bmatrix}\n",
        "8 & 360 \\\\\n",
        "360 & 20400\n",
        "\\end{bmatrix}\n",
        "\\begin{bmatrix} a_0 \\\\ a_1 \\end{bmatrix} =\n",
        "\\begin{bmatrix} 5135 \\\\ 312850 \\end{bmatrix}\n",
        "$$\n",
        "\n",
        "We can solve it using Cramer's rule:\n",
        "\n",
        "\n",
        "\\begin{aligned}\n",
        "D &= 8(20400)-360^2 = 33600 \\\\\n",
        "a_0 &= \\frac{D_0}{D} = \\frac{\\begin{vmatrix} 5135 & 360 \\\\ 312850 & 20400 \\end{vmatrix} }{33600} = -243.2857 \\\\\n",
        "a_1 &= 19.47024 \\\\\n",
        "F &= -243.2857 + 19.47024 V\n",
        "\\end{aligned}\n"
      ],
      "metadata": {
        "id": "Ka3Bb3ZzkFBd"
      }
    },
    {
      "cell_type": "code",
      "source": [
        "import matplotlib.pyplot as plt\n",
        "\n",
        "V = np.array([10.0, 20.0, 30.0, 40.0, 50.0, 60.0, 70.0, 80.0])\n",
        "F = np.array([25.0,70.0, 380.0, 550, 610, 1220, 830, 1450])\n",
        "a0, a1 = starightLineCurveFitting(V,F)\n",
        "\n",
        "print(f' a0 = {a0} and a1 = {a1}')\n",
        "\n",
        "fittedF = [a0 + a1*vi for vi in V]\n",
        "plt.scatter(V,F, c='r')\n",
        "plt.plot(V, fittedF)\n",
        "plt.xlabel('V(m/s)')\n",
        "plt.ylabel('F(N)')\n",
        "plt.show()"
      ],
      "metadata": {
        "colab": {
          "base_uri": "https://localhost:8080/",
          "height": 467
        },
        "id": "LVRFDnOAilWG",
        "outputId": "fac3f00a-3eb6-4a14-9a21-6ae83dfd4838"
      },
      "execution_count": 35,
      "outputs": [
        {
          "output_type": "stream",
          "name": "stdout",
          "text": [
            " a0 = -234.28571428571402 and a1 = 19.47023809523809\n"
          ]
        },
        {
          "output_type": "display_data",
          "data": {
            "text/plain": [
              "<Figure size 640x480 with 1 Axes>"
            ],
            "image/png": "[encoded data removed]"
          },
          "metadata": {}
        }
      ]
    },
    {
      "cell_type": "markdown",
      "source": [
        "<div align=\"center\">\n",
        "🟩 🟩 🟩\n",
        "</div>\n",
        "\n",
        "\n",
        "---\n",
        "\n"
      ],
      "metadata": {
        "id": "9jHJn3X1TUQM"
      }
    },
    {
      "cell_type": "markdown",
      "source": [
        "# 🟡 4) Quantification of Error"
      ],
      "metadata": {
        "id": "AZQWUng-Tyhf"
      }
    },
    {
      "cell_type": "markdown",
      "source": [
        "* After regression, we should evaluate how well the curve $f(x)$ represents the original data.\n"
      ],
      "metadata": {
        "id": "KpfVxFn1Vhdp"
      }
    },
    {
      "cell_type": "markdown",
      "source": [
        "## 4-1) Sum of residuals\n",
        "* shows the distance between data and predicted values. In other wrods, **it quantifies the distribution of data points around curve $f(x)$**\n",
        " $$\n",
        " S_r = \\sum_{i=1}^{n}(e_i)^2 = \\sum_{i=1}^{n}(y_i-f(x_i))^2 \\tag{4-1}\n",
        " $$\n",
        "\n",
        "<div align=\"center\">\n",
        "<img src=\"https://drive.google.com/uc?id=1lryprZXsNxo_Q23Y3hcXnUOOXiBK1QGc\" width=\"400\">\n",
        "</div>"
      ],
      "metadata": {
        "id": "wMKpdP9eaDOv"
      }
    },
    {
      "cell_type": "markdown",
      "source": [
        "## 4-2) Sum of total error\n",
        "*  Sum of total error shows the vertical distance between data points and their mean value. In other words, **it quntifies the distribution of the data pionts around their mean**.\n",
        "\n",
        "$$\n",
        " \\begin{aligned}\n",
        " S_t &= \\sum_{i=1}^{n}(y_i-\\bar{y})^2 \\\\\n",
        " \\bar{y} &= \\frac{\\sum y_i}{n}\n",
        " \\end{aligned} \\tag{4-2}\n",
        " $$\n",
        "\n",
        " <div align=\"center\">\n",
        " <img src=\"https://drive.google.com/uc?id=1eS2bSJY9RxicAkh15q60Ps46XMjYNrLN\" width=\"400\">\n",
        " </div>\n"
      ],
      "metadata": {
        "id": "as_oTfWFaNwH"
      }
    },
    {
      "cell_type": "markdown",
      "source": [
        "## 4-3) Standard error of estimate\n",
        "* It quantifies the spread of data points around the regressed curve $f(x)$.\n",
        "$$\n",
        "S_{x/y} = \\sqrt{\\frac{S_r}{n-m}}  \\tag{4-3}\n",
        "$$\n",
        "\n",
        " * $n$: is the number of data points.\n",
        " * $m$: is the number of coeffcients, $a_i$s, obtained from regression. For straight line it is 2.\n",
        " * $x/y$: shows that the error is for a predicted value of y corresponding to a particular value of x.\n",
        ""
      ],
      "metadata": {
        "id": "6LwDaBUXcfiP"
      }
    },
    {
      "cell_type": "markdown",
      "source": [
        "## 4-4) Coefficient of determination ($R^2$)\n"
      ],
      "metadata": {
        "id": "eiQJEpQlfHd8"
      }
    },
    {
      "cell_type": "markdown",
      "source": [
        "# ⚫ 5) Least squares for a polynomial\n",
        "* The least squares method we used for a straight line can be extended for fitting the data on a polynomial of order $m$.\n",
        "\n",
        "* Recatll the regrssion for straigh line $y=a_0+a_1x$. We obtained the following matrix:\n",
        "$$\n",
        "\\begin{aligned}\n",
        "\\begin{cases}\n",
        "n a_0 &+ (\\sum x_i)a_1 &= \\sum y_i  \\\\\n",
        "(\\sum x_i)a_0 &+ (\\sum x^2_i)a_1 &= \\sum x_iy_i  \n",
        "\\end{cases}\n",
        "\\end{aligned}\n",
        "$$\n",
        "\n",
        "&nbsp;\n",
        "\n",
        "\n",
        "* With the same procedure we can obtain the following set of equations for regression of polynomial $y=a_0+a_1x+...+a_{m}x^m$.\n",
        "\n",
        "$$\n",
        "\\begin{aligned}\n",
        "\\begin{cases}\n",
        "n &a_0 + (\\sum x_i)&a_1 + . . . &+ (\\sum x^m_i)&a_m = \\sum y_i  \\\\\n",
        "(\\sum x_i)&a_0 + (\\sum x^2_i)&a_1 +...&+(\\sum x^{m+1}_i)&a_m = \\sum x_iy_i \\\\\n",
        ". & & & &. \\\\\n",
        ". & & & &. \\\\\n",
        ". & & & &. \\\\\n",
        "(\\sum x^m_i)&a_0 +(\\sum x^{m+1}_i)&a_1 +...&+(\\sum x^{2m}_i)&a_m = \\sum x^m_iy_i\n",
        "\\end{cases}\n",
        "\\end{aligned}\n",
        "\\tag{5-1}\n",
        "$$\n",
        "\n",
        "&nbsp;\n",
        "\n"
      ],
      "metadata": {
        "id": "YSNGc-Y5g5ia"
      }
    },
    {
      "cell_type": "markdown",
      "source": [
        "* The above set can be converted into matrix form, the size of coefficient matrix is $(m+1)×(m+1)$:\n",
        "$$ \\begin{bmatrix}\n",
        "n &  \\sum x_i & ... & \\sum x^m_i\\\\\n",
        "\\sum x_i & \\sum x^2_i & ...& \\sum x^{m+1}_i\\\\\n",
        ". \\\\\n",
        ". \\\\\n",
        "\\sum x^m_i & \\sum x^{m+1}_i& ... & \\sum x^{2m}_i\n",
        "\\end{bmatrix}\n",
        "\\begin{bmatrix} a_0 \\\\ a_1\\\\ . \\\\ . \\\\ a_m\\end{bmatrix} =\n",
        "\\begin{bmatrix} \\sum y_i \\\\ \\sum x_iy_i\\\\ . \\\\ . \\\\ \\sum x^m_iy_i \\end{bmatrix}\n",
        "\\tag{5-2}\n",
        "$$"
      ],
      "metadata": {
        "id": "2P0c8HHrmAVS"
      }
    },
    {
      "cell_type": "markdown",
      "source": [
        "### ❓ **Example 3:**\n",
        "We have experimental data on the constant pressure heat capacity ($C_P$) on n-butane from 100 to 1400 K. We are supposed to fit a polynomial of order 2 on these data and calculate the coefficient of determination and average absolue relative error for the fit.\n",
        "\n",
        "| Temperature (K) | $C_P (\\frac{J}{molK})$ |\n",
        "| :---: | :---: |\n",
        "| 100.00 | 55.350 |\n",
        "| 150.00 | 67.320 |\n",
        "| 200.00 | 76.440 |\n",
        "| 273.15 | 92.300 |\n",
        "| 298.15 | 98.490 |\n",
        "| 300.00 | 98.950 |\n",
        "| 400.00 | 124.770 |\n",
        "| 500.00 | 148.660 |\n",
        "| 600.00 | 169.280 |\n",
        "| 700.00 | 187.020 |\n",
        "| 800.00 | 202.380 |\n",
        "| 900.00 | 215.730 |\n",
        "| 1000.00 | 227.360 |\n",
        "| 1100.00 | 237.480 |\n",
        "| 1200.00 | 246.270 |\n",
        "| 1300.00 | 253.930 |\n",
        "| 1400.00 | 260.580 |\n"
      ],
      "metadata": {
        "id": "pLx6Ctn-siqA"
      }
    },
    {
      "cell_type": "markdown",
      "source": [
        "💡 *Solution*\n",
        "\n",
        "We can use Eq. (5-2) to construct the required set of equations for curve fitting. Since $m=2$, we will end with a 3×3 system.\n",
        "\n",
        "Here is the table that calculates the required coefficients. Remember that we do our calculations with 6 decimal points precision."
      ],
      "metadata": {
        "id": "tTu13B2D6Wy8"
      }
    },
    {
      "cell_type": "markdown",
      "source": [
        "|i| $x_i$ | $y_i$ | $x^2_i$ | $x^3_i$ | $x^4_i$| $x_iy_i$ | $x^2_iy_i$|\n",
        "|:---| --- | ---- | ---| --- | ---|---| ---|\n",
        "|1|1.00000E+02 | 5.535000E+01 | 1.000000E+04 | 1.000000E+06 | 1.000000E+08|5.535000E+03 | 5.535000E+05 |\n",
        "|2|2.00000E+02 | 7.644000E+01 | 4.000000E+04 | 8.000000E+06 | 1.600000E+09|1.528800E+04 | 3.057600E+06 |\n",
        "|3|2.73150E+02 | 9.230000E+01 | 7.461092E+04 | 2.037997E+07 | 5.566790E+09|2.521175E+04 | 6.886588E+06 |\n",
        "|4|2.98150E+02 | 9.849000E+01 | 8.889342E+04 | 2.650357E+07 | 7.902041E+09|2.936479E+04 | 8.755113E+06 |\n",
        "|5|3.00000E+02 | 9.895000E+01 | 9.000000E+04 | 2.700000E+07 | 8.100000E+09|2.968500E+04 | 8.905500E+06 |\n",
        "|6|4.00000E+02 | 1.247700E+02 | 1.600000E+05 | 6.400000E+07 | 2.560000E+10|4.990800E+04 | 1.996320E+07 |\n",
        "|7|6.00000E+02 | 1.692800E+02 | 3.600000E+05 | 2.160000E+08 | 1.296000E+11|1.015680E+05 | 6.094080E+07 |\n",
        "|8|8.00000E+02 | 2.023800E+02 | 6.400000E+05 | 5.120000E+08 | 4.096000E+11|1.619040E+05 | 1.295232E+08 |\n",
        "|9|1.00000E+03 | 2.273600E+02 | 1.000000E+06 | 1.000000E+09 | 1.000000E+12|2.273600E+05 | 2.273600E+08 |\n",
        "|10|1.20000E+03 | 2.462700E+02 | 1.440000E+06 | 1.728000E+09 | 2.073600E+12|2.955240E+05 | 3.546288E+08 |\n",
        "|11|1.40000E+03 | 2.605800E+02 | 1.960000E+06 | 2.744000E+09 | 3.841600E+12|3.648120E+05 | 5.107368E+08 |\n",
        "|$\\sum$|**6.57130E+03** | **1.652170E+03** | **5.863504E+06** | **6.346884E+09** | **7.503269E+12**|**1.306161E+06** | **1.331311E+09** |\n",
        "\n"
      ],
      "metadata": {
        "id": "eMzLVOczxiek"
      }
    },
    {
      "cell_type": "markdown",
      "source": [
        "The following set of equaitons is formed.\n",
        "$$ \\begin{bmatrix}\n",
        "11 &  6.57130E+03 & 5.863504E+06 \\\\\n",
        "6.57130E+03 & 5.863504E+06 & 6.346884E+09\\\\\n",
        " 5.863504E+06 & 6.346884E+09 & 7.503269E+12\n",
        "\\end{bmatrix}\n",
        "\\begin{bmatrix} a_0 \\\\ a_1\\\\ a_2\\end{bmatrix} =\n",
        "\\begin{bmatrix} 1.652170E+03 \\\\ 1.306161E+06\\\\ 1.331311E+09 \\end{bmatrix}\n",
        "$$\n",
        "\n",
        "The solution of the above set using Gauss elimination (or any other method) is:\n",
        "$$\n",
        "\\begin{aligned}\n",
        "a_0 &= 2.177855\\times10^1 \\\\  \n",
        "a_1 &= 2.929206\\times10^{-1} \\\\\n",
        "a_2 &= -8.736465\\times10^{-5}\n",
        "\\end{aligned}\n",
        "$$"
      ],
      "metadata": {
        "id": "tA3426zG62K4"
      }
    },
    {
      "cell_type": "markdown",
      "source": [
        "## 5-1) Code for polynomial fit"
      ],
      "metadata": {
        "id": "kvP3V4lS-UiI"
      }
    },
    {
      "cell_type": "code",
      "source": [
        "import numpy as np\n",
        "\n",
        "def polyfit(x, y, m, printMat: bool= False):\n",
        "\n",
        "  n = len(x)\n",
        "  ny = len(y)\n",
        "\n",
        "  if n != ny:\n",
        "    print(\"number of data points in vectors x and y is not equal\")\n",
        "    return None\n",
        "\n",
        "  A = np.zeros((m+1,m+1))\n",
        "  B = np.zeros((m+1,1))\n",
        "\n",
        "  for i in range(m+1):\n",
        "    for j in range(m+1):\n",
        "      A[i,j]= np.sum(pow(x,i+j))\n",
        "\n",
        "    B[i] = np.sum( y * pow(x,i))\n",
        "\n",
        "\n",
        "  coeffs = np.linalg.solve(A,B)\n",
        "  a = coeffs.reshape((m+1),)\n",
        "\n",
        "  # constructing fitted function\n",
        "  def fittedFx(x):\n",
        "    yi = [pow(x,i) for i in range(m+1)]\n",
        "    return np.dot(a,yi)\n",
        "\n",
        "  # error calculation\n",
        "  e = np.zeros((n,))\n",
        "  er = np.zeros((n,))\n",
        "  for i in range(n):\n",
        "    e[i] = y[i] - fittedFx(x[i])\n",
        "    er[i] = e[i]/max(abs(y[i]),1.0e-15)\n",
        "\n",
        "  y_mean = np.mean(y)\n",
        "  Sr = np.sum(np.square(e) )\n",
        "  St = np.sum( np.square(y - y_mean) )\n",
        "\n",
        "  R2 = 1- Sr/St;\n",
        "  averageRelError = np.mean(er)\n",
        "\n",
        "  if printMat:\n",
        "    print(\"Marix A \\n\",A)\n",
        "    print(\"Vector B \\n\", B)\n",
        "\n",
        "  return a, R2, averageRelError\n"
      ],
      "metadata": {
        "id": "jjBBmtFv-VZk"
      },
      "execution_count": 60,
      "outputs": []
    },
    {
      "cell_type": "code",
      "source": [
        "import numpy as np\n",
        "import matplotlib.pyplot as plt\n",
        "\n",
        "T = np.array([100, 200, 273.15, 298.15,\n",
        "              300, 400, 600,\n",
        "              800, 1000, 1200, 1400])\n",
        "\n",
        "Cp = np.array([55.35, 76.44, 92.3, 98.49,\n",
        "               98.95, 124.77, 169.28,\n",
        "               202.38, 227.36, 246.27, 260.58])\n",
        "\n",
        "\n",
        "[a0, a1, a2], R2, err = polyfit(T,Cp, 2)\n",
        "\n",
        "print(f'R2 = {R2:.5f}')\n",
        "print(f'Average absolute relative error = {err:.5f}')\n",
        "\n",
        "fx = lambda x: a0+a1*x+a2*x*x\n",
        "TT = np.linspace(100,1400, 40)\n",
        "CpPredicted = [fx(Ti) for Ti in TT]\n",
        "\n",
        "plt.scatter(T,Cp, c='r')\n",
        "plt.plot(TT,CpPredicted)\n",
        "plt.show()\n"
      ],
      "metadata": {
        "colab": {
          "base_uri": "https://localhost:8080/",
          "height": 467
        },
        "id": "1E82r6rg5BEl",
        "outputId": "c019f2ea-a3b7-4bf5-e467-f29b14033530"
      },
      "execution_count": 64,
      "outputs": [
        {
          "output_type": "stream",
          "name": "stdout",
          "text": [
            "R2 = 0.99874\n",
            "Average absolute relative error = 0.00188\n"
          ]
        },
        {
          "output_type": "display_data",
          "data": {
            "text/plain": [
              "<Figure size 640x480 with 1 Axes>"
            ],
            "image/png": "[encoded data removed]"
          },
          "metadata": {}
        }
      ]
    }
  ]
}