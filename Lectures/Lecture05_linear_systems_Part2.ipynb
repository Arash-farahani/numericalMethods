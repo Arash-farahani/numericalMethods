{
  "nbformat": 4,
  "nbformat_minor": 0,
  "metadata": {
    "colab": {
      "provenance": [],
      "authorship_tag": "ABX9TyN6gxMLaks6rLfKF/+g8M00",
      "include_colab_link": true
    },
    "kernelspec": {
      "name": "python3",
      "display_name": "Python 3"
    },
    "language_info": {
      "name": "python"
    }
  },
  "cells": [
    {
      "cell_type": "markdown",
      "metadata": {
        "id": "view-in-github",
        "colab_type": "text"
      },
      "source": [
        "<a href=\"https://colab.research.google.com/github/hamidrezanorouzi/numericalMethods/blob/main/Lectures/Lecture05_linear_systems_Part2.ipynb\" target=\"_parent\"><img src=\"https://colab.research.google.com/assets/colab-badge.svg\" alt=\"Open In Colab\"/></a>"
      ]
    },
    {
      "cell_type": "markdown",
      "source": [
        "# **System of Linear Equations - Part 2**\n",
        "\n",
        "&nbsp;\n",
        "\n",
        "Lecturer: **Hamidreza Norouzi**\n",
        "\n",
        "&nbsp;"
      ],
      "metadata": {
        "id": "qo0UOiQfhrKl"
      }
    },
    {
      "cell_type": "markdown",
      "source": [
        "### **Notes**❕\n",
        "This content forms a part of the instructional presentations for the **`numerical methods in chemical engineering`** course designed for undergraduate chemical engineering students at Amirkabir University of Technology.\n",
        "\n",
        "Feel free to utilize the information and source codes provided in this material, ensuring appropriate acknowledgment of the original document.\n",
        "\n",
        "The visual elements featured in this document are either original or have been obtained from the following sources, unless specified otherwise:\n",
        "\n",
        "* Steven C. Chapra, Applied Numerical Methods with Matlab for Engineers and Scientists, 3rd edition, McGraw-Hill (2012).\n",
        "* Amos Gilat and Vish Subramanian, Numerical Methods for Engineers and Scientists, 3rd edition, Wiley (2014).\n",
        "\n",
        "\n",
        "<div align=\"center\">\n",
        "🟧 🟧 🟧\n",
        "</dive>\n",
        "\n",
        "---"
      ],
      "metadata": {
        "id": "e685fl2Zh6Gb"
      }
    },
    {
      "cell_type": "markdown",
      "source": [
        "# 🔵 1) LU factorization"
      ],
      "metadata": {
        "id": "fhq80p7tq3rq"
      }
    },
    {
      "cell_type": "markdown",
      "source": [
        "* Consider the following system:\n",
        "$$\n",
        "[A]\\{x\\}=\\{b\\} \\tag{1-1}\n",
        "$$\n",
        "* It happens in engineering applications that the matrix A is not changing and only B changes for solving the problems.\n",
        "* In this conditions, Gauss elimination becomes inefficient.\n",
        "* We can re-arrange Eq. (1-1) into:\n",
        "$$\n",
        "[A]\\{x\\}-\\{b\\}=0 \\tag{1-2}\n",
        "$$\n",
        "* Consider that Eq. (1-2) can be converted into upper traingular system, for example a $3\\times 3$ system:\n",
        "$$\n",
        "\\begin{bmatrix}\n",
        "u_{11} & u_{12} & u_{13} \\\\\n",
        "0 & u_{22} & u_{23} \\\\\n",
        "0 & 0 & u_{33}\n",
        "\\end{bmatrix}\n",
        "\\begin{bmatrix}\n",
        "x_1 \\\\ x_2 \\\\x_3\n",
        "\\end{bmatrix} =\n",
        "\\begin{bmatrix}\n",
        "d_1 \\\\ d_2 \\\\ d_3\n",
        "\\end{bmatrix}\n",
        "\\tag{1-3}\n",
        "$$\n",
        "* Eq. (1-3) can be shown in compact version:\n",
        "$$\n",
        "[U]\\{x\\}-\\{d\\} = 0 \\tag{1-4}\n",
        "$$\n",
        "* Now suppose that there is lower triangular matrix like this:\n",
        "$$\n",
        "L=\n",
        "\\begin{bmatrix}\n",
        "1 & 0 & 0\\\\\n",
        "l_{21} & 1 & 0 \\\\\n",
        "l_{31} & l_{32} & 1\n",
        "\\end{bmatrix}\n",
        "\\tag{1-5}\n",
        "$$\n",
        " that has the property that when Eq. (1-4) is premultiplied by it, Eq. (1-2) is the result.\n",
        "$$\n",
        "[L]\\{[U]\\{x\\}-\\{d\\}\\} = [A]\\{x\\}-\\{b\\}  \\tag{1-6}\n",
        "$$\n"
      ],
      "metadata": {
        "id": "JGH47o1hlYxS"
      }
    },
    {
      "cell_type": "markdown",
      "source": [
        "* So we can say:\n",
        " $$\n",
        " [L][U] = [A]\n",
        " \\tag{1-7}\n",
        " $$\n",
        "\n",
        " &nbsp;\n",
        "\n",
        " $$\n",
        " [L]\\{d\\}= \\{b\\}\n",
        " \\tag{1-8}\n",
        " $$\n",
        "\n",
        "* We can use a two step strategy for solving such a system:\n",
        " * **Step1:** LU factorization in which $[A]$ is decomposed into $[U]$ and $[L]$.\n",
        " * **Step2:** Obtain $\\{d\\}$ from Eq. (1-8) and then obtain $\\{x\\}$ from Eq. (1-4)."
      ],
      "metadata": {
        "id": "RPZpwNEKqlb4"
      }
    },
    {
      "cell_type": "markdown",
      "source": [
        "<div align=\"center\">\n",
        "<img src=\"https://drive.google.com/uc?id=1_EC4mDmwyxRjk8a_J6ygMLdguelvKFer\" width=\"500\">\n",
        "</div>"
      ],
      "metadata": {
        "id": "5avjwxQjrXIx"
      }
    },
    {
      "cell_type": "markdown",
      "source": [
        "## 1-1) How to factorize?"
      ],
      "metadata": {
        "id": "O9dpVkIZuX0u"
      }
    },
    {
      "cell_type": "markdown",
      "source": [
        "## 1-2) Code for LU factorization"
      ],
      "metadata": {
        "id": "sPuE70O4u05j"
      }
    },
    {
      "cell_type": "code",
      "source": [
        "import numpy as np\n",
        "\n",
        "def lu(matrix):\n",
        "\n",
        "  n = len(matrix)\n",
        "  L = np.identity(n)\n",
        "  U = matrix.copy().astype('double')\n",
        "\n",
        "  for k in range(n - 1):\n",
        "\n",
        "    # factorization\n",
        "    for i in range(k + 1, n):\n",
        "      factor = U[i, k] / U[k, k]\n",
        "      L[i, k] = factor\n",
        "      U[i, k:] -= factor * U[k, k:]\n",
        "\n",
        "  return L, U"
      ],
      "metadata": {
        "id": "pQHkCKqG3mAZ"
      },
      "execution_count": null,
      "outputs": []
    },
    {
      "cell_type": "markdown",
      "source": [
        "### ❓ **Example1:**"
      ],
      "metadata": {
        "id": "Vq-Biv-AvYOU"
      }
    },
    {
      "cell_type": "markdown",
      "source": [
        "## 1-3) LU factorization with pivoting"
      ],
      "metadata": {
        "id": "76xme7hnvPdJ"
      }
    },
    {
      "cell_type": "markdown",
      "source": [
        "## 1-4) Code for LU factorization with pivoting"
      ],
      "metadata": {
        "id": "iRzzYmB9kHwy"
      }
    },
    {
      "cell_type": "code",
      "execution_count": null,
      "metadata": {
        "id": "DlBWBET9hmX1"
      },
      "outputs": [],
      "source": [
        "import numpy as np\n",
        "\n",
        "def luPivoting(matrix):\n",
        "  n = len(matrix)\n",
        "\n",
        "  L = np.identity(n)\n",
        "  U = matrix.copy().astype('double')\n",
        "  P = np.identity(n)\n",
        "\n",
        "  for k in range(n - 1):\n",
        "\n",
        "    # Partial Pivoting\n",
        "    pivot_row = np.argmax(abs(U[k:, k])) + k\n",
        "    if pivot_row != k:\n",
        "      U[[k, pivot_row]] = U[[pivot_row, k]]\n",
        "      P[[k, pivot_row]] = P[[pivot_row, k]]\n",
        "      if k > 0:\n",
        "        L[[k, pivot_row], :k] = L[[pivot_row, k], :k]\n",
        "\n",
        "    # factorization\n",
        "    for i in range(k + 1, n):\n",
        "      factor = U[i, k] / U[k, k]\n",
        "      L[i, k] = factor\n",
        "      U[i, k:] -= factor * U[k, k:]\n",
        "\n",
        "  return P, L, U"
      ]
    },
    {
      "cell_type": "markdown",
      "source": [
        "<div align=\"center\">\n",
        "🟦 🟦 🟦\n",
        "</div>\n",
        "\n",
        "\n",
        "---\n",
        "\n"
      ],
      "metadata": {
        "id": "5AmzZgNDuw9o"
      }
    },
    {
      "cell_type": "markdown",
      "source": [
        "# 2) Gauss-Seidel method"
      ],
      "metadata": {
        "id": "peNUsaXgu7Ok"
      }
    },
    {
      "cell_type": "markdown",
      "source": [
        "* Certain problems in engineering produce a set of linear equations which are dominantly diagonal systems.\n",
        "\n",
        "* **Dominantly diagonal matrix**: in each row, the absolute value of the diagonal element is greater than the sum of the absolute values of off-diagonal elements.\n",
        "$$\n",
        "|a_{ii}|>\\sum_{j=1, j\\neq i}^n|a_{ij}|\n",
        "$$\n",
        "\n",
        "* We can use iterative method for solving such a system.\n"
      ],
      "metadata": {
        "id": "kdnGd4uOvuAf"
      }
    },
    {
      "cell_type": "markdown",
      "source": [
        "* For example consider the following system of equations:\n",
        "$$\n",
        "\\begin{cases}\n",
        "x_1+8x_2-2x_3 = 9  \\\\\n",
        "-3x_1-x_2-7x_3 = -33 \\\\\n",
        "-10x_1+2x_2+3x_3=6 \\\\\n",
        "\\end{cases}\n",
        "$$\n",
        "* First we must rearrange rows / equations to obtain a system that most/all of the rows are diagonal.\n",
        "\\begin{cases}\n",
        "-10x_1+2x_2+3x_3=6 \\\\\n",
        "x_1+8x_2-2x_3 = 9  \\\\\n",
        "-3x_1-x_2-7x_3 = -33 \\\\\n",
        "\\end{cases}\n",
        "* Each equation can be solved for its diagonal element:\n",
        "$$\n",
        "\\begin{aligned}\n",
        "x_1 &= \\frac{6-2x_2-3x_3}{-10} &(Eq1)\\\\\n",
        "x_2 &= \\frac{ 9-x_1+2x_3}{8} &(Eq2)\\\\\n",
        "x_3 &= \\frac{-33+3x_1+x_2}{-7} &(Eq3)\\\\\n",
        "\\end{aligned}\n",
        "$$"
      ],
      "metadata": {
        "id": "XG85SER7l5oH"
      }
    },
    {
      "cell_type": "markdown",
      "source": [
        "* To solve these equations, an initial guess is required for $x^0_2$ and $x^0_3$.\n",
        "* Using values of $x^0_2$ and $x^0_3$ a new estimate of $x^1_1$ is obtained from (Eq1).\n",
        "* Using values of $x^0_3$ and $x^1_1$, a new estimate of $x^1_2$ is obtained from (Eq2).\n",
        "* Using values of $x^1_1$ and $x^1_2$, a new estimate of $x^1_3$ is obtained from (Eq3).\n",
        "\n",
        "* The estimated value of $\\{x\\}$ is then used as the guess in the next iteration.\n",
        "* Iteration continues until a convergence occurs:\n",
        "$$\n",
        "|\\frac{x^j_i-x^{j-1}_i}{x^j_i}|\\times 100\\% < tol \\ \\ \\ \\text{for} \\ \\ \\ i=1,2,...,n\n",
        "$$"
      ],
      "metadata": {
        "id": "er9U7RnCn7Qj"
      }
    },
    {
      "cell_type": "markdown",
      "source": [
        "### ❓ **Example 1:**\n",
        "Use Gauss-Seidel method, obtain the solution for the following system with initial guess, $x_1=0$, $x_2=0$, $x_3=0$ and $tol = 0.1%$.\n",
        "\n",
        "$$\n",
        "\\begin{cases}\n",
        "0.1x_1 + 7x_2-0.3x_3 = -19.3 \\\\\n",
        "0.3x_1 - 0.2x_2+10x_3 = 71.4 \\\\\n",
        "3x_1 -0.1x_2-0.2x_3 = 7.85\n",
        "\\end{cases}\n",
        "$$"
      ],
      "metadata": {
        "id": "Lu94HTwEr8Vs"
      }
    },
    {
      "cell_type": "markdown",
      "source": [
        "💡 *Solution*\n",
        "We first arrange equations based on the element with largest coefficient.\n",
        "$$\n",
        "\\begin{aligned}\n",
        "x_1 &= \\frac{7.85+0.1x_2+0.2x_3}{3} \\\\\n",
        "x_2 &= \\frac{-19.3-0.1x_1+0.3x_3}{7} \\\\\n",
        "x_3 &= \\frac{71.4-0.3x_1+0.2x_2}{10}\n",
        "\\end{aligned}\n",
        "$$\n",
        "**iteration1:**\n",
        "\\begin{cases}\n",
        "x^0_2 = 0, x^0_3=0 &⇒ x^1_1 &= \\frac{7.85+0.1(0)+0.2(0)}{3} = 2.6167 \\\\\n",
        "x^1_1 = 2.6167, x^0_3=0 &⇒ x^1_2 &= \\frac{-19.3-0.1(2.6167)+0.3(0)}{7} = -2.7945 \\\\\n",
        "x^1_1 = 2.6167, x^1_2=-2.7945 &⇒ x^1_3 &= \\frac{71.4-0.3(2.6167)+0.2(-2.7945)}{10} = 7.0056\n",
        "\\end{cases}\n",
        "\n",
        "**iteration2:**\n",
        "\\begin{cases}\n",
        "x^1_1 = 2.6167 \\\\\n",
        "x^1_2 = -2.7945, x^1_3= 7.0056 &⇒ x^2_1 &= \\frac{7.85+0.1(-2.7945)+0.2(7.0056)}{3} = 2.9906 \\\\\n",
        "x^2_1 = 2.9906, x^1_3=7.00560 &⇒ x^2_2 &= \\frac{-19.3-0.1(2.9906)+0.3(7.0056)}{7} = -2.4996 \\\\\n",
        "x^2_1 = 2.9906, x^2_2=-2.4996 &⇒ x^2_3 &= \\frac{71.4-0.3(2.9906)+0.2(-2.4996)}{10} = 7.0003\n",
        "\\end{cases}\n",
        "\n"
      ],
      "metadata": {
        "id": "6KL8eUSsuFUs"
      }
    },
    {
      "cell_type": "markdown",
      "source": [
        "**iteration3:**\n",
        "\\begin{cases}\n",
        "x^2_1 = 2.9906 \\\\\n",
        "x^2_2 = -2.4996, x^2_3= 7.0003 &⇒ x^3_1 &= \\frac{7.85+0.1(-2.4996)+0.2(7.0003)}{3} = 3.0000 \\\\\n",
        "x^3_1 = 3.0000, x^2_3=7.0003 &⇒ x^3_2 &= \\frac{-19.3-0.1(3.0000)+0.3(7.0003)}{7} = -2.5000 \\\\\n",
        "x^3_1 = 3.0000, x^3_2=-2.5000 &⇒ x^3_3 &= \\frac{71.4-0.3(3.0000)+0.2(-2.5000)}{10} = 7.0000\n",
        "\\end{cases}\n",
        "\n",
        "\\begin{cases}\n",
        "ϵ_{a1} = |\\frac{3-2.9906}{3}|\\times 100 = 0.31\\% ❌\\\\\n",
        "ϵ_{a2} = |\\frac{-2.5+2.4996}{-2.5}|\\times 100 = 0.016\\% ✅ \\\\\n",
        "ϵ_{a3} = |\\frac{7-7.0003}{7}|\\times 100 = 0.004\\% ✅\\\\\n",
        "\\end{cases}"
      ],
      "metadata": {
        "id": "XEZR-fUs3uii"
      }
    },
    {
      "cell_type": "markdown",
      "source": [
        "**iteration4:**\n",
        "\n",
        "If we perform one more iteration we obtain:\n",
        "$$\n",
        "x^4_1 = 3.0000, x^4_2 = -2.5000, x^4_3= 7.0000\n",
        "$$"
      ],
      "metadata": {
        "id": "k_vTIA7-4TL4"
      }
    },
    {
      "cell_type": "markdown",
      "source": [
        "# 2-1) Code for Gauss-Seidel method\n"
      ],
      "metadata": {
        "id": "Y1NYBxlk6kkO"
      }
    },
    {
      "cell_type": "code",
      "source": [
        "import numpy as np\n",
        "\n",
        "def GaussSeidel(A, b, x0, tol = 1.0e-3):\n",
        "  n = len(b)\n",
        "  x = x0.copy().astype('double')\n",
        "\n",
        "  for iter in range(100):\n",
        "    for i in range(n):\n",
        "      sum1 = np.dot(A[i, :i], x[:i])\n",
        "      sum2 = np.dot(A[i, i+1:], x[i+1:])\n",
        "      x[i] = (b[i] - sum1 - sum2) / A[i, i]\n",
        "\n",
        "    # Check for convergence\n",
        "    if np.all(np.abs((x - x0)/np.maximum(x,1.0e-14)) < tol):\n",
        "      return x\n",
        "\n",
        "    x0 = x.copy()\n",
        "\n",
        "  # no solution\n",
        "  return None"
      ],
      "metadata": {
        "id": "OM7LMyKm4SWO"
      },
      "execution_count": null,
      "outputs": []
    },
    {
      "cell_type": "code",
      "source": [
        "A = np.array([[3, -0.1, -0.2],[0.1, 7, -0.3],[0.3, -0.2, 10]])\n",
        "B = np.array([7.85, -19.3, 71.4])\n",
        "x0 = np.array([0,0,0])\n",
        "\n",
        "res = GaussSeidel(A,B,x0)\n",
        "if res is not None:\n",
        "  print(\"The solution is \\n\", res)\n",
        "else:\n",
        "  print(\"No solution!\")"
      ],
      "metadata": {
        "colab": {
          "base_uri": "https://localhost:8080/"
        },
        "id": "-Io95iDB0Js7",
        "outputId": "5c41f1d4-babd-4b26-bad0-2b00f37c57b7"
      },
      "execution_count": null,
      "outputs": [
        {
          "output_type": "stream",
          "name": "stdout",
          "text": [
            "The solution is \n",
            " [ 3.  -2.5  7. ]\n"
          ]
        }
      ]
    }
  ]
}