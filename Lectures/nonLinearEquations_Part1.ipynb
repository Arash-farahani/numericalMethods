{
  "nbformat": 4,
  "nbformat_minor": 0,
  "metadata": {
    "colab": {
      "provenance": [],
      "authorship_tag": "ABX9TyP9hZvoc9GHbgOkO5zhDq2Y",
      "include_colab_link": true
    },
    "kernelspec": {
      "name": "python3",
      "display_name": "Python 3"
    },
    "language_info": {
      "name": "python"
    }
  },
  "cells": [
    {
      "cell_type": "markdown",
      "metadata": {
        "id": "view-in-github",
        "colab_type": "text"
      },
      "source": [
        "<a href=\"https://colab.research.google.com/github/hamidrezanorouzi/numericalMethods/blob/main/Lectures/nonLinearEquations_Part1.ipynb\" target=\"_parent\"><img src=\"https://colab.research.google.com/assets/colab-badge.svg\" alt=\"Open In Colab\"/></a>"
      ]
    },
    {
      "cell_type": "markdown",
      "source": [
        "# **Solving non-linear equations - Part 1**"
      ],
      "metadata": {
        "id": "2ZmPMFSA58YP"
      }
    },
    {
      "cell_type": "markdown",
      "source": [
        "### **Notes**❕\n",
        "This document is a part of the course lectures of **`numerical methods in chemical engineering`** for B.Sc. students of chemical engineering at Amirkabir university of Technology.\n",
        "\n",
        "You can use the content and the source codes in this document with proper referencing the original document.\n",
        "\n",
        "All the art-work contents of this document are obtained from the\n",
        "following sources, unless otherwise stated:\n",
        "* Steven C. Chapra, Applied Numerical Methods with Matlab for Engineers and Scientists, 3rd edition, McGraw-Hill (2012).\n",
        "\n",
        "\n",
        "<div align=\"center\">\n",
        "🟥 🟥 🟥\n",
        "</dive>\n",
        "\n",
        "---\n",
        "\n"
      ],
      "metadata": {
        "id": "ZmBBBF1f5wnm"
      }
    },
    {
      "cell_type": "markdown",
      "source": [
        "# 🔵 1) Some applications in chemical engineering\n",
        "## 1-1) Finding molar volume using EOS\n",
        "* Solving equations of state (EOS) for finding the vapor and/or liquid molar volume (copressibility factor).\n",
        "* Consider Peng-Robinson EOS:\n",
        "\n",
        "$$\n",
        "P = \\frac{RT}{v-b}-\\frac{aα}{v^2+2bv-b^2} \\tag{1-1}\n",
        "$$\n",
        "* This equation can be re-arrange to give $Z=\\frac{Pv}{RT}$ with known T and P:\n",
        "$$\n",
        "Z^3 - (1-B)Z^2 + (A-2B-3B^2)Z - (AB-B^2-B^3)=0  \\\\\n",
        "A = \\frac{\\alpha aP}{R^2T^2} \\\\\n",
        "B = \\frac{bP}{RT}\n",
        "\\tag{1-2}\n",
        "$$\n",
        "\n",
        "\n"
      ],
      "metadata": {
        "id": "CBAEkEpm6NC8"
      }
    },
    {
      "cell_type": "markdown",
      "source": [
        "<div align=\"center\">\n",
        "<img src=\"https://drive.google.com/uc?id=12zuK6cvE-XoGXIX0feBcWikY_ieIQAJz\" width=\"400\" />\n",
        "</div>\n"
      ],
      "metadata": {
        "id": "zqw52_1h_ioi"
      }
    },
    {
      "cell_type": "markdown",
      "source": [
        "## 1-2) Finding friction factor in pipes\n",
        "* In hydraulic calculation in chemical engineering we offten face with finiding the friction factor, *f*, using a correlation and then calculating the pressure drop in a pipe:\n",
        "$$\n",
        "ΔP = f\\frac{L}{D}(\\frac{1}{2}ρV^2) \\tag{1-3}\n",
        "$$\n",
        "  - V is the fluid velocity\n",
        "  - $\\rho$ is the fluid density\n",
        "  - L is the pipe length\n",
        "  - D is the pipe diameter\n",
        "* Given **Re** number and **$\\epsilon/D$**, the friction factor is obtained by **Colebrook** equation:\n",
        "$$\n",
        "\\frac{1}{\\sqrt{f}}= -2log(\\frac{ϵ}{3.7D}+\\frac{2.51}{Re \\sqrt{f}}) \\tag{1-4}\n",
        "$$\n",
        "&nbsp;\n",
        "<div align=\"center\">\n",
        "<img src=\"https://drive.google.com/uc?id=1c6XNwEiG8lvYKIsF-d4akCQ_qsIP_qY9\" width=\"500\" />\n",
        "</div>\n"
      ],
      "metadata": {
        "id": "hdngWk7nBdc2"
      }
    },
    {
      "cell_type": "markdown",
      "source": [
        "<div align=\"center\">\n",
        "🟦 🟦 🟦\n",
        "</div>\n",
        "\n",
        "\n",
        "---\n",
        "\n"
      ],
      "metadata": {
        "id": "o1VTIiRIG82G"
      }
    },
    {
      "cell_type": "markdown",
      "source": [
        "# 🟡 2) Graphical Method\n",
        "* The simplest way to find the roots of an equation is to plot it over the entire range of our interest to find approximate roots of the equation.\n",
        "* Ploting an equation (if possible) is useful for finding the interval in which a root exists and number of roots."
      ],
      "metadata": {
        "id": "abK0OiAiHJQM"
      }
    },
    {
      "cell_type": "code",
      "source": [
        "import matplotlib.pyplot as plt\n",
        "import numpy as np\n",
        "x = np.linspace(start=0, stop=5, num =30)\n",
        "y = pow(x,3)-  7*pow(x,2) + 14*x - 8\n",
        "plt.plot(x,y)\n",
        "plt.grid()"
      ],
      "metadata": {
        "colab": {
          "base_uri": "https://localhost:8080/",
          "height": 430
        },
        "id": "roisBZ0d5qb2",
        "outputId": "0eae34e0-b9d6-4b0a-ac52-27f0f31016e5"
      },
      "execution_count": 36,
      "outputs": [
        {
          "output_type": "display_data",
          "data": {
            "text/plain": [
              "<Figure size 640x480 with 1 Axes>"
            ],
            "image/png": "[encoded data removed]"
          },
          "metadata": {}
        }
      ]
    },
    {
      "cell_type": "markdown",
      "source": [
        "# 🔴 3) Finding intervals containing root\n",
        "* It is based on a simple property of function around the root: **change of sign**.\n",
        "* if $f(x)$ is a **continuous function** and it has **one root** in interval [a,b], we have:\n",
        "$$\n",
        "f(a)f(b) < 0 \\tag{3-1}\n",
        "$$\n",
        "* The interval is divided into n sub-intervals and the possibility of existance of root in each of these sub-intervals is tested."
      ],
      "metadata": {
        "id": "jbCqOTGtigdg"
      }
    },
    {
      "cell_type": "code",
      "source": [
        "import math\n",
        "import numpy as np\n",
        "import matplotlib.pyplot as plt\n",
        "\n",
        "def findRootInterval(fx, xmin, xmax, n=10):\n",
        "  h = (xmax - xmin)/n\n",
        "  xs = xmin;\n",
        "  fxs = fx(xs)\n",
        "  intervals = []\n",
        "  for i in range(n):\n",
        "    xe = xs + h\n",
        "    fxe = fx(xe)\n",
        "    if fxs*fxe <= 0:\n",
        "      intervals.append([xs, xe])\n",
        "    xs = xe\n",
        "    fxs = fxe\n",
        "  return intervals\n",
        "\n",
        "def fx(x):\n",
        "  return math.sin(10*x)+math.cos(3*x)\n",
        "\n",
        "xmin = 3\n",
        "xmax = 6\n",
        "n = 100\n",
        "\n",
        "x = np.linspace(xmin,xmax, 10*n)\n",
        "y = [fx(xi) for xi in x]\n",
        "\n",
        "plt.plot(x,y)\n",
        "\n",
        "intervals = findRootInterval(fx, xmin, xmax , n)\n",
        "intervals_arr = np.asarray(intervals);\n",
        "nInterval = len(intervals)\n",
        "y0 = np.zeros(nInterval)\n",
        "x0 = np.linspace(xmin,xmax,nInterval)\n",
        "plt.plot(x0,y0, '-.k')\n",
        "\n",
        "plt.scatter(intervals_arr[:,0],y0, marker='x',c='r')\n",
        "plt.scatter(intervals_arr[:,1],y0, marker='x',c='g')\n",
        "\n",
        "print(\"number of intervals is \", nInterval)\n"
      ],
      "metadata": {
        "colab": {
          "base_uri": "https://localhost:8080/",
          "height": 448
        },
        "id": "NtMwZQWUkloC",
        "outputId": "d0f4b56a-27b7-4834-820e-8e907cb4f4ef"
      },
      "execution_count": 3,
      "outputs": [
        {
          "output_type": "stream",
          "name": "stdout",
          "text": [
            "number of intervals is  9\n"
          ]
        },
        {
          "output_type": "display_data",
          "data": {
            "text/plain": [
              "<Figure size 640x480 with 1 Axes>"
            ],
            "image/png": "[encoded data removed]"
          },
          "metadata": {}
        }
      ]
    },
    {
      "cell_type": "markdown",
      "source": [
        "<div align=\"center\">\n",
        "🟥 🟥 🟥\n",
        "</div>\n",
        "\n",
        "\n",
        "---\n",
        "\n"
      ],
      "metadata": {
        "id": "MmrjRksu4MO6"
      }
    },
    {
      "cell_type": "markdown",
      "source": [
        "# 🟢 4) Bisection method\n",
        "* Assume $f(x)$ is a $R⇒R$ continuous function and there are two numbers a and b where $f(a)f(b)<0$. Then, this function has at least one zero in this interval.\n",
        "* This method is based on the finding these two numbers and dividing the interval into two equal sub-intervals and keeping the sub-interval at which $f(x)$ changes sign and repeating this procedure until a certain limit."
      ],
      "metadata": {
        "id": "RSaVuklRztiw"
      }
    },
    {
      "cell_type": "markdown",
      "source": [
        "<div align=\"center\">\n",
        "<img src=\"https://drive.google.com/uc?id=1zukhCuUcB1rpVAa_ZCOfTDKm-eR53WU2\" width=\"800\"/>\n",
        "</div>"
      ],
      "metadata": {
        "id": "wqjC1eeURP7v"
      }
    },
    {
      "cell_type": "markdown",
      "source": [
        "## 4-1) Algorithm\n",
        "* The algorithm for bisection method can be something as follows:\n",
        "\n",
        "1.   Get a, b, tol\n",
        "2.   Check if f(a)f(b) > 0\n",
        " *   **True**: no root can be found\n",
        "3. x_mid = (a+b)/2\n",
        "4. if abs(f(x_mid))<tol\n",
        " * root is x_mid, report\n",
        "5. if f(a)f(x_mid) < 0\n",
        " * **True**: b = x_mid\n",
        " * **False**: a = x_mid\n",
        "6. Calculate approximate error\n",
        " * err = abs((x_mid - x_mid_0)/x_mid)\n",
        " * Fix the program for x_mid near zero\n",
        "7. if err < tol\n",
        " * **True**: root is x_mid, report\n",
        " * **False**: go to 3\n",
        "\n",
        "\n"
      ],
      "metadata": {
        "id": "DoTVliOgSeVF"
      }
    },
    {
      "cell_type": "markdown",
      "source": [
        "## 4-2) Code for bisection method\n",
        "\n",
        "* You can find the bisection method code in [matlab here](https://github.com/hamidrezanorouzi/numericalMethods/blob/main/matlab/bisection.m) or in [python here](https://github.com/hamidrezanorouzi/numericalMethods/blob/main/python/Root/bisection.py).  "
      ],
      "metadata": {
        "id": "4wav-1Puo341"
      }
    },
    {
      "cell_type": "code",
      "source": [
        "import math\n",
        "\n",
        "def Bisection(f, a, b, tol = 0.001, maxIter = 100):\n",
        "\n",
        "  fa = f(a)\n",
        "  fb = f(b)\n",
        "  x_mid_0 = a;\n",
        "\n",
        "  if fa * fb > 0 :\n",
        "    raise Exception(f'No root can be found in interval [{a},{b}]')\n",
        "\n",
        "  for iter in range(maxIter):\n",
        "    x_mid = (a + b) / 2\n",
        "    fx_mid = f(x_mid)\n",
        "\n",
        "    if fa * fx_mid < 0 :\n",
        "      b = x_mid\n",
        "      fb = fx_mid\n",
        "    else:\n",
        "      a = x_mid\n",
        "      fa = fx_mid\n",
        "\n",
        "    if abs(x_mid)>1.0e-15 :\n",
        "      ea = abs( (x_mid - x_mid_0) / x_mid)\n",
        "    x_mid_0 = x_mid\n",
        "\n",
        "    if abs(fx_mid) < tol or ea < tol:\n",
        "      return (x_mid, ea, iter+1)\n",
        "\n",
        "  raise Exception(f'No root can be found in interval [{a},{b}]'\n",
        "                  f' after {maxIter} iterations')\n",
        "  return 0;\n",
        "\n",
        "def fx(x):\n",
        "  return x*math.sin(2*x)\n",
        "\n",
        "intervals = findRootInterval(fx, 0.1, 7 , 10)\n",
        "print(intervals)\n",
        "for interval in intervals:\n",
        "  root = Bisection(fx, interval[0], interval[1], tol = 1.0e-5 )\n",
        "  print(root)"
      ],
      "metadata": {
        "id": "1ZEcCYJKmJ96"
      },
      "execution_count": null,
      "outputs": []
    },
    {
      "cell_type": "markdown",
      "source": [
        "### ❓ **Example 1:**\n",
        "Find the root of function $f(x) = 8-4.5(x-sin(x))$ in the interval [2,3] with tol = 0.5 % using bisection method.\n",
        "\n",
        "💡 *Solution*\n",
        "\n",
        "We start we a = 2 and b = 3 and narrowing the interval based on the bisection method.\n",
        "\n",
        "| Iteration  | a | b  | $x_{mid}$ | f(a) | f(b) | f($x_{mid}$)| error %\n",
        "| :---  |    :----:   | :---: | :---: |:---: |:---: |:---: |:---: |\n",
        "| 1     | 2.0000      | 3.0000   | **2.5000**|3.0918 |-4.8650 |-0.55688| N.A.|\n",
        "| 2     | 2.0000      | 2.5000   | **2.2500**|3.0918 |-0.55688|1.3763 | 11.11|\n",
        "| 3     | 2.2500      | 2.5000   | **2.3750**|1.3763 |-0.55688| 0.43408| 5.26%|\n",
        "| 4     | 2.3750      | 2.5000   | **2.4375**|0.43408|-0.55688|-0.055709| 2.56%|\n",
        "| 5     | 2.3750      | 2.4375   | **2.4063**|0.43408|-0.055709|0.19066| 1.30%|\n",
        "| 6     | 2.4063      | 2.4375   | **2.4219**|0.19066|-0.055709|0.067641| 0.64%|\n",
        "| 7     | 2.4219      | 2.4375   | **2.4297**|0.067641|-0.055709|0.0060556| 0.32%|"
      ],
      "metadata": {
        "id": "cVmOdU8BuPEy"
      }
    },
    {
      "cell_type": "markdown",
      "source": [
        "Testing the solution using the code."
      ],
      "metadata": {
        "id": "iF3o1gYUMo0w"
      }
    },
    {
      "cell_type": "code",
      "source": [
        "import math\n",
        "def exp1Dx(x):\n",
        "  return 8-4.5*(x-math.sin(x))\n",
        "\n",
        "print(Bisection(exp1Dx, 2,3, tol = 0.005 ))"
      ],
      "metadata": {
        "colab": {
          "base_uri": "https://localhost:8080/"
        },
        "id": "wbY9Mb5jFwob",
        "outputId": "d12496bc-1878-429b-f0be-3717a0bf0116"
      },
      "execution_count": 35,
      "outputs": [
        {
          "output_type": "stream",
          "name": "stdout",
          "text": [
            "(2.4296875, 0.003215434083601286, 7)\n"
          ]
        }
      ]
    },
    {
      "cell_type": "markdown",
      "source": [
        "## 4-3) Properties of bisection method\n",
        "* The method always converges to an answer, provided a root exists\n",
        "in the interval [a, b].\n",
        "* The method may fail when the function is tangent to the axis and\n",
        "does not cross the x-axis at $f(x) = 0$.\n",
        "* The method **converges slowly** relative to other methods.\n",
        "* Let $x^*$ be the true value of the root in [a,b].  Let $a_n$, $b_n$ and $x_n$ be the values of a, b and $x_{mid}$ on the $n^{th}$ iteration of the algorithm. The error is bounded by:\n",
        "\n",
        "$$\n",
        "E_t= |x^*-x_n| \\leq \\frac{b-a}{2^n}  \\tag{3-2}\n",
        "$$\n",
        "\n",
        "* The number of iterations to obtain the answer with a certain error is obtained by:\n",
        "$$\n",
        "n \\geq \\frac{ln(\\frac{b-a}{E_t})}{ln2} \\tag{3-3}\n",
        "$$\n"
      ],
      "metadata": {
        "id": "S57CxYjxN4Er"
      }
    },
    {
      "cell_type": "markdown",
      "source": [
        "<div align=\"center\">\n",
        "🟩 🟩 🟩\n",
        "</div>\n",
        "\n",
        "\n",
        "---\n",
        "\n"
      ],
      "metadata": {
        "id": "8EBFg1VATAja"
      }
    },
    {
      "cell_type": "markdown",
      "source": [
        "# 🟣 5) False position method\n",
        "* It is similar to bisection method, except that it uses a line connecting the end points of the interval to find the new estimate of the root.\n",
        "* The equation of the line is:\n",
        "$$\n",
        "y = \\frac{f(b)-f(a)}{b-a}(x-b)+f(b) \\tag{5-1}\n",
        "$$\n",
        "* The point x_i where the line intersects the x-axis is obtained by:\n",
        "$$\n",
        "x_i = \\frac{af(b)-bf(a)}{f(b)-f(a)} \\tag{5-2}\n",
        "$$\n",
        "\n"
      ],
      "metadata": {
        "id": "kQ1vYMlJzC8n"
      }
    },
    {
      "cell_type": "markdown",
      "source": [
        "<div align=\"center\">\n",
        "<img src=\"https://drive.google.com/uc?id=1Dt9XW3K5XtyrGT4Cw-9aFDH9C97r_dp0\" width = \"800\">\n",
        "</div>"
      ],
      "metadata": {
        "id": "-Q6LpF0OTU2k"
      }
    },
    {
      "cell_type": "code",
      "source": [
        "import math\n",
        "import sys\n",
        "\n",
        "def falsePosition(f, a, b, tol = 0.001, maxIter = 100):\n",
        "\n",
        "  fa = f(a)\n",
        "  fb = f(b)\n",
        "  x_i_0 = a;\n",
        "\n",
        "  if fa * fb > 0 :\n",
        "    sys.exit(f'No root can be found in interval [{a},{b}]')\n",
        "\n",
        "  for iter in range(maxIter):\n",
        "    x_i = (a*fb - b*fa) / (fb-fa)\n",
        "    fx_i = f(x_i)\n",
        "\n",
        "    if fa * fx_i < 0 :\n",
        "      b = x_i\n",
        "      fb = fx_i\n",
        "    else:\n",
        "      a = x_i\n",
        "      fa = fx_i\n",
        "\n",
        "    if abs(x_i)>1.0e-15 :\n",
        "      ea = abs( (x_i - x_i_0) / x_i)\n",
        "    x_mid_0 = x_i\n",
        "\n",
        "    if abs(fx_i) < tol or ea < tol:\n",
        "      return (x_i, ea, iter+1)\n",
        "\n",
        "  sys.exit(f'No root can be found in interval [{a},{b}]'\n",
        "                  f' after {maxIter} iterations')\n",
        "  return 0;\n",
        "\n",
        "def fx(x):\n",
        "  return x*math.sin(2*x)\n",
        "\n",
        "intervals = findRootInterval(fx, 0.1, 7 , 10)\n",
        "print(intervals)\n",
        "for interval in intervals:\n",
        "  root = falsePosition(fx, interval[0], interval[1], tol = 1.0e-5 )\n",
        "  print(root)"
      ],
      "metadata": {
        "colab": {
          "base_uri": "https://localhost:8080/"
        },
        "id": "y_cCcUYDTggm",
        "outputId": "2c2571a7-b167-4786-d860-5517bbab6597"
      },
      "execution_count": 6,
      "outputs": [
        {
          "output_type": "stream",
          "name": "stdout",
          "text": [
            "[[1.48, 2.17], [2.86, 3.55], [4.24, 4.930000000000001], [5.620000000000001, 6.310000000000001]]\n",
            "(1.5707960818593842, 0.057802589978393014, 5)\n",
            "(3.141592624481785, 0.08963371707948123, 4)\n",
            "(4.7123888320294345, 0.1002440267277341, 4)\n",
            "(6.283185102594846, 0.10554919069962798, 3)\n"
          ]
        }
      ]
    },
    {
      "cell_type": "markdown",
      "source": [
        "### ❓ **Example 2:**\n",
        "Find the root of function $f(x) = 8-4.5(x-sin(x))$ in the interval [2,3] with tol = 0.5 % usign false position method.\n",
        "\n",
        "💡 *Solution*\n",
        "\n",
        "We start we a = 2 and b = 3 and narrowing the interval based on the bisection method.\n",
        "\n",
        "| Iteration  | a | b  | $x_{mid}$ | f(a) | f(b) | f($x_{mid}$)| error %\n",
        "| :---  |    :----:   | :---: | :---: |:---: |:---: |:---: |:---: |"
      ],
      "metadata": {
        "id": "_v9NQXDLU1PH"
      }
    }
  ]
}