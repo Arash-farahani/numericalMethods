{
  "nbformat": 4,
  "nbformat_minor": 0,
  "metadata": {
    "colab": {
      "provenance": [],
      "authorship_tag": "ABX9TyPAIdeK4DBWrVqKLHa4jOjN",
      "include_colab_link": true
    },
    "kernelspec": {
      "name": "python3",
      "display_name": "Python 3"
    },
    "language_info": {
      "name": "python"
    }
  },
  "cells": [
    {
      "cell_type": "markdown",
      "metadata": {
        "id": "view-in-github",
        "colab_type": "text"
      },
      "source": [
        "<a href=\"https://colab.research.google.com/github/hamidrezanorouzi/numericalMethods/blob/main/Lectures/Lecture03_solving_nonLinearEquations_part2.ipynb\" target=\"_parent\"><img src=\"https://colab.research.google.com/assets/colab-badge.svg\" alt=\"Open In Colab\"/></a>"
      ]
    },
    {
      "cell_type": "markdown",
      "source": [
        "# **Solving non-linear equations - Part 2**\n",
        "\n",
        "&nbsp;\n",
        "\n",
        "Lecturer: **Hamidreza Norouzi**\n",
        "\n",
        "&nbsp;"
      ],
      "metadata": {
        "id": "0_J4eh36VJHJ"
      }
    },
    {
      "cell_type": "markdown",
      "source": [
        "### **Notes**❕\n",
        "This content forms a part of the instructional presentations for the **`numerical methods in chemical engineering`** course designed for undergraduate chemical engineering students at Amirkabir University of Technology.\n",
        "\n",
        "Feel free to utilize the information and source codes provided in this material, ensuring appropriate acknowledgment of the original document.\n",
        "\n",
        "The visual elements featured in this document are either original or have been obtained from the following sources, unless specified otherwise:\n",
        "\n",
        "* Steven C. Chapra, Applied Numerical Methods with Matlab for Engineers and Scientists, 3rd edition, McGraw-Hill (2012).\n",
        "* Amos Gilat and Vish Subramanian, Numerical Methods for Engineers and Scientists, 3rd edition, Wiley (2014).\n",
        "\n",
        "<div align=\"center\">\n",
        "🟥 🟥 🟥\n",
        "</dive>\n",
        "\n",
        "---"
      ],
      "metadata": {
        "id": "sMMbAoPJVHMw"
      }
    },
    {
      "cell_type": "markdown",
      "source": [
        "# 🟡 1) Fixed-point method\n",
        "* Consider the equation $f(x) = 0$ that we aim to solve. We can reformulate this equation as $x = g(x)$, effectively seeking a point (referred to as the fixed point) for the function g, where $x_{i+1} = g(x_i)$.\n",
        "\n",
        "* When the absolute difference between $x_{i+1}$ and $x_i$ is smaller than the specified tolerance, $x_{i+1}$ is considered the root of the function f(x).\n",
        "\n",
        "* The solution is deemed as converged if the estimated error falls below a specified tolerance:\n",
        "$$\n",
        "ϵ_a = |\\frac{x_{i+1}-x_i}{x_{i+1}}| × 100 \\%\n",
        "$$"
      ],
      "metadata": {
        "id": "dabUpReaM1zu"
      }
    },
    {
      "cell_type": "markdown",
      "source": [
        "### ❓ **Example 1**\n",
        "Use fixed-point method to find the root of $f(x)=e^{-x}-x$. Take tol = 1%.\n",
        "\n",
        "<table width=\"100%\">\n",
        "<tr>\n",
        "<td width = \"65%\">\n",
        "\n",
        "💡 *solution*\n",
        "\n",
        "We re-arrage the equation $f(x)=0$  to  $x=e^{-x}$, so we have:\n",
        "$$\n",
        "x_{i+1}=e^{-x_i}\n",
        "$$\n",
        "&nbsp;\n",
        "\n",
        "and we start with the initial guess $x_0 = 0$. The following table is obtained:\n",
        "\n",
        "| Iteration  | $x_i$ | $x_{i+1}$  | $ϵ_a$%|\n",
        "| :---  |    :----:   | :---: | :---: |\n",
        "|0  | 0.0000 | 1.0000 | 100%|\n",
        "|1  | 1.0000 | 0.3679 | 171.8%|\n",
        "|2  | 0.3679 | 0.6922 | 46.85%|\n",
        "|3  | 0.6922 | 0.5005 | 38.31%|\n",
        "|4  | 0.5005 | 0.6062 | 17.44%|\n",
        "|5  | 0.6062 | 0.5454 | 11.15%|\n",
        "|6  | 0.5454 | 0.5796 | 5.90%|\n",
        "|7  | 0.5796 | 0.5601 | 3.48%|\n",
        "|8  | 0.5601 | 0.5711 | 1.93%|\n",
        "|9  | 0.5711 | 0.5649 | 1.11%|\n",
        "|10 | 0.5649 | 0.5684 | 0.62%|\n",
        "\n",
        "The solution is converged after 11 iterations (note that iterations start from 0).\n",
        "</td>\n",
        "\n",
        "<td>\n",
        "<img src=\"https://drive.google.com/uc?id=1l-wDlbIKOI1Y69i1ZeKeBC6ZSxlIfw4A\" width=\"300\">\n",
        "</td>\n",
        "\n",
        "</tr>\n",
        "</table>\n",
        "\n"
      ],
      "metadata": {
        "id": "Mv5bWJZkPO7f"
      }
    },
    {
      "cell_type": "markdown",
      "source": [
        "## Convergence of fixed-point method\n",
        "\n",
        "* Depending on the first derivative of $g(x)$, we can judge whether a solution converges or not!\n",
        "$$\n",
        "|g^{'}(x)| < 1\n",
        "$$\n",
        "* It can be shown that the error for any iteration is linearly proportional to the error from the previous iteration multiplied by the first derivative of $g$:\n",
        "$$\n",
        "E_{i+1} = g^{'}(ξ)E_i\n",
        "$$\n",
        "\n"
      ],
      "metadata": {
        "id": "YZc-bHEpZutv"
      }
    },
    {
      "cell_type": "markdown",
      "source": [
        "<div align=\"center\">\n",
        "<br>\n",
        "<img src=\"https://drive.google.com/uc?id=1CmnA6OfXzfvjHlcywfghQ44S37uZ6gZ1\" width=\"600\">\n",
        "</div>"
      ],
      "metadata": {
        "id": "7bqnKbKbbsJU"
      }
    },
    {
      "cell_type": "markdown",
      "source": [
        "<div align=\"center\">\n",
        "🟨 🟨 🟨\n",
        "</div>\n",
        "\n",
        "\n",
        "---\n",
        "\n"
      ],
      "metadata": {
        "id": "hfRzQDWwc3tH"
      }
    },
    {
      "cell_type": "markdown",
      "source": [
        "# 🟢 2) Newton-Raphson method\n",
        "* If we assume $x^{*}$ is the root of equation $f(x)=0$ and $x_i$ is the estimate of the root for this equation, we can use Taylor series expansions as follows ($h = x^{*}-x_i$):\n",
        "$$\n",
        "f(x^{*}) = f(x_i) + (x^{*}-x_i)f^{'}(x_i) + \\frac{(x^{*}-x_i)}{2!}^2f^{\"}(x_i) + ... = 0  \\tag{2-1}\n",
        "$$\n",
        "* Neglecting second and higher order terms, we use this equation to estimate the root:\n",
        "$$\n",
        "x^{*} = x_i - \\frac{f(x_i)}{f^{'}(x_i)} \\tag{2-2}\n",
        "$$\n",
        "\n",
        "* Since we used only the linear part, so the estimate may deviate from the actual root $x^{*}$. So, we need to use an iterative procedure to improve it step-by-step.\n",
        "$$\n",
        "x_{i+1} = x_i - \\frac{f(x_i)}{f^{'}(x_i)} \\tag{2-3}\n",
        "$$\n",
        "* The following equation is used for checking the convergence:\n",
        "$$\n",
        "ϵ_a = |\\frac{x_{i+1}-x_i}{x_{i+1}}| × 100 \\% \\tag{2-4}\n",
        "$$\n"
      ],
      "metadata": {
        "id": "s5vV3fXUcrkt"
      }
    },
    {
      "cell_type": "markdown",
      "source": [
        "### ❓ **Example 2:**\n",
        "Use Newton-Raphson method to find the root of $f(x)=e^{-x}-x$ with an initial guess of $x_0=0$. Take tol = 0.1%.\n",
        "\n",
        "💡 *Solution*\n",
        "\n",
        "The first derivative of $f(x)$ is:\n",
        "$$\n",
        "f^{'}(x) = -1-e^{-x}\n",
        "$$\n",
        "so the equation for estimating the root becomes:\n",
        "$$\n",
        "x_{i+1}=x_i-\\frac{e^{-x_i}-x_i}{-1-e^{-x_i}}\n",
        "$$\n",
        "\n",
        "| Iteration  | $x_i$ | $x_{i+1}$  | $ϵ_a$%|\n",
        "| :---  |    :----:   | :---: | :---: |\n",
        "|0  | 0.00000 | 0.50000 | 100%|\n",
        "|1  | 0.50000 | 0.56631 | 11.71%|\n",
        "|2  | 0.56631 | 0.56714 | 0.15%|\n",
        "|3  | 0.56714 | 0.56714 | 0.00%|"
      ],
      "metadata": {
        "id": "iiePSw70rR-l"
      }
    },
    {
      "cell_type": "markdown",
      "source": [
        "## 2-1) Code for Newton-Raphson method"
      ],
      "metadata": {
        "id": "IebB3qL0rIdh"
      }
    },
    {
      "cell_type": "code",
      "source": [
        "def newtonRaphson(fx, dfx, x0, tol=1e-6, maxIter=100):\n",
        "  \"\"\"\n",
        "  Find a root of a function using the Newton-Raphson method.\n",
        "\n",
        "  :param fx: The function for which to find a root.\n",
        "  :param dfx: The derivative of the function.\n",
        "  :param x0: Initial guess for the root.\n",
        "  :param tol: Tolerance for convergence (default is 1e-6).\n",
        "  :param maxIter: Maximum number of iterations (default is 100).\n",
        "\n",
        "  :return: A tuple containing the approximation of the root, the\n",
        "    absolute function value at the root, and the number of iterations and None\n",
        "    if no solution is found.\n",
        "  \"\"\"\n",
        "  x = x0\n",
        "  for iter in range(maxIter):\n",
        "    f_x = fx(x0)\n",
        "    f_prime_x = dfx(x0)\n",
        "    if abs(f_prime_x)<1.0e-15:\n",
        "      print(f\"Derivative is zero at {x}. Newton-Raphson method cannot proceed.\")\n",
        "      return None\n",
        "\n",
        "    x = x0 - f_x / f_prime_x\n",
        "\n",
        "    if abs(x) > 1.0e-15:\n",
        "      ea = abs((x - x0) / x)\n",
        "    else:\n",
        "      ea = abs(x)\n",
        "    x0 = x;\n",
        "    if abs(f_x) < tol:\n",
        "      return x, abs(f_x), iter\n",
        "\n",
        "    if ea < tol:\n",
        "      return x, ea, iter\n",
        "\n",
        "  print(\"Newton-raphson mehtod did not find a solution after \"\n",
        "        f\"{maxIter} iterations\")\n",
        "  return None\n"
      ],
      "metadata": {
        "id": "ZDh9Ep-KgtXV"
      },
      "execution_count": null,
      "outputs": []
    },
    {
      "cell_type": "markdown",
      "source": [
        "## 2-2) Playing with the code"
      ],
      "metadata": {
        "id": "Xmw_keagp300"
      }
    },
    {
      "cell_type": "markdown",
      "source": [
        "### Simple case"
      ],
      "metadata": {
        "id": "H0VGZ6qhq3nb"
      }
    },
    {
      "cell_type": "code",
      "source": [
        "import math\n",
        "def simpleCase_Fx(x):\n",
        "  return 8-4.5*(x-math.sin(x))\n",
        "\n",
        "def simpleCase_dFx(x):\n",
        "  return -4.5 + 4.5 * math.cos(x)\n",
        "\n",
        "# test x0 = 2, 4, 0.1 and 0.2\n",
        "print(newtonRaphson(simpleCase_Fx, simpleCase_dFx, 4) )"
      ],
      "metadata": {
        "colab": {
          "base_uri": "https://localhost:8080/"
        },
        "id": "EZ9iY6OLp7Ky",
        "outputId": "e260573f-69dd-498a-e2ee-3496f1a7a79d"
      },
      "execution_count": null,
      "outputs": [
        {
          "output_type": "stream",
          "name": "stdout",
          "text": [
            "(2.43046574172363, 1.3562377887410548e-09, 4)\n"
          ]
        }
      ]
    },
    {
      "cell_type": "code",
      "source": [
        "import numpy as np\n",
        "import matplotlib.pyplot as plt\n",
        "x = np.linspace(0,4, 30)\n",
        "y = [simpleCase_Fx(xi) for xi in x]\n",
        "plt.plot(x,y)\n",
        "plt.axhline(y=0, c='k')\n",
        "plt.show()"
      ],
      "metadata": {
        "colab": {
          "base_uri": "https://localhost:8080/",
          "height": 430
        },
        "id": "i6DOvvAy1N4Y",
        "outputId": "89391fdd-462d-4ca7-c47b-e00814b12eb2"
      },
      "execution_count": null,
      "outputs": [
        {
          "output_type": "display_data",
          "data": {
            "text/plain": [
              "<Figure size 640x480 with 1 Axes>"
            ],
            "image/png": "[encoded data removed]"
          },
          "metadata": {}
        }
      ]
    },
    {
      "cell_type": "markdown",
      "source": [
        "### Slow convergence case\n",
        "\n"
      ],
      "metadata": {
        "id": "X2mYTmp7zsbu"
      }
    },
    {
      "cell_type": "code",
      "source": [
        "def slowConvergence_Fx(x):\n",
        "  return pow(x,10.0)-1\n",
        "\n",
        "def slowConvergence_dFx(x):\n",
        "  return 10*pow(x,9.0)\n",
        "# test x0 = 0.5 and 1.5\n",
        "print(newtonRaphson(slowConvergence_Fx, slowConvergence_dFx,2) )"
      ],
      "metadata": {
        "colab": {
          "base_uri": "https://localhost:8080/"
        },
        "id": "Rj2YaGJXzxlk",
        "outputId": "506c0745-b30c-4ec6-ed02-bfca859267ee"
      },
      "execution_count": null,
      "outputs": [
        {
          "output_type": "stream",
          "name": "stdout",
          "text": [
            "(1.0000000000000009, 1.4004243764631497e-07, 10)\n"
          ]
        }
      ]
    },
    {
      "cell_type": "code",
      "source": [
        "import numpy as np\n",
        "import matplotlib.pyplot as plt\n",
        "x = np.linspace(0,1.3, 30)\n",
        "y = [slowConvergence_Fx(xi) for xi in x]\n",
        "plt.plot(x,y)\n",
        "plt.axhline(y=0, c='k')\n",
        "plt.show()"
      ],
      "metadata": {
        "colab": {
          "base_uri": "https://localhost:8080/",
          "height": 430
        },
        "id": "an53F-B40ijQ",
        "outputId": "d5ea010d-6a51-48b8-8c96-712db4474b36"
      },
      "execution_count": null,
      "outputs": [
        {
          "output_type": "display_data",
          "data": {
            "text/plain": [
              "<Figure size 640x480 with 1 Axes>"
            ],
            "image/png": "[encoded data removed]"
          },
          "metadata": {}
        }
      ]
    },
    {
      "cell_type": "markdown",
      "source": [
        "### Complicated case with multiple roots"
      ],
      "metadata": {
        "id": "Xscy-J2eq8I9"
      }
    },
    {
      "cell_type": "code",
      "source": [
        "import math\n",
        "import numpy as np\n",
        "import matplotlib.pyplot as plt\n",
        "\n",
        "def complicated_Fx(x):\n",
        "  return math.sin(10*x)+math.cos(3*x)\n",
        "\n",
        "def complicated_dFx(x):\n",
        "  return 10*math.cos(10*x)-3*math.sin(3*x)\n",
        "\n",
        "x = np.linspace(0,6, 200)\n",
        "y = [complicated_Fx(xi) for xi in x]\n",
        "\n",
        "plt.plot(x,y)\n",
        "plt.axhline(y=0, c='k')\n",
        "x_ticks = np.arange(0, 6.01, 0.5)  # Adjust the range as needed\n",
        "\n",
        "# Apply the custom tick positions to the x-axis\n",
        "plt.xticks(x_ticks)\n",
        "plt.grid(True, axis='x', linestyle='--', color='gray', linewidth=0.5)\n",
        "plt.show()\n",
        "\n",
        "\n",
        "all_x0 = [1.0, 2.0, 3.0, 4.0, 5.0, 6.0]\n",
        "for x0 in all_x0:\n",
        "  print(\n",
        "      f\"Initial guess is {x0} =>\",\n",
        "      newtonRaphson(complicated_Fx,\n",
        "                    complicated_dFx,\n",
        "                    x0) )"
      ],
      "metadata": {
        "colab": {
          "base_uri": "https://localhost:8080/",
          "height": 534
        },
        "id": "VFKVqMdGjSK3",
        "outputId": "e4467011-3e36-4eb3-d377-ea7840f0bea2"
      },
      "execution_count": null,
      "outputs": [
        {
          "output_type": "stream",
          "name": "stdout",
          "text": [
            "Initial guess is 1.0 => (0.8458134067357137, 5.297555916161656e-08, 4)\n",
            "Initial guess is 2.0 => (1.5707963267948966, 3.858980605295559e-13, 4)\n",
            "Initial guess is 3.0 => (9.062286500739983, 3.590952343576817e-08, 5)\n",
            "Initial guess is 4.0 => (4.263590029871862, 8.918745741937073e-10, 6)\n",
            "Initial guess is 5.0 => (5.16118793089739, 1.0410491591006377e-07, 5)\n",
            "Initial guess is 6.0 => (6.058785831828935, 5.612201906523713e-07, 3)\n"
          ]
        },
        {
          "output_type": "display_data",
          "data": {
            "text/plain": [
              "<Figure size 640x480 with 1 Axes>"
            ],
            "image/png": "[encoded data removed]"
          },
          "metadata": {}
        }
      ]
    },
    {
      "cell_type": "markdown",
      "source": [
        "## 2-3) Using under-relaxation\n",
        "* In each iteration of the Newton-Raphson method, we advance toward the solution (hopefully) by $δ$. The value of $\\delta$ is obtained by re-arranging Eq. (2-3):\n",
        "$$\n",
        "\\delta = x_{i+1} - x_i = - \\frac{f(x_i)}{f^{'}(x_i)} \\tag{2-5}\n",
        "$$\n",
        "\n",
        "* Now, the new estimate of the root, $x_{i+1}$, is obtained by:\n",
        " $$\n",
        " x_{i+1}  = x_i + \\alpha \\delta \\tag{2-6}\n",
        " $$\n",
        "\n",
        " where $\\alpha$ is under-relaxation factor ($0<\\alpha ≤ 1$) and it is usually around 0.5.\n",
        "* The use of under-relaxation makes the solution stable while the rate of convergence becomes slower.\n"
      ],
      "metadata": {
        "id": "NiQ1cRq5wdXZ"
      }
    },
    {
      "cell_type": "code",
      "source": [
        "def newtonRaphsonRelaxed(fx, dfx, x0, alpha = 0.5, tol=1e-6, maxIter=100):\n",
        "  \"\"\"\n",
        "  Find a root of a function using the Newton-Raphson method with\n",
        "  under-relaxation factor.\n",
        "  \"\"\"\n",
        "\n",
        "  for iter in range(maxIter):\n",
        "    f_x = fx(x0)\n",
        "    f_prime_x = dfx(x0)\n",
        "    if abs(f_prime_x)<1.0e-15:\n",
        "      print(f\"Derivative is zero at {x}. Newton-Raphson method cannot proceed.\")\n",
        "      return None\n",
        "\n",
        "    delta = - f_x / f_prime_x\n",
        "    x = x0 + alpha*delta\n",
        "\n",
        "    if abs(x) > 1.0e-15:\n",
        "      ea = abs((x - x0) / x)\n",
        "    else:\n",
        "      ea = abs(x)\n",
        "\n",
        "    if abs(f_x) < tol:\n",
        "      return x, abs(f_x), iter\n",
        "\n",
        "    if ea < tol:\n",
        "      return x, ea, iter\n",
        "    x0 = x\n",
        "\n",
        "  print(\"Newton-raphson mehtod did not find a solution after \"\n",
        "        f\"{maxIter} iterations\")\n",
        "  return None"
      ],
      "metadata": {
        "id": "xCRpu0On4_SN"
      },
      "execution_count": null,
      "outputs": []
    },
    {
      "cell_type": "code",
      "source": [
        "import math\n",
        "import numpy as np\n",
        "import matplotlib.pyplot as plt\n",
        "\n",
        "def newtonRaphson_Fx(x):\n",
        "  return math.sin(10*x)+math.cos(3*x)\n",
        "\n",
        "def newtonRaphson_dFx(x):\n",
        "  return 10*math.cos(10*x)-3*math.sin(3*x)\n",
        "\n",
        "x = np.linspace(0,6, 200)\n",
        "y = [newtonRaphson_Fx(xi) for xi in x]\n",
        "\n",
        "plt.plot(x,y)\n",
        "plt.axhline(y=0, c='k')\n",
        "x_ticks = np.arange(0, 6.01, 0.5)  # Adjust the range as needed\n",
        "\n",
        "# Apply the custom tick positions to the x-axis\n",
        "plt.xticks(x_ticks)\n",
        "plt.grid(True, axis='x', linestyle='--', color='gray', linewidth=0.5)\n",
        "\n",
        "\n",
        "all_x0 = [1.0, 2.0, 3.0, 4.0, 5.0, 6.0]\n",
        "for x0 in all_x0:\n",
        "  print(\n",
        "      f\"Initial guess is {x0} =>\",\n",
        "      newtonRaphsonRelaxed(newtonRaphson_Fx,\n",
        "                    newtonRaphson_dFx,\n",
        "                    x0, 0.1) )"
      ],
      "metadata": {
        "id": "4Ee0nhCN5tw7",
        "colab": {
          "base_uri": "https://localhost:8080/",
          "height": 534
        },
        "outputId": "22c887f7-69b0-499e-d2e6-09798eaf7cc5"
      },
      "execution_count": null,
      "outputs": [
        {
          "output_type": "stream",
          "name": "stdout",
          "text": [
            "Initial guess is 1.0 => (0.84582027390396, 9.02066219690556e-07, 97)\n",
            "Initial guess is 2.0 => (1.8124727704046386, 9.483263240603725e-07, 88)\n",
            "Initial guess is 3.0 => (3.7457145757644517, 9.050995310625456e-07, 75)\n",
            "Initial guess is 4.0 => (4.229031928249209, 9.211901675860596e-07, 97)\n",
            "Initial guess is 5.0 => (5.1611438646028445, 9.472111875989459e-07, 91)\n",
            "Initial guess is 6.0 => (6.058733372503755, 9.615461453683276e-07, 69)\n"
          ]
        },
        {
          "output_type": "display_data",
          "data": {
            "text/plain": [
              "<Figure size 640x480 with 1 Axes>"
            ],
            "image/png": "[encoded data removed]"
          },
          "metadata": {}
        }
      ]
    },
    {
      "cell_type": "markdown",
      "source": [
        "## 2-4) Some examples that newton may diverge\n",
        "* In these cases, use of under-relaxation may lead to a converged solution.\n",
        "\n",
        "<table width=\"100%\">\n",
        "<tr>\n",
        "<td width = \"50%\">\n",
        "<img src=\"https://drive.google.com/uc?id=1t7hsNCmNdEgOtpffAVFpm3gTe7rrZ1d0\" width=\"94%\" >\n",
        "</td>\n",
        "<td>\n",
        "<img src=\"https://drive.google.com/uc?id=17sB4r7DmUGmU1d0sdjYLcEcQl_PRAsux\" width=\"97%\" >\n",
        "</td>\n",
        "\n",
        "</tr>\n",
        "</table>\n",
        "\n",
        "\n",
        "\n"
      ],
      "metadata": {
        "id": "th1SWEtn9FvT"
      }
    },
    {
      "cell_type": "markdown",
      "source": [
        "## 2-5) Properties of Newton-Raphson method\n",
        "* The convergence is very rapid and error is reduced very quickly.\n",
        "$$\n",
        "E_{i+1} = \\frac{-f^{\"}(x)}{2f^{'}(x)}E^{2}_{i}\n",
        "$$\n",
        "* It may diverge if the initial guess is not close to the root."
      ],
      "metadata": {
        "id": "wKnsdRF2b77O"
      }
    },
    {
      "cell_type": "markdown",
      "source": [
        "<div align=\"center\">\n",
        "🟩 🟩 🟩\n",
        "</div>\n",
        "\n",
        "\n",
        "---\n",
        "\n"
      ],
      "metadata": {
        "id": "J2fYuJXA_hdu"
      }
    },
    {
      "cell_type": "markdown",
      "source": [
        "# 🔵 3) Secant method\n",
        "* A potential problem in implementing the Newton-Raphson method is the evaluation of the derivative.\n",
        "* One solution is to use finite-difference method to calculate the first derivative of the function:\n",
        "$$\n",
        "f^{'}(x_i) ≃ \\frac{f(x_i+\\Delta x)-f(x_i)}{\\Delta x} \\tag{3-1}\n",
        "$$\n",
        "* Considering Eq. (2-3) and substituting Eq. (3-1) in it, we obtain:\n",
        "$$\n",
        "x_{i+1} = x_i - \\frac{f(x_i) Δx}{f(x_i+\\Delta x)-f(x_i)}  \\tag{3-2}\n",
        "$$\n",
        "\n"
      ],
      "metadata": {
        "id": "UOfaxw0W_r32"
      }
    },
    {
      "cell_type": "markdown",
      "source": [
        "### ❓ **Example 3:**\n",
        "Use secant method to find the root of $f(x)=e^{-x}-x$ with an initial guess of $x_0=0$. Take tol = 0.1%.\n",
        "\n",
        "💡 *Solution*\n",
        "\n",
        "We use Eq. (3-2) to find the root and take $\\delta$=0.001.\n",
        "\n",
        "| Iteration  | $x_i$ | $x_{i+1}$  | $ϵ_a$%|\n",
        "| :---  |    :----:   | :---: | :---: |\n",
        "| 0  | 0.00000 | 0.50013| 100 %|\n",
        "| 1  | 0.50013 | 0.56633| 11.69%|\n",
        "| 2  | 0.56633 | 0.56714| 0.14% |\n",
        "| 3  | 0.56714 | 0.56714| 0.00% |\n",
        "\n"
      ],
      "metadata": {
        "id": "ywfd9r7tcyBG"
      }
    },
    {
      "cell_type": "markdown",
      "source": [
        "## 3-1) Code for secant method"
      ],
      "metadata": {
        "id": "TWKpq7dmNl7E"
      }
    },
    {
      "cell_type": "code",
      "source": [
        "def secantRelaxed(fx, x0, alpha = 0.5, tol=1e-6, maxIter=100):\n",
        "  \"\"\"\n",
        "  Find a root of a function using the secant method with\n",
        "  under-relaxation factor.\n",
        "\n",
        "  :param fx: The function for which to find a root.\n",
        "  :param x0: Initial guess for the root.\n",
        "  :param alpha: Under-relaxation factor (default is 0.5)\n",
        "  :param tol: Tolerance for convergence (default is 1e-6).\n",
        "  :param maxIter: Maximum number of iterations (default is 100).\n",
        "\n",
        "  :return: A tuple containing the approximation of the root, the\n",
        "    absolute function value at the root, and the number of iterations and None\n",
        "    if no solution is found.\n",
        "  \"\"\"\n",
        "  delta_x = 0.001;\n",
        "  for iter in range(maxIter):\n",
        "\n",
        "    f_x = fx(x0)\n",
        "    f_delta_x = fx(x0+delta_x)\n",
        "\n",
        "    if abs(f_x - f_delta_x)<1.0e-15:\n",
        "      print(f\"Derivative is zero at {x}. Secant method cannot proceed.\")\n",
        "      return None\n",
        "\n",
        "    delta = - f_x * delta_x /(f_delta_x - f_x)\n",
        "    x = x0 + alpha*delta\n",
        "\n",
        "    if abs(x) > 1.0e-15:\n",
        "      ea = abs((x - x0) / x)\n",
        "    else:\n",
        "      ea = abs(x)\n",
        "\n",
        "    if abs(f_x) < tol:\n",
        "      return x, abs(f_x), iter\n",
        "\n",
        "    if ea < tol:\n",
        "      return x, ea, iter\n",
        "    x0 = x\n",
        "\n",
        "  print(\"Secant mehtod did not find a solution after \"\n",
        "        f\"{maxIter} iterations\")\n",
        "  return None"
      ],
      "metadata": {
        "id": "kgW6RNKiD3TA"
      },
      "execution_count": null,
      "outputs": []
    },
    {
      "cell_type": "code",
      "source": [
        "import math\n",
        "\n",
        "def secant_Fx(x):\n",
        "  return 8-4.5*(x-math.sin(x))\n",
        "\n",
        "print(secantRelaxed(secant_Fx, 4, 1) )"
      ],
      "metadata": {
        "id": "QuQXE3Y7Zwsr",
        "colab": {
          "base_uri": "https://localhost:8080/"
        },
        "outputId": "5f33a679-64e8-46d6-f5bc-f8d1643453db"
      },
      "execution_count": null,
      "outputs": [
        {
          "output_type": "stream",
          "name": "stdout",
          "text": [
            "(2.430465741724792, 4.952367937960389e-08, 4)\n"
          ]
        }
      ]
    },
    {
      "cell_type": "markdown",
      "source": [
        "<div align=\"center\">\n",
        "🟦 🟦 🟦\n",
        "</div>"
      ],
      "metadata": {
        "id": "e_j292TDf4kn"
      }
    },
    {
      "cell_type": "markdown",
      "source": [
        "# 🟢 4) System of non-linear equations"
      ],
      "metadata": {
        "id": "PjOCaWDPgTQ-"
      }
    },
    {
      "cell_type": "markdown",
      "source": [
        "* Consider a set of two non-linear equations:\n",
        "$$\n",
        "f_1(x_1,x_2)=0 \\\\\n",
        "f_2(x_1,x_2)=0   \\tag{5-1}\n",
        "$$\n",
        "\n",
        "&nbsp;\n",
        "\n",
        "* Taylor expansions series of these functions around $(x_{1,i},x_{2,i})$ are:\n",
        "\n",
        "&nbsp;\n",
        "\n",
        "$$\n",
        "f_1(x_{1,i+1},x_{2,i+1}) = f_1(x_{1,i},x_{2,i}) + \\frac{\\partial f_1}{\\partial x_1}\\Bigg|_{x_{1,i},x_{2,i}}(\\delta_1) + \\frac{\\partial f_1}{\\partial x_2}\\Bigg|_{x_{1,i},x_{2,i}}(\\delta_2) + . . . = 0 \\\\\n",
        "f_2(x_{1,i+1},x_{2,i+1}) = f_2(x_{1,i},x_{2,i}) + \\frac{\\partial f_2}{\\partial x_1}\\Bigg|_{x_{1,i},x_{2,i}}(\\delta_1) + \\frac{\\partial f_2}{\\partial x_2}\\Bigg|_{x_{1,i},x_{2,i}}(\\delta_2) + . . . =0  \\tag{5-2}\n",
        "$$"
      ],
      "metadata": {
        "id": "U0WazFS7_3gx"
      }
    },
    {
      "cell_type": "markdown",
      "source": [
        "* Keeping the linear part and neglecting the higher order terms results:\n",
        "\n",
        "$$\n",
        " \\frac{\\partial f_1}{\\partial x_1}\\Bigg|_{x_{1,i},x_{2,i}}(\\delta_1) + \\frac{\\partial f_1}{\\partial y_1}\\Bigg|_{x_{1,i},x_{2,i}}(\\delta_2) = -f_1(x_{1,i},x_{2,i}) \\\\\n",
        " \\frac{\\partial f_2}{\\partial x_1}\\Bigg|_{x_{1,i},x_{2,i}}(\\delta_1) + \\frac{\\partial f_2}{\\partial y_1}\\Bigg|_{x_{1,i},x_{2,i}}(\\delta_2) = -f_2(x_{1,i},x_{2,i})  \\tag{5-3}\n",
        "$$\n",
        "$$\n",
        "\\delta_1 = x_{1,i+1} - x_{1,i} \\\\\n",
        "\\delta_2 = x_{2,i+1} - x_{2,i}  \\tag{5-4}\n",
        "$$"
      ],
      "metadata": {
        "id": "wlQcfz9EDFjH"
      }
    },
    {
      "cell_type": "markdown",
      "source": [
        "* The above equations form a system of linear equations:\n",
        "\n",
        "$$ \\begin{bmatrix}\n",
        "\\frac{\\partial f_1}{\\partial x_1}\\Bigg|_{x_{1,i},x_{2,i}} & \\frac{\\partial f_1}{\\partial x_2}\\Bigg|_{x_{1,i},x_{2,i}}  \\\\\n",
        "\\frac{\\partial f_2}{\\partial x_1}\\Bigg|_{x_{1,i},x_{2,i}} & \\frac{\\partial f_2}{\\partial x_2}\\Bigg|_{x_{1,i},x_{2,i}}  \\\\\n",
        "\\end{bmatrix}\n",
        "\\begin{bmatrix} \\delta_1 \\\\ \\delta_2 \\end{bmatrix} = -\n",
        "\\begin{bmatrix} f_1(x_{1,i},x_{2,i}) \\\\ f_2(x_{1,i},x_{2,i}) \\end{bmatrix} \\tag{5-5}\n",
        "$$\n",
        "\n",
        "&nbsp;\n",
        "* In compact form we have:\n",
        "$$\n",
        "[J]\\{\\delta\\} = - \\{f\\}  \\tag{5-6}\n",
        "$$\n",
        " where $[J]$ is called **Jacobina matrix**.\n",
        "\n"
      ],
      "metadata": {
        "id": "TiIXH84m-7yT"
      }
    },
    {
      "cell_type": "markdown",
      "source": [
        "* In each iteration the solution of the above system gives $(\\delta_1, \\delta_2)$.\n",
        "* We can use under-relaxation factor ($\\alpha$) to stabilize the solution:\n",
        "$$\n",
        "x_{1,i+1} =  x_{1,i} + \\alpha \\delta_1 \\\\\n",
        "x_{2,i+1} =  x_{2,i} + \\alpha \\delta_2  \\tag{5-7}\n",
        "$$\n",
        " where $0 < \\alpha ≤ 0$, with typical value of 0.5."
      ],
      "metadata": {
        "id": "zRhY0s8rFoWS"
      }
    },
    {
      "cell_type": "markdown",
      "source": [
        "### ❓ **Example 4**\n",
        "Use Newton's method to solve the system of non-linear equations:\n",
        "\n",
        "\n",
        "💡 *Solution*\n",
        "\n"
      ],
      "metadata": {
        "id": "UYEFZpf7I4xb"
      }
    },
    {
      "cell_type": "markdown",
      "source": [
        "## 4-1) Code for Newton's method"
      ],
      "metadata": {
        "id": "53OwopqHNWDg"
      }
    },
    {
      "cell_type": "markdown",
      "source": [
        "* Instead of providing the Jacobian matrix, the code calculates it using a technique called perturbation (similar to what we did in secant method).\n",
        "* In this way, we need to provide the system of equations only (not the Jacobina matrix)."
      ],
      "metadata": {
        "id": "p2HKm6uONrNz"
      }
    },
    {
      "cell_type": "code",
      "source": [
        "import numpy as np\n",
        "\n",
        "# Define a function to approximate the Jacobian matrix using finite differences\n",
        "def approximateJacobian(func, x, epsilon=1e-5):\n",
        "  n = len(x)\n",
        "  J = np.zeros((n, n))\n",
        "\n",
        "  for i in range(n):\n",
        "    x_perturbed = x.copy()\n",
        "    x_perturbed[i] += epsilon\n",
        "    delta_f = func(x_perturbed) - func(x)\n",
        "    J[:, i] = delta_f / epsilon\n",
        "\n",
        "  return J\n",
        "\n",
        "# Define the main function\n",
        "def newtonsSet(equations, initial_guess, alpha=0.5, tolerance=1e-6, maxIterations=100):\n",
        "  \"\"\"\n",
        "  Solves a system of nonlinear equations using the Newton-Raphson method.\n",
        "\n",
        "  Parameters:\n",
        "    - equations : A function that represents a system of equations to be solved.\n",
        "    - initial_guess (list or ndarray): The initial guess for the solution.\n",
        "    - alpha (float, optional): under-relaxation factor (default is 0.5).\n",
        "    - tolerance (float, optional): The convergence tolerance (default is 1e-6).\n",
        "    - maxIterations (int, optional): (default is 100)\n",
        "\n",
        "  Returns:\n",
        "    - x0 (ndarray): The approximate solution to the system of equations.\n",
        "    - None: if no solution is obtained.\n",
        "  \"\"\"\n",
        "\n",
        "  x0 = np.array(initial_guess)\n",
        "\n",
        "  for iteration in range(maxIterations):\n",
        "    # Calculate the system values and approximate Jacobian at the current point\n",
        "    f_values = equations(x0)\n",
        "    J = approximateJacobian(equations, x0)\n",
        "\n",
        "    # Solve the linear system J * delta_x = -f_values for delta_x\n",
        "    delta_x = np.linalg.solve(J, -f_values)\n",
        "\n",
        "    # Update the solution\n",
        "    x0 += alpha * delta_x\n",
        "\n",
        "    # Check for convergence\n",
        "    if np.linalg.norm(delta_x) < tolerance:\n",
        "      return x0\n",
        "\n",
        "  print(\"Newton-Raphson did not converge\")\n",
        "  return None"
      ],
      "metadata": {
        "id": "R-i_ab7zKyTL"
      },
      "execution_count": null,
      "outputs": []
    },
    {
      "cell_type": "code",
      "source": [
        "def equations(xs):\n",
        "  x , y = xs;\n",
        "  f1 = y - 0.5*(np.exp(x/2)+np.exp(-x/2))\n",
        "  f2 =  9*x*x + 25*y*y -225\n",
        "  return np.array([f1, f2])\n",
        "\n",
        "\n",
        "initial_guess = [1.0, 1.0]\n",
        "result = newtonsSet(equations, initial_guess)\n",
        "print(result)"
      ],
      "metadata": {
        "colab": {
          "base_uri": "https://localhost:8080/"
        },
        "id": "cp59weRgRUsn",
        "outputId": "3af9881b-66e1-477d-a284-d44e95864889"
      },
      "execution_count": null,
      "outputs": [
        {
          "output_type": "stream",
          "name": "stdout",
          "text": [
            "[3.03115576 2.38586552]\n"
          ]
        }
      ]
    },
    {
      "cell_type": "markdown",
      "source": [
        "# 🟣 5) Using libraries for solving non-linear equations\n"
      ],
      "metadata": {
        "id": "p1WeZASTjZYk"
      }
    },
    {
      "cell_type": "code",
      "source": [
        "import numpy as np\n",
        "from scipy.optimize import fsolve\n",
        "\n",
        "def func(xs):\n",
        "  x , y = xs;\n",
        "  return [y - 0.5*(np.exp(x/2)+np.exp(-x/2)),\n",
        "        9*x*x + 25*y*y -225]\n",
        "\n",
        "root = fsolve(func, [2.5, 2.0])\n",
        "print (\"The solution of the set is \", root )\n",
        "np.isclose(func(root), [0.0, 0.0])  # func(root) should be almost 0.0.\n"
      ],
      "metadata": {
        "colab": {
          "base_uri": "https://localhost:8080/"
        },
        "id": "XaUNKTBPjo8Q",
        "outputId": "0bfe07bf-20e1-4fec-acbc-5638464447bb"
      },
      "execution_count": null,
      "outputs": [
        {
          "output_type": "stream",
          "name": "stdout",
          "text": [
            "The solution of the set is  [3.03115539 2.38586565]\n"
          ]
        },
        {
          "output_type": "execute_result",
          "data": {
            "text/plain": [
              "array([ True,  True])"
            ]
          },
          "metadata": {},
          "execution_count": 9
        }
      ]
    },
    {
      "cell_type": "code",
      "source": [
        "def calculate_lnO_sf(Ta):\n",
        "  global oxygenConentration\n",
        "  term1 = -139.34411\n",
        "  term2 = (1.575701e5) / Ta\n",
        "  term3 = (6.642308e7) / (Ta**2)\n",
        "  term4 = (1.243800e10) / (Ta**3)\n",
        "  term5 = (8.621949e11) / (Ta**4)\n",
        "\n",
        "  return term1 + term2 - term3 + term4 - term5 - math.log(oxygenConentration)\n",
        "\n",
        "oxygenConentration = 10\n",
        "\n",
        "secantRelaxed(calculate_lnO_sf, 300 )"
      ],
      "metadata": {
        "colab": {
          "base_uri": "https://localhost:8080/"
        },
        "id": "hwKo0u81WtFB",
        "outputId": "042f213c-2b20-4f4b-f354-61560210e7bc"
      },
      "execution_count": null,
      "outputs": [
        {
          "output_type": "execute_result",
          "data": {
            "text/plain": [
              "(288.5383569509035, 5.058195901766657e-07, 15)"
            ]
          },
          "metadata": {},
          "execution_count": 12
        }
      ]
    },
    {
      "cell_type": "markdown",
      "source": [
        "<div align=\"center\">\n",
        "🟪 🟪 🟪\n",
        "</div>\n",
        "\n",
        "\n",
        "---\n",
        "\n"
      ],
      "metadata": {
        "id": "6cNPEKAG1Z98"
      }
    }
  ]
}