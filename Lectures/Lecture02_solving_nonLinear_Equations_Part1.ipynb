{
  "nbformat": 4,
  "nbformat_minor": 0,
  "metadata": {
    "colab": {
      "provenance": [],
      "authorship_tag": "ABX9TyNSzH/OcIjF4ngtt1iKD1oZ",
      "include_colab_link": true
    },
    "kernelspec": {
      "name": "python3",
      "display_name": "Python 3"
    },
    "language_info": {
      "name": "python"
    }
  },
  "cells": [
    {
      "cell_type": "markdown",
      "metadata": {
        "id": "view-in-github",
        "colab_type": "text"
      },
      "source": [
        "<a href=\"https://colab.research.google.com/github/hamidrezanorouzi/numericalMethods/blob/main/Lectures/Lecture02_solving_nonLinear_Equations_Part1.ipynb\" target=\"_parent\"><img src=\"https://colab.research.google.com/assets/colab-badge.svg\" alt=\"Open In Colab\"/></a>"
      ]
    },
    {
      "cell_type": "markdown",
      "source": [
        "# **Solving non-linear equations - Part 1**\n",
        "\n",
        "&nbsp;\n",
        "\n",
        "Lecturer: **Hamidreza Norouzi**\n",
        "\n",
        "&nbsp;"
      ],
      "metadata": {
        "id": "2ZmPMFSA58YP"
      }
    },
    {
      "cell_type": "markdown",
      "source": [
        "### **Notes**❕\n",
        "This content forms a part of the instructional presentations for the **`numerical methods in chemical engineering`** course designed for undergraduate chemical engineering students at Amirkabir University of Technology.\n",
        "\n",
        "Feel free to utilize the information and source codes provided in this material, ensuring appropriate acknowledgment of the original document.\n",
        "\n",
        "The visual elements featured in this document are either original or have been obtained from the following sources, unless specified otherwise:\n",
        "\n",
        "* Steven C. Chapra, Applied Numerical Methods with Matlab for Engineers and Scientists, 3rd edition, McGraw-Hill (2012).\n",
        "* Amos Gilat and Vish Subramanian, Numerical Methods for Engineers and Scientists, 3rd edition, Wiley (2014).\n",
        "\n",
        "<div align=\"center\">\n",
        "🟥 🟥 🟥\n",
        "</dive>\n",
        "\n",
        "---\n",
        "\n"
      ],
      "metadata": {
        "id": "ZmBBBF1f5wnm"
      }
    },
    {
      "cell_type": "markdown",
      "source": [
        "# 🔵 1) Some applications in chemical engineering"
      ],
      "metadata": {
        "id": "zKjujxgmslyc"
      }
    },
    {
      "cell_type": "markdown",
      "source": [
        "\n",
        "## 1-1) Determining Molar Volume using Equation of State (EOS)\n",
        "\n",
        "* Resolving equations of state (EOS) to ascertain the molar volume of vapor and/or liquid (compressibility factor).\n",
        "\n",
        "* The Peng-Robinson EOS is taken into consideration:\n",
        "\n",
        "$$\n",
        "P = \\frac{RT}{v-b}-\\frac{aα}{v^2+2bv-b^2} \\tag{1-1}\n",
        "$$\n",
        "* This equation can be re-arranged to give $Z=\\frac{Pv}{RT}$ with known T and P:\n",
        "$$\n",
        "Z^3 - (1-B)Z^2 + (A-2B-3B^2)Z - (AB-B^2-B^3)=0  \\\\\n",
        "A = \\frac{\\alpha aP}{R^2T^2} \\\\\n",
        "B = \\frac{bP}{RT}\n",
        "\\tag{1-2}\n",
        "$$\n",
        "\n",
        "\n"
      ],
      "metadata": {
        "id": "CBAEkEpm6NC8"
      }
    },
    {
      "cell_type": "markdown",
      "source": [
        "<div align=\"center\">\n",
        "<img src=\"https://drive.google.com/uc?id=12zuK6cvE-XoGXIX0feBcWikY_ieIQAJz\" width=\"400\" />\n",
        "</div>\n"
      ],
      "metadata": {
        "id": "zqw52_1h_ioi"
      }
    },
    {
      "cell_type": "markdown",
      "source": [
        "## 1-2) Finding friction factor in pipes\n",
        "\n",
        "* In the hydraulic calculations in the field of chemical engineering, a common challenge arises in the form of estimating the friction factor denoted as *f*.\n",
        "* This parameter is typically derived using a correlation. Subsequently, it is employed to compute the pressure drop experienced within a pipeline using the formula:\n",
        "$$\n",
        "ΔP = f\\frac{L}{D}(\\frac{1}{2}ρV^2) \\tag{1-3}\n",
        "$$\n",
        "  - V is the fluid velocity\n",
        "  - $\\rho$ is the fluid density\n",
        "  - L is the pipe length\n",
        "  - D is the pipe diameter\n",
        "* Provided with the Reynolds number (*Re*) and the ratio of roughness to diameter ($\\epsilon/D$), the friction factor can be derived using the Colebrook equation:\n",
        "$$\n",
        "\\frac{1}{\\sqrt{f}}= -2log(\\frac{ϵ}{3.7D}+\\frac{2.51}{Re \\sqrt{f}}) \\tag{1-4}\n",
        "$$\n",
        "&nbsp;\n",
        "\n"
      ],
      "metadata": {
        "id": "hdngWk7nBdc2"
      }
    },
    {
      "cell_type": "markdown",
      "source": [
        "<div align=\"center\">\n",
        "<img src=\"https://drive.google.com/uc?id=1c6XNwEiG8lvYKIsF-d4akCQ_qsIP_qY9\" width=\"500\" />\n",
        "</div>"
      ],
      "metadata": {
        "id": "INyNL5M1Mt-_"
      }
    },
    {
      "cell_type": "markdown",
      "source": [
        "## 1-3) Vapor-Liquid equilibrium in multi-component system\n",
        "\n",
        "* In the context of a multicomponet mixtures, the Rachford-Rice equation is used to determine the equilibrium composition of the liquid and vapor phases in a flash drum.\n",
        "\n",
        "\n",
        "<table width=\"100%\">\n",
        "<tr>\n",
        "<td width = \"65%\">\n",
        "\n",
        "* **Rachford-Rice Equation**:\n",
        "\n",
        "$$ \\sum \\frac{z_i \\cdot (K_i - 1)}{1 + \\beta \\cdot (K_i - 1)}=0$$\n",
        "- $N$ is the component count (2 for ethanol and water).\n",
        "- $z_i$ is the mole fraction of component $i$ in the liquid.\n",
        "- $K_i$ is the equilibrium constant for component $i$.\n",
        "- $\\beta$ is the vapor phase fraction.\n",
        "\n",
        "</td>\n",
        "<td>\n",
        "<img src = \"https://drive.google.com/uc?id=1awu_PkCXKcdp7UX4SJWb6tX7MUGSHdZr\" width =\"250\">\n",
        "</td>\n",
        "</tr>\n",
        "</table>\n",
        "\n",
        "\n",
        "* Using the Rachford-Rice equation, the vaporization fraction $\\beta$ is calculated. Solving for $\\beta$ involves numerical methods due to its non-linear nature.\n",
        "* Once $\\beta$ is found, it's utilized to determine component mole fractions in the vapor and liquid phases:\n",
        " - Mole fraction in liquid phase ($x_i$) = $\\frac{z_i}{1 + \\beta \\cdot (K_i - 1)}$\n",
        " - Mole fraction in vapor phase ($y_i$) = $(K_i. x_i )$"
      ],
      "metadata": {
        "id": "KmL7cLjvKql4"
      }
    },
    {
      "cell_type": "markdown",
      "source": [
        "<div align=\"center\">\n",
        "🟦 🟦 🟦\n",
        "</div>\n",
        "\n",
        "\n",
        "---\n",
        "\n"
      ],
      "metadata": {
        "id": "o1VTIiRIG82G"
      }
    },
    {
      "cell_type": "markdown",
      "source": [
        "# 🟡 2) Graphical Method\n",
        "* The most straightforward approach to determining the solutions of an equation is to graph it in the range of interest, thereby approximating the equation's roots.\n",
        "* Creating a plot of an equation (if feasible) helps identifying the interval within which a root exists and counting the number of roots."
      ],
      "metadata": {
        "id": "abK0OiAiHJQM"
      }
    },
    {
      "cell_type": "code",
      "source": [
        "import matplotlib.pyplot as plt\n",
        "import numpy as np\n",
        "x = np.linspace(start=0, stop=5, num =30)\n",
        "y = pow(x,3)-  7*pow(x,2) + 14*x - 8\n",
        "plt.plot(x,y)\n",
        "plt.grid()\n",
        "plt.axhline(y=0, c='k')"
      ],
      "metadata": {
        "colab": {
          "base_uri": "https://localhost:8080/",
          "height": 447
        },
        "id": "roisBZ0d5qb2",
        "outputId": "8e90a04f-621a-4e50-a180-78643dad0a9b"
      },
      "execution_count": 1,
      "outputs": [
        {
          "output_type": "execute_result",
          "data": {
            "text/plain": [
              "<matplotlib.lines.Line2D at 0x7995623a7af0>"
            ]
          },
          "metadata": {},
          "execution_count": 1
        },
        {
          "output_type": "display_data",
          "data": {
            "text/plain": [
              "<Figure size 640x480 with 1 Axes>"
            ],
            "image/png": "[encoded data removed]"
          },
          "metadata": {}
        }
      ]
    },
    {
      "cell_type": "markdown",
      "source": [
        "<div align=\"center\">\n",
        "🟨 🟨 🟨\n",
        "</div>\n",
        "\n",
        "\n",
        "---\n",
        "\n"
      ],
      "metadata": {
        "id": "2eAhX6o9nVhW"
      }
    },
    {
      "cell_type": "markdown",
      "source": [
        "# 🔴 3) Finding intervals containing root\n",
        "* This method relies on a fundamental characteristic of functions near their roots: the **change of sign**.\n",
        "* Given a continuous function *f(x)* with a single root within the interval [a, b], the following relationship holds:\n",
        "$$\n",
        "f(a)f(b) < 0 \\tag{3-1}\n",
        "$$\n",
        "* The interval [a, b] is subdivided into n sub-intervals, and the potential presence of a root within each of these sub-intervals is examined."
      ],
      "metadata": {
        "id": "jbCqOTGtigdg"
      }
    },
    {
      "cell_type": "code",
      "source": [
        "import math\n",
        "import numpy as np\n",
        "import matplotlib.pyplot as plt\n",
        "\n",
        "def findRootInterval(fx, xmin, xmax, n=10):\n",
        "  h = (xmax - xmin)/n\n",
        "  xs = xmin;\n",
        "  fxs = fx(xs)\n",
        "  intervals = []\n",
        "  for i in range(n):\n",
        "    xe = xs + h\n",
        "    fxe = fx(xe)\n",
        "    if fxs*fxe <= 0:\n",
        "      intervals.append([xs, xe])\n",
        "    xs = xe\n",
        "    fxs = fxe\n",
        "  return intervals\n",
        "\n",
        "def fx(x):\n",
        "  return math.sin(10*x)+math.cos(3*x)\n",
        "\n",
        "xmin = 3\n",
        "xmax = 6\n",
        "n = 100\n",
        "\n",
        "x = np.linspace(xmin,xmax, 10*n)\n",
        "y = [fx(xi) for xi in x]\n",
        "\n",
        "plt.plot(x,y)\n",
        "\n",
        "intervals = findRootInterval(fx, xmin, xmax , n)\n",
        "intervals_arr = np.asarray(intervals);\n",
        "nInterval = len(intervals)\n",
        "y0 = np.zeros(nInterval)\n",
        "\n",
        "\n",
        "\n",
        "plt.scatter(intervals_arr[:,0],y0, marker='x',c='r')\n",
        "plt.scatter(intervals_arr[:,1],y0, marker='x',c='g')\n",
        "\n",
        "plt.axhline(y=0, c='k')\n",
        "\n",
        "print(\"number of intervals is \", nInterval)"
      ],
      "metadata": {
        "colab": {
          "base_uri": "https://localhost:8080/",
          "height": 447
        },
        "id": "NtMwZQWUkloC",
        "outputId": "0e61b42d-69a9-4eee-9d55-033b810ddbb0"
      },
      "execution_count": 2,
      "outputs": [
        {
          "output_type": "stream",
          "name": "stdout",
          "text": [
            "number of intervals is  9\n"
          ]
        },
        {
          "output_type": "display_data",
          "data": {
            "text/plain": [
              "<Figure size 640x480 with 1 Axes>"
            ],
            "image/png": "[encoded data removed]"
          },
          "metadata": {}
        }
      ]
    },
    {
      "cell_type": "markdown",
      "source": [
        "<div align=\"center\">\n",
        "🟥 🟥 🟥\n",
        "</div>\n",
        "\n",
        "\n",
        "---\n",
        "\n"
      ],
      "metadata": {
        "id": "MmrjRksu4MO6"
      }
    },
    {
      "cell_type": "markdown",
      "source": [
        "# 🟢 4) Bisection method\n",
        "* Given a continuous function $f(x): \\mathbb{R} \\rightarrow \\mathbb{R}$ and two real numbers, $a$ and $b$, such that $f(a)f(b)<0$, the function must have at least one root within this interval.\n",
        "* This method relies on having [a, b], then bisecting the interval into two equal sub-intervals. The sub-interval where the sign of $f(x)$ changes is retained, and the process is reiterated iteratively until a specified threshold/tolerance."
      ],
      "metadata": {
        "id": "RSaVuklRztiw"
      }
    },
    {
      "cell_type": "markdown",
      "source": [
        "<div align=\"center\">\n",
        "<img src=\"https://drive.google.com/uc?id=1zukhCuUcB1rpVAa_ZCOfTDKm-eR53WU2\" width=\"800\"/>\n",
        "</div>"
      ],
      "metadata": {
        "id": "wqjC1eeURP7v"
      }
    },
    {
      "cell_type": "markdown",
      "source": [
        "## 4-1) Algorithm\n",
        "* The algorithm for bisection method can be something as follows:\n",
        "\n",
        "1.   Get a, b, tol\n",
        "2.   Check if f(a)f(b) > 0\n",
        " *   **True**: no root can be found\n",
        "3. x_mid = (a+b)/2\n",
        "4. if abs(f(x_mid))<tol\n",
        " * root is x_mid, report\n",
        "5. if f(a)f(x_mid) < 0\n",
        " * **True**: b = x_mid\n",
        " * **False**: a = x_mid\n",
        "6. Calculate approximate error\n",
        " * err = abs((x_mid - x_mid_0)/x_mid)\n",
        " * Fix the program for x_mid near zero\n",
        "7. if err < tol\n",
        " * **True**: root is x_mid, report\n",
        " * **False**: go to 3\n",
        "\n",
        "\n"
      ],
      "metadata": {
        "id": "DoTVliOgSeVF"
      }
    },
    {
      "cell_type": "markdown",
      "source": [
        "## 4-2) Code for bisection method\n",
        "\n",
        "* You can find the bisection method code in [matlab here](https://github.com/hamidrezanorouzi/numericalMethods/blob/main/matlab/bisection.m) or in [python here](https://github.com/hamidrezanorouzi/numericalMethods/blob/main/python/Root/bisection.py).  "
      ],
      "metadata": {
        "id": "4wav-1Puo341"
      }
    },
    {
      "cell_type": "code",
      "source": [
        "import math\n",
        "\n",
        "def bisection(f, a, b, tol=0.001, maxIter=100):\n",
        "  \"\"\"\n",
        "  Find a root of a function within a given interval using the bisection method.\n",
        "\n",
        "  Parameters:\n",
        "  f (function): The function for which a root needs to be found.\n",
        "  a (float): Left endpoint of the interval.\n",
        "  b (float): Right endpoint of the interval.\n",
        "  tol (float): Tolerance for stopping iteration (default is 0.001).\n",
        "  maxIter (int): Maximum number of iterations (default is 100).\n",
        "\n",
        "  Returns:\n",
        "  tuple: A tuple containing the estimated root, approximate relative\n",
        "          error, and number of iterations. If no root is found within\n",
        "          the maximum iterations, returns None.\n",
        "  \"\"\"\n",
        "  fa = f(a)\n",
        "  fb = f(b)\n",
        "  x_mid_0 = a\n",
        "  found_root = False  # Flag to indicate if a valid root has been found\n",
        "\n",
        "  # Check if the function crosses the x-axis within the interval\n",
        "  if fa * fb > 0:\n",
        "    print(f'No root can be found in interval [{a},{b}]')\n",
        "    return None\n",
        "\n",
        "  for iter in range(maxIter):\n",
        "    x_mid = (a + b) / 2\n",
        "    fx_mid = f(x_mid)\n",
        "\n",
        "    if fa * fx_mid < 0:\n",
        "      b = x_mid\n",
        "      fb = fx_mid\n",
        "    else:\n",
        "      a = x_mid\n",
        "      fa = fx_mid\n",
        "\n",
        "    if abs(x_mid) > 1.0e-15:\n",
        "      ea = abs((x_mid - x_mid_0) / x_mid)\n",
        "    else:\n",
        "      ea = abs(x_mid)\n",
        "\n",
        "    x_mid_0 = x_mid\n",
        "\n",
        "    # Check if either the function value or the relative error is within tolerance\n",
        "    if abs(fx_mid) < tol or ea < tol:\n",
        "      found_root = True\n",
        "      break\n",
        "\n",
        "  if found_root:\n",
        "    return x_mid, ea, iter + 1\n",
        "  else:\n",
        "    print(f'No root can be found in interval [{a},{b}]'\n",
        "          f' after {maxIter} iterations')\n",
        "    return None\n"
      ],
      "metadata": {
        "id": "1ZEcCYJKmJ96"
      },
      "execution_count": 3,
      "outputs": []
    },
    {
      "cell_type": "code",
      "source": [
        "def fx(x):\n",
        "  return x*math.sin(2*x)\n",
        "\n",
        "intervals = findRootInterval(fx, 0.1, 7 , 10)\n",
        "print(intervals)\n",
        "for interval in intervals:\n",
        "  root = bisection(fx, interval[0], interval[1], tol = 1.0e-5 )\n",
        "  print(root)"
      ],
      "metadata": {
        "id": "bEvyLabXUBW5",
        "outputId": "bc14c433-f97f-4d24-f05c-20e84bcc5cbc",
        "colab": {
          "base_uri": "https://localhost:8080/"
        }
      },
      "execution_count": 4,
      "outputs": [
        {
          "output_type": "stream",
          "name": "stdout",
          "text": [
            "[[1.48, 2.17], [2.86, 3.55], [4.24, 4.930000000000001], [5.620000000000001, 6.310000000000001]]\n",
            "(1.57079833984375, 0.00010724293945119589, 12)\n",
            "(3.1415969848632814, 6.702683064625311e-06, 15)\n",
            "(4.712395629882813, 8.93691046345559e-06, 14)\n",
            "(6.283173217773438, 6.702705202128121e-06, 14)\n"
          ]
        }
      ]
    },
    {
      "cell_type": "markdown",
      "source": [
        "### ❓ **Example 1:**\n",
        "Find the root of function $f(x) = 8-4.5(x-sin(x))$ in the interval [2,3] with tol = 0.5 % using bisection method.\n",
        "\n",
        "💡 *Solution*\n",
        "\n",
        "We start we a = 2 and b = 3 and narrowing the interval based on the bisection method.\n",
        "\n",
        "| Iteration  | a | b  | $x_{mid}$ | f(a) | f(b) | f($x_{mid}$)| error %\n",
        "| :---  |    :----:   | :---: | :---: |:---: |:---: |:---: |:---: |\n",
        "| 1     | 2.0000      | 3.0000   | **2.5000**|3.0918 |-4.8650 |-0.55688| N.A.|\n",
        "| 2     | 2.0000      | 2.5000   | **2.2500**|3.0918 |-0.55688|1.3763 | 11.11|\n",
        "| 3     | 2.2500      | 2.5000   | **2.3750**|1.3763 |-0.55688| 0.43408| 5.26%|\n",
        "| 4     | 2.3750      | 2.5000   | **2.4375**|0.43408|-0.55688|-0.055709| 2.56%|\n",
        "| 5     | 2.3750      | 2.4375   | **2.4063**|0.43408|-0.055709|0.19066| 1.30%|\n",
        "| 6     | 2.4063      | 2.4375   | **2.4219**|0.19066|-0.055709|0.067641| 0.64%|\n",
        "| 7     | 2.4219      | 2.4375   | **2.4297**|0.067641|-0.055709|0.0060556| 0.32%|"
      ],
      "metadata": {
        "id": "cVmOdU8BuPEy"
      }
    },
    {
      "cell_type": "markdown",
      "source": [
        "Testing the solution using the code."
      ],
      "metadata": {
        "id": "iF3o1gYUMo0w"
      }
    },
    {
      "cell_type": "code",
      "source": [
        "import math\n",
        "def exp1Dx(x):\n",
        "  return 8-4.5*(x-math.sin(x))\n",
        "\n",
        "print(bisection(exp1Dx, 2,3, tol = 0.005 ))"
      ],
      "metadata": {
        "colab": {
          "base_uri": "https://localhost:8080/"
        },
        "id": "wbY9Mb5jFwob",
        "outputId": "68862ee3-1700-42b7-b24c-a6ff356d66c9"
      },
      "execution_count": 5,
      "outputs": [
        {
          "output_type": "stream",
          "name": "stdout",
          "text": [
            "(2.4296875, 0.003215434083601286, 7)\n"
          ]
        }
      ]
    },
    {
      "cell_type": "markdown",
      "source": [
        "## 4-3) Properties of bisection method\n",
        "* The method always converges to an answer, provided a root exists\n",
        "in the interval [a, b].\n",
        "* The method may fail when the function is tangent to the axis and\n",
        "does not cross the x-axis at $f(x) = 0$.\n",
        "* The method **converges slowly** relative to other methods.\n",
        "* Let $x^*$ be the true value of the root in [a,b].  Let $a_n$, $b_n$ and $x_n$ be the values of a, b and $x_{mid}$ on the $n^{th}$ iteration of the algorithm. The error is bounded by:\n",
        "\n",
        "$$\n",
        "E_t= |x^*-x_n| \\leq \\frac{b-a}{2^n}  \\tag{3-2}\n",
        "$$\n",
        "\n",
        "* The number of iterations to obtain the answer with a certain error is obtained by:\n",
        "$$\n",
        "n \\geq \\frac{ln(\\frac{b-a}{E_t})}{ln2} \\tag{3-3}\n",
        "$$\n"
      ],
      "metadata": {
        "id": "S57CxYjxN4Er"
      }
    },
    {
      "cell_type": "markdown",
      "source": [
        "<div align=\"center\">\n",
        "🟩 🟩 🟩\n",
        "</div>\n",
        "\n",
        "\n",
        "---\n",
        "\n"
      ],
      "metadata": {
        "id": "8EBFg1VATAja"
      }
    },
    {
      "cell_type": "markdown",
      "source": [
        "# 🟣 5) False position method\n",
        "* It is similar to bisection method, except that it uses a line connecting the end points of the interval to find the new estimate of the root.\n",
        "* The equation of the line is:\n",
        "$$\n",
        "y = \\frac{f(b)-f(a)}{b-a}(x-b)+f(b) \\tag{5-1}\n",
        "$$\n",
        "* The point x_i where the line intersects the x-axis is obtained by:\n",
        "$$\n",
        "x_i = \\frac{af(b)-bf(a)}{f(b)-f(a)} \\tag{5-2}\n",
        "$$\n",
        "\n"
      ],
      "metadata": {
        "id": "kQ1vYMlJzC8n"
      }
    },
    {
      "cell_type": "markdown",
      "source": [
        "<div align=\"center\">\n",
        "<img src=\"https://drive.google.com/uc?id=1Dt9XW3K5XtyrGT4Cw-9aFDH9C97r_dp0\" width = \"800\">\n",
        "</div>"
      ],
      "metadata": {
        "id": "-Q6LpF0OTU2k"
      }
    },
    {
      "cell_type": "markdown",
      "source": [
        "## 5-1) Code for false position method"
      ],
      "metadata": {
        "id": "XwTuw-rtqRVv"
      }
    },
    {
      "cell_type": "code",
      "source": [
        "import math\n",
        "\n",
        "def falsePosition(f, a, b, tol=0.001, maxIter=100):\n",
        "  \"\"\"\n",
        "  Find a root of a function within a given interval using the false position method.\n",
        "\n",
        "  Parameters:\n",
        "  f (function): The function for which a root needs to be found.\n",
        "  a (float): Left endpoint of the interval.\n",
        "  b (float): Right endpoint of the interval.\n",
        "  tol (float): Tolerance for stopping iteration (default is 0.001).\n",
        "  maxIter (int): Maximum number of iterations (default is 100).\n",
        "\n",
        "  Returns:\n",
        "  tuple: A tuple containing the estimated root, approximate relative\n",
        "          error, and number of iterations. If no root is found, returns None.\n",
        "  \"\"\"\n",
        "  fa = f(a)\n",
        "  fb = f(b)\n",
        "  x_i_0 = a\n",
        "\n",
        "  # Check if the function crosses the x-axis within the interval\n",
        "  if fa * fb > 0:\n",
        "    print(f'No root can be found in interval [{a},{b}]')\n",
        "    return None\n",
        "\n",
        "  for iter in range(maxIter):\n",
        "    x_i = (a * fb - b * fa) / (fb - fa)\n",
        "    fx_i = f(x_i)\n",
        "\n",
        "    if fa * fx_i < 0:\n",
        "      b = x_i\n",
        "      fb = fx_i\n",
        "    else:\n",
        "      a = x_i\n",
        "      fa = fx_i\n",
        "\n",
        "    if abs(x_i) > 1.0e-15:\n",
        "      ea = abs((x_i - x_i_0) / x_i)\n",
        "    else:\n",
        "      ea = abs(x_i)\n",
        "\n",
        "    x_i_0 = x_i\n",
        "\n",
        "    # Check if either the function value or the relative error\n",
        "    # is within tolerance\n",
        "    if abs(fx_i) < tol or ea < tol:\n",
        "      return x_i, ea, iter + 1\n",
        "\n",
        "  print(f'No root can be found in interval [{a},{b}]'\n",
        "        f' after {maxIter} iterations')\n",
        "  return None"
      ],
      "metadata": {
        "id": "y_cCcUYDTggm"
      },
      "execution_count": 6,
      "outputs": []
    },
    {
      "cell_type": "code",
      "source": [
        "def fx(x):\n",
        "  return x * math.sin(2 * x)\n",
        "\n",
        "intervals = findRootInterval(fx, 0.1, 7 , 10)\n",
        "print(intervals)\n",
        "for interval in intervals:\n",
        "  root = falsePosition(fx, interval[0], interval[1], tol = 1.0e-5 )\n",
        "  print(root)"
      ],
      "metadata": {
        "colab": {
          "base_uri": "https://localhost:8080/"
        },
        "id": "MIyK0Sw4WIaV",
        "outputId": "a7027772-9aab-4874-d0ff-a81f45009dfe"
      },
      "execution_count": 7,
      "outputs": [
        {
          "output_type": "stream",
          "name": "stdout",
          "text": [
            "[[1.48, 2.17], [2.86, 3.55], [4.24, 4.930000000000001], [5.620000000000001, 6.310000000000001]]\n",
            "(1.5707960818593842, 2.114485865587743e-06, 5)\n",
            "(3.141592624481785, 1.0934580176434044e-06, 4)\n",
            "(4.7123888320294345, 2.338223561307116e-06, 4)\n",
            "(6.283185102594846, 8.597175880023444e-06, 3)\n"
          ]
        }
      ]
    },
    {
      "cell_type": "markdown",
      "source": [
        "### ❓ **Example 2:**\n",
        "Find the root of function $f(x) = 8-4.5(x-sin(x))$ in the interval [2,3] with tol = 0.5 % usign false position method.\n",
        "\n",
        "💡 *Solution*\n",
        "\n",
        "We start we a = 2 and b = 3 and narrowing the interval based on the bisection method.\n",
        "\n",
        "| Iteration  | a | b  | $x_{mid}$ | f(a) | f(b) | f($x_{mid}$)| error %\n",
        "| :---  |    :----:   | :---: | :---: |:---: |:---: |:---: |:---: |\n",
        "|1  | 2.0000 | 3.0000 | **2.3886**| 3.0918  | -4.8650| 0.32851| N.A.|\n",
        "|2  | 2.3886 | 3.0000 | **2.4273**| 0.32851 | -4.8650| 0.025228|1.59|\n",
        "|3  | 2.4273 | 3.0000 | **2.4302**| 0.025228| -4.8650| 0.0018585|0.12|"
      ],
      "metadata": {
        "id": "_v9NQXDLU1PH"
      }
    },
    {
      "cell_type": "code",
      "source": [
        "import math\n",
        "def exp1Dx(x):\n",
        "  return 8-4.5*(x-math.sin(x))\n",
        "\n",
        "print(exp1Dx(3))\n",
        "print(math.sin(2))\n",
        "print(falsePosition(exp1Dx, 2,3, tol = 0.005 ))"
      ],
      "metadata": {
        "colab": {
          "base_uri": "https://localhost:8080/"
        },
        "id": "bs0q8-8YhdV9",
        "outputId": "f411baa9-d5d4-417f-d156-e9cc2d140bad"
      },
      "execution_count": 8,
      "outputs": [
        {
          "output_type": "stream",
          "name": "stdout",
          "text": [
            "-4.8649599637305965\n",
            "0.9092974268256817\n",
            "(2.430228705704582, 0.0012164213478575365, 3)\n"
          ]
        }
      ]
    },
    {
      "cell_type": "markdown",
      "source": [
        "## 5-2) Properties of false position method\n",
        "* The method ensures convergence to a solution if a root exists within the range [a, b].\n",
        "* Failure of the method can occur when the function is tangent to the axis and does not intersect the x-axis at $f(x) = 0$.\n",
        "* Its convergence rate surpasses that of the bisection method.\n",
        "* **A notable drawback**: During the iterative process, one of the bracketing points tends to remain constant. This drawback can result in slow convergence, especially for functions with substantial curvature."
      ],
      "metadata": {
        "id": "qVJwnOY_qjgK"
      }
    },
    {
      "cell_type": "markdown",
      "source": [
        "## 5-3) Does false position always converge faster than bisection?\n",
        "* Lest consider the function $f(x) = x^{10}-1$ which has a root at $x=1$. And we are going to find its root in interval [0, 1.3]. Both bisection and false position methods are used.\n"
      ],
      "metadata": {
        "id": "EJXdE0JBhmfV"
      }
    },
    {
      "cell_type": "code",
      "source": [
        "import numpy as np\n",
        "import matplotlib.pyplot as plt\n",
        "\n",
        "def fx53(x):\n",
        "  return pow(x,10)-1;\n",
        "\n",
        "x = np.linspace(0,1.3,30)\n",
        "y = [fx53(xi) for xi in x]\n",
        "\n",
        "plt.plot(x,y)\n",
        "plt.axhline(y=0, color='k')\n",
        "\n",
        "print(\"Bisection method: \",bisection(fx53,0, 1.3, tol=0.00001))\n",
        "print(\"False-position method: \",falsePosition(fx53,0, 1.3, tol=0.00001))"
      ],
      "metadata": {
        "colab": {
          "base_uri": "https://localhost:8080/",
          "height": 465
        },
        "id": "Lobl1IIYiNAG",
        "outputId": "b961c35c-af18-4028-d309-20c4e2feee12"
      },
      "execution_count": 9,
      "outputs": [
        {
          "output_type": "stream",
          "name": "stdout",
          "text": [
            "Bisection method:  (1.0000038146972656, 9.918175055922961e-06, 17)\n",
            "False-position method:  (0.9999719210572239, 8.607462032226427e-06, 48)\n"
          ]
        },
        {
          "output_type": "display_data",
          "data": {
            "text/plain": [
              "<Figure size 640x480 with 1 Axes>"
            ],
            "image/png": "[encoded data removed]"
          },
          "metadata": {}
        }
      ]
    },
    {
      "cell_type": "markdown",
      "source": [
        "<div align=\"center\">\n",
        "🟪 🟪 🟪\n",
        "</div>\n",
        "\n",
        "\n",
        "---\n",
        "\n"
      ],
      "metadata": {
        "id": "9L-NDar1sFDy"
      }
    },
    {
      "cell_type": "markdown",
      "source": [
        "# 🟤 6) More problems to solve"
      ],
      "metadata": {
        "id": "K3WRxEYhSTn0"
      }
    },
    {
      "cell_type": "markdown",
      "source": [
        "## 6-1) Problem 1\n",
        "The saturation concentration of dissolved oxygen in freshwater can be calculated with the equation:\n",
        "$$\n",
        "lnO_{sf}=-139.34411 + \\frac{1.575701 ×10^5}{T_a} - \\frac{6.642308\\times10^7}{T^{2}_{a}}+\\frac{1.243800×10^{10}}{T^{3}_{a}}-\\frac{8.621949×10^{11}}{T^{4}_{a}}\n",
        "$$\n",
        "* $O_{sf}$ : the saturation concentration of oxygen in mg/L\n",
        "* $T_a$: absolute temperature in K\n",
        "\n",
        "This equation can be used to estimate the oxygen concentration between 0 °C (14.621 mg/L) and 35 °C (6.949 mg/L). Determine the temperature at the following cases:\n",
        "\n",
        "1. oxygen concentration is 8 mg/L, using bisection method. Take tol = 0.1%.\n",
        "2. oxygen concentration is 12 mg/L, using false position method. Take tol = 0.1%.\n"
      ],
      "metadata": {
        "id": "EZ1JVN9vNSPH"
      }
    },
    {
      "cell_type": "code",
      "source": [
        "def calculate_lnO_sf(Ta):\n",
        "  global oxygenConentration\n",
        "  term1 = -139.34411\n",
        "  term2 = (1.575701e5) / Ta\n",
        "  term3 = (6.642308e7) / (Ta**2)\n",
        "  term4 = (1.243800e10) / (Ta**3)\n",
        "  term5 = (8.621949e11) / (Ta**4)\n",
        "\n",
        "  return term1 + term2 - term3 + term4 - term5 - math.log(oxygenConentration)\n",
        "\n",
        "oxygenConentration = 10\n",
        "print(calculate_lnO_sf(300))\n",
        "\n",
        "falsePosition(calculate_lnO_sf, 273, 273+35.0, 0.001)\n"
      ],
      "metadata": {
        "colab": {
          "base_uri": "https://localhost:8080/"
        },
        "id": "mAAAZMutTCXk",
        "outputId": "38a36bab-64b6-4066-c094-14164a8d63ab"
      },
      "execution_count": 10,
      "outputs": [
        {
          "output_type": "stream",
          "name": "stdout",
          "text": [
            "-0.22439879669772278\n"
          ]
        },
        {
          "output_type": "execute_result",
          "data": {
            "text/plain": [
              "(288.58213774406653, 0.0009944937851783834, 3)"
            ]
          },
          "metadata": {},
          "execution_count": 10
        }
      ]
    },
    {
      "cell_type": "markdown",
      "source": [
        "## 6-2) Problem 2\n",
        "\n",
        "Solve the equation $x-2e^{-x}=0$ using bisection method with a = 0 and b = 1. Take tol = 0.5%."
      ],
      "metadata": {
        "id": "nhYk9GbBibNc"
      }
    }
  ]
}