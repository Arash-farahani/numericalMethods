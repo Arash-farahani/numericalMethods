{
  "nbformat": 4,
  "nbformat_minor": 0,
  "metadata": {
    "colab": {
      "provenance": [],
      "toc_visible": true,
      "authorship_tag": "ABX9TyMm+ODlo96FOQkw4bXip46H",
      "include_colab_link": true
    },
    "kernelspec": {
      "name": "python3",
      "display_name": "Python 3"
    },
    "language_info": {
      "name": "python"
    }
  },
  "cells": [
    {
      "cell_type": "markdown",
      "metadata": {
        "id": "view-in-github",
        "colab_type": "text"
      },
      "source": [
        "<a href=\"https://colab.research.google.com/github/hamidrezanorouzi/numericalMethods/blob/main/Lectures/gettingStartedWithPython.ipynb\" target=\"_parent\"><img src=\"https://colab.research.google.com/assets/colab-badge.svg\" alt=\"Open In Colab\"/></a>"
      ]
    },
    {
      "cell_type": "markdown",
      "source": [
        "# 🟢 1) Statements and Comments\n",
        "\n",
        "\n"
      ],
      "metadata": {
        "id": "DSDRCzVqMOng"
      }
    },
    {
      "cell_type": "markdown",
      "source": [
        "## 1-1) Statements:\n",
        "\n",
        "* In Python, statements are lines of code that instruct the interpreter to perform specific tasks.\n",
        "* Statements can include variable assignments, function calls, control flow statements, and more. Here are some common types of statements:\n"
      ],
      "metadata": {
        "id": "FbbRJ5fCIWZM"
      }
    },
    {
      "cell_type": "code",
      "source": [
        "# Assignment Statement\n",
        "x = 10\n",
        "\n",
        "# Expression Statement\n",
        "result = x + 5\n",
        "# This is an expression statement that calculates x + 5\n",
        "# and assigns the result to 'result'."
      ],
      "metadata": {
        "id": "xhN0UktHHULd"
      },
      "execution_count": 21,
      "outputs": []
    },
    {
      "cell_type": "markdown",
      "source": [
        " * **Conditional Statement (if-elif-else)**: Used for decision-making based on conditions.\n"
      ],
      "metadata": {
        "id": "PlkYHayRHRpf"
      }
    },
    {
      "cell_type": "code",
      "source": [
        "if x > 5:\n",
        "    print(\"x is greater than 5\")\n",
        "elif x == 5:\n",
        "    print(\"x is equal to 5\")\n",
        "else:\n",
        "    print(\"x is less than 5\")"
      ],
      "metadata": {
        "colab": {
          "base_uri": "https://localhost:8080/"
        },
        "id": "44LbcR3xHcAf",
        "outputId": "714c0b62-9758-494c-88ab-caaebbecd9d8"
      },
      "execution_count": 22,
      "outputs": [
        {
          "output_type": "stream",
          "name": "stdout",
          "text": [
            "x is greater than 5\n"
          ]
        }
      ]
    },
    {
      "cell_type": "markdown",
      "source": [
        " * **Loop Statements (for, while)**: Used to perform repetitive tasks.\n",
        "  \n",
        "\n"
      ],
      "metadata": {
        "id": "gfvHiCo_HBPi"
      }
    },
    {
      "cell_type": "code",
      "source": [
        "for i in range(5):\n",
        "   print(i)  # Prints numbers from 0 to 4\n",
        "\n",
        "while x > 0:\n",
        "   print(x)\n",
        "   x -= 1  # Decrement x by 1 in each iteration"
      ],
      "metadata": {
        "id": "IMJ4PQrPHzMH"
      },
      "execution_count": null,
      "outputs": []
    },
    {
      "cell_type": "markdown",
      "source": [
        "## 1-2) Comments:\n",
        "- Comments are used to annotate your code with explanations, notes, or reminders. Python supports both single-line and multi-line comments.\n",
        "\n",
        "- **Single-Line Comments**: Use the `#` symbol to add a single-line comment.\n",
        "  ```python\n",
        "  # This is a single-line comment\n",
        "  ```\n",
        "\n",
        "- **Multi-Line Comments**: You can use triple-quotes (either single or double) for multi-line comments. Although not a standard practice, it's a common convention to use triple-quotes for documentation strings (docstrings).\n",
        "  ```python\n",
        "  '''\n",
        "  This is a\n",
        "  multi-line comment\n",
        "  '''\n",
        "  ```\n",
        "\n",
        "\n",
        "\n"
      ],
      "metadata": {
        "id": "uxsZfL2sNDaY"
      }
    },
    {
      "cell_type": "markdown",
      "source": [
        "<div align=\"center\">\n",
        "🟩 🟩 🟩\n",
        "</div>\n",
        "\n",
        "\n",
        "---\n",
        "\n"
      ],
      "metadata": {
        "id": "ZRnhbYqfrNLM"
      }
    },
    {
      "cell_type": "markdown",
      "source": [
        "# 🔵 2) Variables:\n",
        "\n",
        "- Variables are used to store data values. In Python, you don't need to explicitly declare the data type of a variable; it is dynamically inferred.\n",
        "\n",
        "- **Variable Naming Rules**:\n",
        "  - Variable names must start with a letter (a-z, A-Z) or an underscore (_).\n",
        "  - The remaining characters can be letters, numbers (0-9), or underscores.\n",
        "  - Variable names are case-sensitive (`myVar` and `myvar` are different variables).\n",
        "  - Python keywords (reserved words) cannot be used as variable names.\n",
        "\n",
        "- **Variable Assignment**:\n",
        "  ```python\n",
        "  my_var = 42  # Assign the value 42 to the variable 'my_var'\n",
        "  ```\n",
        "\n",
        "- **Reassigning Variables**:\n",
        "  ```python\n",
        "  my_var = 100  # Reassign 'my_var' with a new value\n",
        "  ```\n",
        "\n",
        "\n",
        "\n"
      ],
      "metadata": {
        "id": "hMX8xYXPIRir"
      }
    },
    {
      "cell_type": "markdown",
      "source": [
        "<div align=\"center\">\n",
        "🟦 🟦 🟦\n",
        "</div>\n",
        "\n",
        "\n",
        "---\n"
      ],
      "metadata": {
        "id": "9oEXIM5frbgy"
      }
    },
    {
      "cell_type": "markdown",
      "source": [
        "# 🔴 3) Data Types:\n",
        "\n",
        "- Python has several built-in data types that represent different kinds of data. Here are some common data types:\n",
        "\n",
        "- **Numeric Data Types**:\n",
        "  - `int`: Integer data type, e.g., 5, -10, 42.\n",
        "  - `float`: Floating-point (decimal) data type, e.g., 3.14, -0.5, 2.0.\n",
        "\n",
        "- **Text Type**:\n",
        "  - `str`: String data type for representing text, e.g., \"Hello, Python!\".\n",
        "\n",
        "- **Boolean Type**:\n",
        "  - `bool`: Boolean data type, either `True` or `False`.\n",
        "\n",
        "- **Sequence Types**:\n",
        "  - `list`: Ordered collection of items, e.g., [1, 2, 3].\n",
        "  - `tuple`: Ordered, immutable collection of items, e.g., (1, 2, 3).\n",
        "\n",
        "- **Mapping Type**:\n",
        "  - `dict`: Collection of key-value pairs, e.g., {\"name\": \"Alice\", \"age\": 30}.\n",
        "\n",
        "- **Set Types**:\n",
        "  - `set`: Unordered collection of unique items, e.g., {1, 2, 3}.\n",
        "\n",
        "- **None Type**:\n",
        "  - `None`: Represents the absence of a value.\n",
        "\n",
        "You can check the data type of a variable using the `type()` function:\n",
        "\n",
        "```python\n",
        "x = 42\n",
        "print(type(x))  # Output: <class 'int'>\n",
        "```\n"
      ],
      "metadata": {
        "id": "nxXLjPUCIiCP"
      }
    },
    {
      "cell_type": "markdown",
      "source": [
        "<div align=\"center\">\n",
        "🟥 🟥 🟥\n",
        "</div>\n",
        "\n",
        "\n",
        "---\n",
        "\n"
      ],
      "metadata": {
        "id": "c92cZdEKrlnj"
      }
    },
    {
      "cell_type": "markdown",
      "source": [
        "# 🟡 4) Type Conversion in Python\n",
        "\n",
        "* Type conversion is the process of converting one data type into another. Python provides built-in functions for this purpose.\n",
        "\n"
      ],
      "metadata": {
        "id": "FIOvAzwoMn8e"
      }
    },
    {
      "cell_type": "markdown",
      "source": [
        "## 4.1) Implicit Type Conversion (Automatic)\n",
        "\n",
        "* In Python, some data types can be automatically converted to others without any explicit instructions.\n",
        "* This is known as implicit type conversion or type coercion. For example:\n"
      ],
      "metadata": {
        "id": "9IED-b9TJhjB"
      }
    },
    {
      "cell_type": "code",
      "source": [
        "int_num = 10\n",
        "float_num = 3.5\n",
        "\n",
        "result = int_num + float_num  # Implicitly converts int_num to float\n",
        "print(type(result))"
      ],
      "metadata": {
        "colab": {
          "base_uri": "https://localhost:8080/"
        },
        "id": "1dLNfw2zJ6rh",
        "outputId": "60f8e179-4392-4563-e9de-2ed6b89e4639"
      },
      "execution_count": 24,
      "outputs": [
        {
          "output_type": "stream",
          "name": "stdout",
          "text": [
            "<class 'float'>\n"
          ]
        }
      ]
    },
    {
      "cell_type": "markdown",
      "source": [
        "## 4.2) Explicit Type Conversion (Manual)\n",
        "\n",
        "* You can also perform explicit type conversion using type casting functions:\n",
        "\n",
        " - `int()`: Converts a value to an integer.\n",
        " - `float()`: Converts a value to a floating-point number.\n",
        " - `str()`: Converts a value to a string.\n",
        "\n",
        "\n"
      ],
      "metadata": {
        "id": "zN28CjoYJm-O"
      }
    },
    {
      "cell_type": "code",
      "source": [
        "num_str = \"123\"\n",
        "num_int = int(num_str)  # Convert string to integer\n",
        "print(2*num_int)"
      ],
      "metadata": {
        "colab": {
          "base_uri": "https://localhost:8080/"
        },
        "id": "mGzYPQeoKJFo",
        "outputId": "1674e161-6203-4962-b9c7-f071acb7288c"
      },
      "execution_count": 25,
      "outputs": [
        {
          "output_type": "stream",
          "name": "stdout",
          "text": [
            "246\n"
          ]
        }
      ]
    },
    {
      "cell_type": "markdown",
      "source": [
        "## 4.3) Type Conversion Between Different Data Types\n",
        "\n",
        "* You can convert between different data types using explicit type conversion. Here are some examples:\n",
        "\n",
        "```python\n",
        "# Integer to Float\n",
        "int_num = 10\n",
        "float_num = float(int_num)\n",
        "\n",
        "# Float to Integer\n",
        "float_num = 3.5\n",
        "int_num = int(float_num)\n",
        "\n",
        "# Integer/Float to String\n",
        "num = 42\n",
        "num_str = str(num)\n",
        "\n",
        "# String to Integer/Float\n",
        "num_str = \"3.14\"\n",
        "num_float = float(num_str)\n",
        "num_int = int(num_str)  # This will raise an error if the string is not a valid integer.\n",
        "```\n",
        "\n"
      ],
      "metadata": {
        "id": "Vk-n-M75JrY6"
      }
    },
    {
      "cell_type": "markdown",
      "source": [
        "<div align=\"center\">\n",
        "🟨 🟨 🟨\n",
        "</div>\n",
        "\n",
        "\n",
        "---\n",
        "\n"
      ],
      "metadata": {
        "id": "gXIa8oBSrzqg"
      }
    },
    {
      "cell_type": "markdown",
      "source": [
        "# 🟣 5) Input/Output and Import in Python\n",
        "\n",
        "## 5.1) Input (User Interaction)\n",
        "\n",
        "* You can use the `input()` function to take user input from the console. By default, `input()` returns a string, so you may need to perform type conversion if you expect numeric input.\n",
        "\n",
        "\n"
      ],
      "metadata": {
        "id": "9IZIPShmJvy5"
      }
    },
    {
      "cell_type": "code",
      "source": [
        "name = input(\"Enter your name: \")\n",
        "age_str = input(\"Enter your age: \")\n",
        "age = int(age_str)  # Convert the input to an integer\n",
        "print(f\"Your name is {name} and you are {age} years old.\")"
      ],
      "metadata": {
        "id": "ehnXE1U7ViWj"
      },
      "execution_count": null,
      "outputs": []
    },
    {
      "cell_type": "markdown",
      "source": [
        "## 5.2) Output (Printing)\n",
        "\n",
        "* Python uses the `print()` function to display output to the console. You can print variables and text using this function.\n"
      ],
      "metadata": {
        "id": "n4M0FB5NVfY-"
      }
    },
    {
      "cell_type": "code",
      "source": [
        "name = \"John\"\n",
        "weight = 67.45\n",
        "age = 34\n",
        "\n",
        "print(f'{name} is {age:3d} years old and weights {weight:5.2f} kg.')"
      ],
      "metadata": {
        "id": "WNNK2UZQWMXU"
      },
      "execution_count": null,
      "outputs": []
    },
    {
      "cell_type": "markdown",
      "source": [
        "## 5.3) Importing Modules\n",
        "\n",
        "* Python allows you to import external modules to extend its functionality.\n",
        "* You can use the `import` statement to import modules.\n",
        "* Here's how you can import the `math` module and use some of its functions:\n",
        "\n",
        "```python\n",
        "import math\n",
        "\n",
        "# Using math module\n",
        "print(\"Square root of 16:\", math.sqrt(16))\n",
        "print(\"Value of pi:\", math.pi)\n",
        "```\n",
        "\n",
        "* You can also use the `from` keyword to import specific functions or variables from a module:\n",
        "\n",
        "```python\n",
        "from math import sqrt, pi\n",
        "\n",
        "# Using imported functions/variables directly\n",
        "print(\"Square root of 25:\", sqrt(25))\n",
        "print(\"Value of pi:\", pi)\n",
        "```"
      ],
      "metadata": {
        "id": "MpXTWyeUWIKv"
      }
    },
    {
      "cell_type": "markdown",
      "source": [
        "<div align=\"center\">\n",
        "🟪 🟪 🟪\n",
        "\n",
        "---\n",
        "\n",
        "\n",
        "</div>"
      ],
      "metadata": {
        "id": "55l09P1GsDTu"
      }
    },
    {
      "cell_type": "markdown",
      "source": [
        "# 🟠 6) Operators in Python\n",
        "\n",
        "* Operators in Python are special symbols that are used to perform operations on variables and values.\n",
        "* Python supports various types of operators, including arithmetic operators, comparison operators, logical operators, assignment operators, and more.\n",
        "\n"
      ],
      "metadata": {
        "id": "ge3EyhS4NEym"
      }
    },
    {
      "cell_type": "markdown",
      "source": [
        "## 6.1) Arithmetic Operators\n",
        "\n",
        "* Arithmetic operators are used for performing mathematical operations.\n",
        "\n",
        " - Addition (+): Adds two operands.\n",
        " - Subtraction (-): Subtracts the right operand from the left operand.\n",
        " - Multiplication (*): Multiplies two operands.\n",
        " - Division (/): Divides the left operand by the right operand.\n",
        " - Modulus (%): Returns the remainder when the left operand is divided by the right operand.\n",
        " - Exponentiation (**): Raises the left operand to the power of the right operand.\n",
        " - Floor Division (//): Returns the quotient of the division, discarding the fractional part.\n"
      ],
      "metadata": {
        "id": "Bg4XPOTAXQDi"
      }
    },
    {
      "cell_type": "code",
      "source": [
        "a = 25\n",
        "b = 4\n",
        "\n",
        "addition_result = a + b\n",
        "subtraction_result = a - b\n",
        "multiplication_result = a * b\n",
        "division_result = a / b # 6.25, type conversion occured\n",
        "modulus_result = a % b  # results 1\n",
        "exponentiation_result = a ** b # results 390625\n",
        "floor_division_result = a // b #6"
      ],
      "metadata": {
        "id": "6XN_zmu3XofY"
      },
      "execution_count": null,
      "outputs": []
    },
    {
      "cell_type": "markdown",
      "source": [
        "## 6.2) Comparison Operators\n",
        "\n",
        "Comparison operators are used to compare values and return True or False.\n",
        "\n",
        "- Equal to (==): Checks if two operands are equal.\n",
        "- Not equal to (!=): Checks if two operands are not equal.\n",
        "- Greater than (>): Checks if the left operand is greater than the right operand.\n",
        "- Less than (<): Checks if the left operand is less than the right operand.\n",
        "- Greater than or equal to (>=): Checks if the left operand is greater than or equal to the right operand.\n",
        "- Less than or equal to (<=): Checks if the left operand is less than or equal to the right operand.\n",
        "\n",
        "```python\n",
        "x = 5\n",
        "y = 10\n",
        "\n",
        "is_equal = x == y\n",
        "is_not_equal = x != y\n",
        "is_greater = x > y\n",
        "is_less = x < y\n",
        "is_greater_equal = x >= y\n",
        "is_less_equal = x <= y\n",
        "```\n",
        "\n"
      ],
      "metadata": {
        "id": "I-yCcEhUXb2N"
      }
    },
    {
      "cell_type": "markdown",
      "source": [
        "### 6.3 Logical Operators\n",
        "\n",
        "* Logical operators are used to perform logical operations on Boolean values.\n",
        "\n",
        " - Logical AND (and): Returns True if both operands are True.\n",
        " - Logical OR (or): Returns True if at least one operand is True.\n",
        " - Logical NOT (not): Returns the opposite of the operand's value.\n",
        "\n",
        "```python\n",
        "p = True\n",
        "q = False\n",
        "\n",
        "logical_and_result = p and q\n",
        "logical_or_result = p or q\n",
        "logical_not_result = not p\n",
        "```\n",
        "\n"
      ],
      "metadata": {
        "id": "MbCh3a9Nfb5-"
      }
    },
    {
      "cell_type": "markdown",
      "source": [
        "### 6.4 Assignment Operators\n",
        "\n",
        "Assignment operators are used to assign values to variables.\n",
        "\n",
        "- Assignment (=): Assigns the value of the right operand to the left operand.\n",
        "- Add and assign (+=): Adds the right operand to the left operand and assigns the result to the left operand.\n",
        "- Subtract and assign (-=): Subtracts the right operand from the left operand and assigns the result to the left operand.\n",
        "- Multiply and assign (*=): Multiplies the left operand by the right operand and assigns the result to the left operand.\n",
        "- Divide and assign (/=): Divides the left operand by the right operand and assigns the result to the left operand.\n",
        "\n",
        "```python\n",
        "x = 10\n",
        "y = 5\n",
        "\n",
        "x += y  # x is now 15\n",
        "x -= y  # x is now 10\n",
        "x *= y  # x is now 50\n",
        "x /= y  # x is now 10.0\n",
        "```\n",
        "\n"
      ],
      "metadata": {
        "id": "K4JB-6s4fiqW"
      }
    },
    {
      "cell_type": "markdown",
      "source": [
        "## 6.5) Bitwise Operators\n",
        "\n",
        "Bitwise operators are used to perform operations on individual bits of integers.\n",
        "\n",
        "- Bitwise AND (&): Performs a bitwise AND operation.\n",
        "- Bitwise OR (|): Performs a bitwise OR operation.\n",
        "- Bitwise XOR (^): Performs a bitwise XOR (exclusive OR) operation.\n",
        "- Bitwise NOT (~): Performs a bitwise NOT operation.\n",
        "- Left shift (<<): Shifts the bits of the left operand to the left by the number of positions specified by the right operand.\n",
        "- Right shift (>>): Shifts the bits of the left operand to the right by the number of positions specified by the right operand.\n",
        "\n",
        "```python\n",
        "a = 5  # Binary: 0101\n",
        "b = 3  # Binary: 0011\n",
        "\n",
        "bitwise_and_result = a & b  # Result: 0001 (1 in decimal)\n",
        "bitwise_or_result = a | b   # Result: 0111 (7 in decimal)\n",
        "bitwise_xor_result = a ^ b  # Result: 0110 (6 in decimal)\n",
        "bitwise_not_result = ~a     # Result: 11111010 (-6 in decimal)\n",
        "left_shift_result = a << 2  # Result: 010100 (20 in decimal)\n",
        "right_shift_result = a >> 1 # Result: 0010 (2 in decimal)\n",
        "```\n",
        "\n"
      ],
      "metadata": {
        "id": "PHOqK3Ydfx59"
      }
    },
    {
      "cell_type": "markdown",
      "source": [
        "## 6.6) Membership Operators\n",
        "\n",
        "Membership operators are used to test whether a value is present in a sequence.\n",
        "\n",
        "- In: Returns True if a value is found in the sequence.\n",
        "- Not in: Returns True if a value is not found in the sequence.\n",
        "\n",
        "```python\n",
        "my_list = [1, 2, 3, 4, 5]\n",
        "\n",
        "is_present = 3 in my_list  # True\n",
        "is_not_present = 6 not in my_list  # True\n",
        "```\n",
        "\n"
      ],
      "metadata": {
        "id": "lwij2xm4f7FB"
      }
    },
    {
      "cell_type": "markdown",
      "source": [
        "## 6.7) Identity Operators\n",
        "\n",
        "Identity operators are used to compare the memory addresses of two objects.\n",
        "\n",
        "- Is: Returns True if both operands are the same object.\n",
        "- Is not: Returns True if both operands are not the same object.\n",
        "\n",
        "```python\n",
        "x = [1, 2, 3]\n",
        "y = x\n",
        "z = [1, 2, 3]\n",
        "\n",
        "is_same_object = x is y  # True\n",
        "is_not_same_object = x is not z  # True\n",
        "```"
      ],
      "metadata": {
        "id": "PNJyLpfbgAiT"
      }
    },
    {
      "cell_type": "markdown",
      "source": [
        "### 6.8 Operator Precedence\n",
        "\n",
        "Operators in Python have a specific order of precedence, which determines the order in which they are evaluated in expressions. You can use parentheses to override the default precedence and explicitly specify the order of evaluation.\n",
        "\n",
        "Here is a general overview of operator precedence from highest to lowest:\n",
        "\n",
        "1. Parentheses ( )\n",
        "2. Exponentiation (**)\n",
        "3. Complement, Unary Plus, and Unary Minus (~, +, -)\n",
        "4. Multiplication, Division, Floor Division, and Modulus (*, /, //, %)\n",
        "5. Addition and Subtraction (+, -)\n",
        "6. Bitwise Left and Right Shifts (<<, >>)\n",
        "7. Bitwise AND (&)\n",
        "8. Bitwise XOR (^)\n",
        "9. Bitwise OR (|)\n",
        "10. Comparison Operators (==, !=, >, <, >=, <=)\n",
        "11. Logical NOT (not)\n",
        "12. Logical AND (and)\n",
        "13. Logical OR (or)\n",
        "\n",
        "\n"
      ],
      "metadata": {
        "id": "xX3p_D33gIUV"
      }
    },
    {
      "cell_type": "markdown",
      "source": [
        "<div align=\"center\">\n",
        "🟧 🟧 🟧\n",
        "</div>\n",
        "\n",
        "\n",
        "---\n",
        "\n"
      ],
      "metadata": {
        "id": "30D0ZzOAsUkj"
      }
    },
    {
      "cell_type": "markdown",
      "source": [
        "# ⚫ 7) Namespaces in Python\n",
        "\n",
        "* A namespace in Python is a container that holds a set of identifiers (names of variables, functions, classes, etc.) and their associated objects.\n",
        "* It provides a way to organize and manage the names of objects to avoid naming conflicts and to create a hierarchical structure for variables and functions.\n",
        "\n",
        "* Python has several built-in namespaces:\n",
        "\n",
        " 1. **Built-in Namespace**: Contains all the Python built-in functions and objects. You can access these objects without importing any modules.\n",
        "\n",
        " 2. **Global Namespace**: The global namespace is created when you start a Python program. It contains names defined at the top level of your script or module. Variables and functions defined in the global namespace are accessible from anywhere in the script.\n",
        "\n",
        " 3. **Local Namespace (Function Namespace)**: Every time a function is called, a new local namespace is created for that function. It contains the function's arguments and local variables. The local namespace is destroyed when the function returns.\n",
        "\n",
        " 4. **Module Namespace**: When you import a module, a module-level namespace is created for that module. It contains all the names defined in the module, including variables, functions, and classes.\n",
        "\n",
        " 5. **Class Namespace**: When you define a class, a class-level namespace is created for that class. It contains the class's attributes and methods.\n",
        "\n"
      ],
      "metadata": {
        "id": "UostoFCegfs3"
      }
    },
    {
      "cell_type": "markdown",
      "source": [
        "## 7.1) Accessing Namespaces\n",
        "\n",
        "* You can access names in different namespaces using dot notation. For example:\n",
        "\n",
        "```python\n",
        "# Accessing built-in namespace\n",
        "import math\n",
        "result = math.sqrt(16)\n",
        "\n",
        "# Accessing global namespace\n",
        "x = 10\n",
        "y = 20\n",
        "sum_result = x + y\n",
        "\n",
        "# Accessing module namespace\n",
        "import mymodule\n",
        "result = mymodule.my_function()\n",
        "\n",
        "# Accessing class namespace\n",
        "class MyClass:\n",
        "    def __init__(self):\n",
        "        self.my_variable = 42\n",
        "    \n",
        "    def my_method(self):\n",
        "        print(\"Hello, world!\")\n",
        "\n",
        "obj = MyClass()\n",
        "variable_value = obj.my_variable\n",
        "obj.my_method()\n",
        "```\n",
        "\n",
        "## 7.2) Name Resolution Order\n",
        "\n",
        "* Python follows a specific order when resolving names in different namespaces. This order is known as the **LEGB rule**:\n",
        "\n",
        " - **Local (L)**: Python first looks for the name in the local namespace (inside the current function or method).\n",
        "\n",
        " - **Enclosing (E)**: If the name is not found in the local namespace, Python looks in the enclosing namespaces. This is relevant for nested functions or methods.\n",
        "\n",
        " - **Global (G)**: If the name is not found in the enclosing namespaces, Python looks in the global namespace (at the module level).\n",
        "\n",
        " - **Built-in (B)**: If the name is not found in any of the above namespaces, Python finally looks in the built-in namespace.\n",
        "\n",
        "\n",
        "* Here's an example that demonstrates the LEGB rule:\n",
        "\n",
        "```python\n",
        "x = 10  # Global namespace\n",
        "\n",
        "def outer_function():\n",
        "    y = 20  # Enclosing namespace\n",
        "    \n",
        "    def inner_function():\n",
        "        z = 30  # Local namespace\n",
        "        result = x + y + z  # x is from the global namespace, y is from the enclosing namespace\n",
        "        return result\n",
        "    \n",
        "    return inner_function()\n",
        "\n",
        "result = outer_function()  # The inner function uses names from all namespaces\n",
        "```\n",
        "\n"
      ],
      "metadata": {
        "id": "5SvevXb_hFNX"
      }
    },
    {
      "cell_type": "markdown",
      "source": [
        "## 7.3) Using Namespaces to Avoid Name Conflicts\n",
        "\n",
        "* Namespaces are useful for avoiding name conflicts in large programs or when using third-party libraries.\n",
        "* By organizing your code into different modules and classes, you can prevent naming clashes between variables and functions with the same name.\n",
        "\n",
        "* Here's an example of using namespaces to avoid conflicts:\n",
        "\n",
        "```python\n",
        "# Module 1 (module1.py)\n",
        "def my_function():\n",
        "    return \"Function from Module 1\"\n",
        "\n",
        "# Module 2 (module2.py)\n",
        "def my_function():\n",
        "    return \"Function from Module 2\"\n",
        "\n",
        "# Main script\n",
        "import module1\n",
        "import module2\n",
        "\n",
        "result1 = module1.my_function()  # Calls the function from Module 1\n",
        "result2 = module2.my_function()  # Calls the function from Module 2\n",
        "```\n",
        "\n",
        "* In the above example, both modules have a function named `my_function`, but we can differentiate between them using their respective namespaces.\n"
      ],
      "metadata": {
        "id": "-1og_KY0hVrC"
      }
    },
    {
      "cell_type": "markdown",
      "source": [
        "<div align=\"center\">\n",
        "⬛ ⬛ ⬛\n",
        "</div>\n",
        "\n",
        "---\n",
        "\n"
      ],
      "metadata": {
        "id": "N7plXzm-tI2D"
      }
    },
    {
      "cell_type": "markdown",
      "source": [
        "# 🔵 8) Flow Control\n",
        "\n",
        "\n",
        "\n"
      ],
      "metadata": {
        "id": "8ZfRK6ySNheJ"
      }
    },
    {
      "cell_type": "markdown",
      "source": [
        "## 8.1) If-Else Statements"
      ],
      "metadata": {
        "id": "WI-HKJlUnvyy"
      }
    },
    {
      "cell_type": "code",
      "source": [
        "# Determine if a number is positive, negative, or zero\n",
        "num = float(input(\"Enter a number: \"))\n",
        "\n",
        "if num > 0:\n",
        "    print(\"Positive\")\n",
        "elif num < 0:\n",
        "    print(\"Negative\")\n",
        "else:\n",
        "    print(\"Zero\")"
      ],
      "metadata": {
        "id": "8ut2vqOLnsBh"
      },
      "execution_count": null,
      "outputs": []
    },
    {
      "cell_type": "markdown",
      "source": [
        "## 8.2) For Loop\n",
        "\n",
        "\n"
      ],
      "metadata": {
        "id": "c-DSUFngnoN9"
      }
    },
    {
      "cell_type": "code",
      "source": [
        "# Calculate the sum of numbers in a list\n",
        "numbers = [1, 2, 3, 4, 5]\n",
        "sum = 0\n",
        "\n",
        "for num in numbers:\n",
        "    sum += num\n",
        "\n",
        "print(f\"The sum is {sum}\")"
      ],
      "metadata": {
        "id": "N_EAtjmKo4sx"
      },
      "execution_count": null,
      "outputs": []
    },
    {
      "cell_type": "markdown",
      "source": [
        "## 8.3) While Loop\n",
        "\n"
      ],
      "metadata": {
        "id": "Uw5VgYorn4Fp"
      }
    },
    {
      "cell_type": "code",
      "source": [
        "# Print a countdown from 10 to 1\n",
        "count = 10\n",
        "\n",
        "while count > 0:\n",
        "    print(count)\n",
        "    count -= 1"
      ],
      "metadata": {
        "id": "aM9LlFsbo98n"
      },
      "execution_count": null,
      "outputs": []
    },
    {
      "cell_type": "markdown",
      "source": [
        "## 8.4) Break and Continue"
      ],
      "metadata": {
        "id": "svXghhvdn9M-"
      }
    },
    {
      "cell_type": "code",
      "source": [
        "# Print even numbers from 1 to 10 using continue\n",
        "for num in range(1, 11):\n",
        "    if num % 2 != 0:\n",
        "        continue\n",
        "    print(num)\n",
        "\n",
        "# Find the first even number greater than 10 using break\n",
        "for num in range(1, 20):\n",
        "    if num % 2 == 0 and num > 10:\n",
        "        print(f\"The first even number greater than 10 is {num}\")\n",
        "        break"
      ],
      "metadata": {
        "id": "FqciQwz5pEZF"
      },
      "execution_count": null,
      "outputs": []
    },
    {
      "cell_type": "markdown",
      "source": [
        "<div align=\"center\">\n",
        "🟦 🟦 🟦\n",
        "</div>\n",
        "\n",
        "---\n",
        "\n"
      ],
      "metadata": {
        "id": "LAgKKXJ_tWTV"
      }
    },
    {
      "cell_type": "markdown",
      "source": [
        "# 🟢 9) Functions\n",
        "\n"
      ],
      "metadata": {
        "id": "i4Fi6h6hoAN8"
      }
    },
    {
      "cell_type": "markdown",
      "source": [
        "## 9.1) Function Basics\n",
        "\n",
        "\n"
      ],
      "metadata": {
        "id": "plQl0eUlompp"
      }
    },
    {
      "cell_type": "code",
      "source": [
        "# Define a function that calculates the area of a rectangle\n",
        "def calculate_area(length, width):\n",
        "    return length * width\n",
        "\n",
        "area = calculate_area(5, 4)\n",
        "print(f\"The area of the rectangle is {area}\")"
      ],
      "metadata": {
        "id": "wSHA3NaOpRw9"
      },
      "execution_count": null,
      "outputs": []
    },
    {
      "cell_type": "markdown",
      "source": [
        "## 9.2) Function Parameters and Return Values\n",
        "\n"
      ],
      "metadata": {
        "id": "Old1zPdGopeF"
      }
    },
    {
      "cell_type": "code",
      "source": [
        "def factorial(n):\n",
        "    if n == 0:\n",
        "        return 1\n",
        "    else:\n",
        "        return n * factorial(n - 1)\n",
        "\n",
        "result = factorial(5)\n",
        "print(f\"Factorial of 5 is {result}\")"
      ],
      "metadata": {
        "id": "i7yvTPP3pV4N"
      },
      "execution_count": null,
      "outputs": []
    },
    {
      "cell_type": "markdown",
      "source": [
        "## 9.3) Lambda Functions\n"
      ],
      "metadata": {
        "id": "AAuda7RkoroV"
      }
    },
    {
      "cell_type": "code",
      "source": [
        "# Sort a list of names by their length using a lambda function\n",
        "names = [\"Alice\", \"Bob\", \"Charlie\", \"David\", \"Eve\"]\n",
        "sorted_names = sorted(names, key=lambda x: len(x))\n",
        "print(sorted_names)"
      ],
      "metadata": {
        "id": "nahJE2B7pmiD"
      },
      "execution_count": null,
      "outputs": []
    },
    {
      "cell_type": "markdown",
      "source": [
        "## 9.4) Function Scope\n",
        "\n"
      ],
      "metadata": {
        "id": "RBgWSbqAovZt"
      }
    },
    {
      "cell_type": "code",
      "source": [
        "# Demonstrating variable scope\n",
        "x = 10  # Global variable\n",
        "\n",
        "def foo():\n",
        "    y = 5  # Local variable\n",
        "    print(f\"x inside foo: {x}\")  # Accessing global variable\n",
        "    print(f\"y inside foo: {y}\")  # Accessing local variable\n",
        "\n",
        "foo()\n",
        "print(f\"x outside foo: {x}\")  # Global variable accessible outside the function"
      ],
      "metadata": {
        "id": "M_RgyL1Gp2jq"
      },
      "execution_count": null,
      "outputs": []
    },
    {
      "cell_type": "markdown",
      "source": [
        "<div align=\"center\">\n",
        "🟩 🟩 🟩\n",
        "</div>\n",
        "\n",
        "---\n",
        "\n"
      ],
      "metadata": {
        "id": "B0F0_k_RtjKI"
      }
    },
    {
      "cell_type": "markdown",
      "source": [
        "# 🔴 10) Modules\n",
        "\n"
      ],
      "metadata": {
        "id": "yTG2CSWvoPns"
      }
    },
    {
      "cell_type": "markdown",
      "source": [
        "## 10.1) Creating a Module\n",
        "\n",
        "* Create a Python module named `math_operations.py`:\n",
        "\n",
        "```python\n",
        "# math_operations.py\n",
        "def add(a, b):\n",
        "    return a + b\n",
        "\n",
        "def subtract(a, b):\n",
        "    return a - b\n",
        "```\n",
        "\n"
      ],
      "metadata": {
        "id": "yJWHjbmGoZbc"
      }
    },
    {
      "cell_type": "markdown",
      "source": [
        "## 10.2) Importing Modules\n",
        "\n",
        "```python\n",
        "# Using the math_operations module\n",
        "import math_operations\n",
        "\n",
        "result_add = math_operations.add(10, 5)\n",
        "result_subtract = math_operations.subtract(10, 5)\n",
        "\n",
        "print(f\"Addition result: {result_add}\")\n",
        "print(f\"Subtraction result: {result_subtract}\")\n",
        "```"
      ],
      "metadata": {
        "id": "G6uOJXOSoda9"
      }
    },
    {
      "cell_type": "markdown",
      "source": [
        "<div align=\"center\">\n",
        "🟥 🟥 🟥\n",
        "</div>\n",
        "\n",
        "---\n",
        "\n"
      ],
      "metadata": {
        "id": "NJcPQCJPt26i"
      }
    },
    {
      "cell_type": "markdown",
      "source": [
        "<div align=\"center>\n",
        "🟥 🟥 🟥\n",
        "</div>\n",
        "\n",
        "---\n",
        "\n"
      ],
      "metadata": {
        "id": "CEAIv3k9ttD5"
      }
    }
  ]
}