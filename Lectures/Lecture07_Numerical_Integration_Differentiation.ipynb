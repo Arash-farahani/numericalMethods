{
  "nbformat": 4,
  "nbformat_minor": 0,
  "metadata": {
    "colab": {
      "provenance": [],
      "authorship_tag": "ABX9TyNr3IV3GHnhVq6JrTB4GB8k",
      "include_colab_link": true
    },
    "kernelspec": {
      "name": "python3",
      "display_name": "Python 3"
    },
    "language_info": {
      "name": "python"
    }
  },
  "cells": [
    {
      "cell_type": "markdown",
      "metadata": {
        "id": "view-in-github",
        "colab_type": "text"
      },
      "source": [
        "<a href=\"https://colab.research.google.com/github/hamidrezanorouzi/numericalMethods/blob/main/Lectures/Lecture07_Numerical_Integration_Differentiation.ipynb\" target=\"_parent\"><img src=\"https://colab.research.google.com/assets/colab-badge.svg\" alt=\"Open In Colab\"/></a>"
      ]
    },
    {
      "cell_type": "markdown",
      "source": [
        "# **Numerical Integration and Differentiation**\n",
        "\n",
        "&nbsp;\n",
        "\n",
        "Lecturer: **Hamidreza Norouzi**\n",
        "\n",
        "&nbsp;"
      ],
      "metadata": {
        "id": "AUD2XNe-Hbzn"
      }
    },
    {
      "cell_type": "markdown",
      "source": [
        "### **Notes**❕\n",
        "This content forms a part of the instructional presentations for the **`numerical methods in chemical engineering`** course designed for undergraduate chemical engineering students at Amirkabir University of Technology.\n",
        "\n",
        "Feel free to utilize the information and source codes provided in this material, ensuring appropriate acknowledgment of the original document.\n",
        "\n",
        "The visual elements featured in this document are either original or have been obtained from the following sources, unless specified otherwise:\n",
        "\n",
        "* Steven C. Chapra, Applied Numerical Methods with Matlab for Engineers and Scientists, 3rd edition, McGraw-Hill (2012).\n",
        "* Amos Gilat and Vish Subramanian, Numerical Methods for Engineers and Scientists, 3rd edition, Wiley (2014).\n",
        "\n",
        "\n",
        "<div align=\"center\">\n",
        "🟪 🟪 🟪\n",
        "</dive>\n",
        "\n",
        "---"
      ],
      "metadata": {
        "id": "YIRhrB7DHmAe"
      }
    },
    {
      "cell_type": "markdown",
      "source": [
        "# 🟢 1) Where do we use them?"
      ],
      "metadata": {
        "id": "GJQ4RJN4H0as"
      }
    },
    {
      "cell_type": "markdown",
      "source": [
        "# 🔴 2) Integration"
      ],
      "metadata": {
        "id": "bUB_rFJGJ_oD"
      }
    },
    {
      "cell_type": "markdown",
      "source": [
        "## 2-1) Newton-Cotes formulas\n",
        "* Newton-Cotes formulas are based on the strategy of replacing a complicated function or tabulated data with a polynomial that is easy to integrate:\n",
        "  $$\n",
        "  I = \\int_a^b{f(x)dx} \\thickapprox \\int_a^b{f_n(x)dx} \\tag{2-1}\n",
        "  $$\n",
        "  where the polynomial is:\n",
        "  $$\n",
        "  f_n(x) = a_0 + a_1x+a_2x^2+...,a_nx^n \\tag{2-2}\n",
        "  $$"
      ],
      "metadata": {
        "id": "6b0LSK9xKUx-"
      }
    },
    {
      "cell_type": "markdown",
      "source": [
        "<div align=\"center\">\n",
        "<img src=\"https://drive.google.com/uc?id=1i_LQ-H6YAQaYD46ZJ5qA0KQMyKIzUFdh\" width=\"700\">\n",
        "</div>"
      ],
      "metadata": {
        "id": "roqSIO_MmKDd"
      }
    },
    {
      "cell_type": "markdown",
      "source": [
        "* How about if we apply the approximation on segments with sub-intervals with smaller than interval [a,b]?\n",
        "\n",
        "<div align=\"center\">\n",
        "<img src=\"https://drive.google.com/uc?id=1CTZJtP00nIn4IvH589DflyNVkF9VyFfw\" width=\"450\">\n",
        "</div>"
      ],
      "metadata": {
        "id": "1z2A1mdUmdAK"
      }
    },
    {
      "cell_type": "markdown",
      "source": [
        "## 2-2) Trapezoid rule\n",
        "* It correponds to the case where the ploynomial is first order:\n",
        "\n",
        "$$\n",
        "\\begin{aligned}\n",
        "I &= \\int_a^b[f(a)+\\frac{f(b)-f(a)}{b-a}(x-a)]dx ⇒ \\\\\n",
        "I &= (b-a)\\frac{f(b)+f(a)}{2}\n",
        "\\end{aligned}\n",
        "\\tag{2-3}\n",
        "$$\n",
        "\n",
        "* Geometrically, the trapezoidal rule is equivalent to approximating the area of the trapezoid under the straight line connecting $f(a)$ and $f(b)$:\n",
        "\n",
        "<div align=\"center\">\n",
        "<img src=\"https://drive.google.com/uc?id=12VMro0KWSTEq_7pTW8YqfC5x8kx1xcRO\" width=\"400\">\n",
        "</div>\n",
        "\n",
        "\n",
        "* The local truncation error of single application of trapezoidal rule is give by:\n",
        "$$\n",
        "E_t = \\frac{1}{12} f^{\"}(ξ)(b-a)^3  \\tag{2-4}\n",
        "$$\n",
        "  this shows that the error is zero integrating functions up to first-order polynomial."
      ],
      "metadata": {
        "id": "WrMFLPQqKdJD"
      }
    },
    {
      "cell_type": "markdown",
      "source": [
        "### 2-1-1) Trapezoidal rule with sub-intervals\n",
        "* The integration formula can be applied to sub-intervals of domain [a,b] and then these integrals are summed to give the integral over the whole domain.\n",
        "* Consider that the interval [a,b] is divided into n equal sub-intervals with width $h$:\n",
        "$$\n",
        "h = \\frac{b-a}{n} \\tag{2-5}\n",
        "$$\n",
        "Then the intgral over [a,b] can be re-written as:\n",
        "$$\n",
        "I = \\int_{x_0=a}^{x_n=b} f(x)dx \\thickapprox \\int_{x_0}^{x_1} f(x)dx + \\int_{x_1}^{x_2} f(x)dx + ... + \\int_{x_{n-1}}^{x_n} f(x)dx\n",
        "\\tag{2-6}\n",
        "$$\n"
      ],
      "metadata": {
        "id": "Z2HKgdamHgBg"
      }
    },
    {
      "cell_type": "markdown",
      "source": [
        "<div align = \"center\">\n",
        "<img src=\"https://drive.google.com/uc?id=1GgZOKEi-TIi-zrC5amdE609njsBNY_h3\" width = \"500\">\n",
        "</div>"
      ],
      "metadata": {
        "id": "oTSXrTRrVUsk"
      }
    },
    {
      "cell_type": "markdown",
      "source": [
        "* Applying trapezoidal rule to each of the above integrals over sub-intervals:\n",
        "$$\n",
        "\\begin{aligned}\n",
        "I &= h \\frac{f(x_0)+f(x_1)}{2} + h \\frac{f(x_1)+f(x_2)}{2} + ...+ h \\frac{f(x_{n-1})+f(x_n)}{2} \\\\\n",
        "I &= \\frac{h}{2}[f(x_0)+ 2 \\sum_{i=1}^{n-1}f(x_i) + f(x_n)]\n",
        "\\end{aligned}\n",
        "\\tag{2-7}\n",
        "$$\n",
        "\n",
        "* The true error for Eq. (2-7) is:\n",
        "$$\n",
        "E_t = \\frac{h^3}{12} \\sum_{i=1}^{n} f^{\"}(ξ)\n",
        "$$"
      ],
      "metadata": {
        "id": "7i00T1ZSVxnh"
      }
    },
    {
      "cell_type": "markdown",
      "source": [
        "### ❓ **Example 1:**\n",
        "Compute the integral of the function $f(x) = 0.2+25x - 200x^2 + 675x^3 - 900x^4 +400x^5$ over interval [0,0.8] using trapezoidal rule with four sub-intervals."
      ],
      "metadata": {
        "id": "xdxiKK6rV2A5"
      }
    },
    {
      "cell_type": "markdown",
      "source": [
        "💡 *Solution*\n",
        "\n"
      ],
      "metadata": {
        "id": "pua3RpFgWXl4"
      }
    },
    {
      "cell_type": "markdown",
      "source": [
        "### 2-1-2) Code for trapezoidal rule"
      ],
      "metadata": {
        "id": "6_EskG1OPl0d"
      }
    },
    {
      "cell_type": "code",
      "source": [
        "# @title Trapezoidal rule integration\n",
        "def trapz(fx, a, b, n):\n",
        "  \"\"\"\n",
        "  Computes the integral of a function using the trapezoidal rule.\n",
        "\n",
        "  :param fx: The function to be integrated.\n",
        "  :param a: The lower limit of integration.\n",
        "  :param b: The upper limit of integration.\n",
        "  :param n: The number of subintervals (must be a positive integer).\n",
        "  :return: The estimated integral value.\n",
        "  \"\"\"\n",
        "  h = (b - a) / n\n",
        "  integral = 0.5 * (fx(a) + fx(b))\n",
        "\n",
        "  for i in range(1, n):\n",
        "    x_i = a + i * h\n",
        "    integral += fx(x_i)\n",
        "\n",
        "  integral *= h\n",
        "\n",
        "  return integral"
      ],
      "metadata": {
        "id": "9wAcEFY8PpvE"
      },
      "execution_count": 30,
      "outputs": []
    },
    {
      "cell_type": "code",
      "source": [
        "# @title Test for trapezoidal rule\n",
        "exactInt = 1.640533333\n",
        "\n",
        "fx = lambda x: 0.2+25*x - 200*x**2 + 675*x**3 - 900*x**4 +400*x**5\n",
        "a = 0\n",
        "b = 0.8\n",
        "\n",
        "print(\"|  n  |     I     |     et    |\")\n",
        "print(\"|-----|-----------|-----------|\")\n",
        "for n in range(4,81,4):\n",
        "  I = trapz(fx, a,b,n)\n",
        "  et = abs(I-exactInt)/exactInt*100\n",
        "  print(f\"| {n:3d} | {I:9.7f} |  {et:6.4f} % |\")\n",
        "\n"
      ],
      "metadata": {
        "colab": {
          "base_uri": "https://localhost:8080/"
        },
        "id": "Zm1_30VQQaGg",
        "outputId": "0dddee9b-f94f-4ae4-b457-5b90202c88df"
      },
      "execution_count": 31,
      "outputs": [
        {
          "output_type": "stream",
          "name": "stdout",
          "text": [
            "|  n  |     I     |     et    |\n",
            "|-----|-----------|-----------|\n",
            "|   4 | 1.4848000 |  9.4928 % |\n",
            "|   8 | 1.6008000 |  2.4220 % |\n",
            "|  12 | 1.6228082 |  1.0804 % |\n",
            "|  16 | 1.6305500 |  0.6085 % |\n",
            "|  20 | 1.6341402 |  0.3897 % |\n",
            "|  24 | 1.6360922 |  0.2707 % |\n",
            "|  28 | 1.6372698 |  0.1989 % |\n",
            "|  32 | 1.6380344 |  0.1523 % |\n",
            "|  36 | 1.6385587 |  0.1204 % |\n",
            "|  40 | 1.6389338 |  0.0975 % |\n",
            "|  44 | 1.6392113 |  0.0806 % |\n",
            "|  48 | 1.6394224 |  0.0677 % |\n",
            "|  52 | 1.6395867 |  0.0577 % |\n",
            "|  56 | 1.6397171 |  0.0498 % |\n",
            "|  60 | 1.6398223 |  0.0433 % |\n",
            "|  64 | 1.6399084 |  0.0381 % |\n",
            "|  68 | 1.6399798 |  0.0337 % |\n",
            "|  72 | 1.6400395 |  0.0301 % |\n",
            "|  76 | 1.6400902 |  0.0270 % |\n",
            "|  80 | 1.6401334 |  0.0244 % |\n"
          ]
        }
      ]
    },
    {
      "cell_type": "markdown",
      "source": [
        "## 2-3) Simpson’s 1/3 role"
      ],
      "metadata": {
        "id": "4XKmcBgiKm47"
      }
    },
    {
      "cell_type": "code",
      "source": [
        "def simpsons(f, a, b, n):\n",
        "\n",
        "  if n % 2 != 0:\n",
        "    raise ValueError(\"Number of subintervals (n) must be even for Simpson's rule.\"\n",
        "                     f\"Input value is {n}.\")\n",
        "\n",
        "  h = (b - a) / n\n",
        "  result = f(a) + f(b)\n",
        "\n",
        "  for i in range(1, n):\n",
        "    x = a + i * h\n",
        "    if i % 2 == 0:\n",
        "      result += 2 * f(x)\n",
        "    else:\n",
        "      result += 4 * f(x)\n",
        "\n",
        "  return result * h/3.0"
      ],
      "metadata": {
        "id": "l-5ZPmSrYvt4"
      },
      "execution_count": 27,
      "outputs": []
    },
    {
      "cell_type": "code",
      "source": [
        "exactInt = 1.640533333\n",
        "\n",
        "fx = lambda x: 0.2+25*x - 200*x**2 + 675*x**3 - 900*x**4 +400*x**5\n",
        "a = 0\n",
        "b = 0.8\n",
        "\n",
        "print(\"|  n  |     I     |     et    |\")\n",
        "print(\"|-----|-----------|-----------|\")\n",
        "for n in range(4,81,4):\n",
        "  I = simpsons(fx, a,b,n)\n",
        "  et = abs(I-exactInt)/exactInt*100\n",
        "  print(f\"| {n:3d} | {I:9.7f} | {et:7.5f} % |\")"
      ],
      "metadata": {
        "colab": {
          "base_uri": "https://localhost:8080/"
        },
        "id": "CySeGrQNZLcb",
        "outputId": "d70e5101-ee66-4153-d5dc-fdc5cee1d135"
      },
      "execution_count": 29,
      "outputs": [
        {
          "output_type": "stream",
          "name": "stdout",
          "text": [
            "|  n  |     I     |     et    |\n",
            "|-----|-----------|-----------|\n",
            "|   4 | 1.6234667 | 1.04031 % |\n",
            "|   8 | 1.6394667 | 0.06502 % |\n",
            "|  12 | 1.6403226 | 0.01284 % |\n",
            "|  16 | 1.6404667 | 0.00406 % |\n",
            "|  20 | 1.6405060 | 0.00166 % |\n",
            "|  24 | 1.6405202 | 0.00080 % |\n",
            "|  28 | 1.6405262 | 0.00043 % |\n",
            "|  32 | 1.6405292 | 0.00025 % |\n",
            "|  36 | 1.6405307 | 0.00016 % |\n",
            "|  40 | 1.6405316 | 0.00010 % |\n",
            "|  44 | 1.6405322 | 0.00007 % |\n",
            "|  48 | 1.6405325 | 0.00005 % |\n",
            "|  52 | 1.6405327 | 0.00004 % |\n",
            "|  56 | 1.6405329 | 0.00003 % |\n",
            "|  60 | 1.6405330 | 0.00002 % |\n",
            "|  64 | 1.6405331 | 0.00002 % |\n",
            "|  68 | 1.6405331 | 0.00001 % |\n",
            "|  72 | 1.6405332 | 0.00001 % |\n",
            "|  76 | 1.6405332 | 0.00001 % |\n",
            "|  80 | 1.6405332 | 0.00001 % |\n"
          ]
        }
      ]
    },
    {
      "cell_type": "markdown",
      "source": [
        "## 2-4) Simpson’s 3/8 role"
      ],
      "metadata": {
        "id": "t8b2xc9uLDqm"
      }
    },
    {
      "cell_type": "markdown",
      "source": [
        "## 2-5) Integration on data points with vairable intervals"
      ],
      "metadata": {
        "id": "m6e2tbQejV-o"
      }
    },
    {
      "cell_type": "markdown",
      "source": [],
      "metadata": {
        "id": "5HqW7wpcLN6P"
      }
    },
    {
      "cell_type": "markdown",
      "source": [
        "# 🔵 3) Differentiation"
      ],
      "metadata": {
        "id": "rQqu6kt1KICs"
      }
    },
    {
      "cell_type": "code",
      "execution_count": null,
      "metadata": {
        "id": "beZdD2GHHQ8h"
      },
      "outputs": [],
      "source": []
    }
  ]
}