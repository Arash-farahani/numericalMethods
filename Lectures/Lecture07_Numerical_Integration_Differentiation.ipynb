{
  "nbformat": 4,
  "nbformat_minor": 0,
  "metadata": {
    "colab": {
      "provenance": [],
      "authorship_tag": "ABX9TyMbWC/wHE9PjBktHzBNNxRU",
      "include_colab_link": true
    },
    "kernelspec": {
      "name": "python3",
      "display_name": "Python 3"
    },
    "language_info": {
      "name": "python"
    }
  },
  "cells": [
    {
      "cell_type": "markdown",
      "metadata": {
        "id": "view-in-github",
        "colab_type": "text"
      },
      "source": [
        "<a href=\"https://colab.research.google.com/github/hamidrezanorouzi/numericalMethods/blob/main/Lectures/Lecture07_Numerical_Integration_Differentiation.ipynb\" target=\"_parent\"><img src=\"https://colab.research.google.com/assets/colab-badge.svg\" alt=\"Open In Colab\"/></a>"
      ]
    },
    {
      "cell_type": "markdown",
      "source": [
        "# **Numerical Integration and Differentiation**\n",
        "\n",
        "&nbsp;\n",
        "\n",
        "Lecturer: **Hamidreza Norouzi**\n",
        "\n",
        "&nbsp;"
      ],
      "metadata": {
        "id": "AUD2XNe-Hbzn"
      }
    },
    {
      "cell_type": "markdown",
      "source": [
        "### **Notes**❕\n",
        "This content forms a part of the instructional presentations for the **`numerical methods in chemical engineering`** course designed for undergraduate chemical engineering students at Amirkabir University of Technology.\n",
        "\n",
        "Feel free to utilize the information and source codes provided in this material, ensuring appropriate acknowledgment of the original document.\n",
        "\n",
        "The visual elements featured in this document are either original or have been obtained from the following sources, unless specified otherwise:\n",
        "\n",
        "* Steven C. Chapra, Applied Numerical Methods with Matlab for Engineers and Scientists, 3rd edition, McGraw-Hill (2012).\n",
        "* Amos Gilat and Vish Subramanian, Numerical Methods for Engineers and Scientists, 3rd edition, Wiley (2014).\n",
        "\n",
        "\n",
        "<div align=\"center\">\n",
        "🟪 🟪 🟪\n",
        "</dive>\n",
        "\n",
        "---"
      ],
      "metadata": {
        "id": "YIRhrB7DHmAe"
      }
    },
    {
      "cell_type": "markdown",
      "source": [
        "# 🟢 1) Where do we use them?"
      ],
      "metadata": {
        "id": "GJQ4RJN4H0as"
      }
    },
    {
      "cell_type": "markdown",
      "source": [
        "# 🔴 2) Integration"
      ],
      "metadata": {
        "id": "bUB_rFJGJ_oD"
      }
    },
    {
      "cell_type": "markdown",
      "source": [
        "## 2-1) Newton-Cotes formulas\n",
        "* Newton-Cotes formulas are based on the strategy of replacing a complicated function or tabulated data with a polynomial that is easy to integrate:\n",
        "  $$\n",
        "  I = \\int_a^b{f(x)dx} \\thickapprox \\int_a^b{f_n(x)dx} \\tag{2-1}\n",
        "  $$\n",
        "  where the polynomial is:\n",
        "  $$\n",
        "  f_n(x) = a_0 + a_1x+a_2x^2+...,a_nx^n \\tag{2-2}\n",
        "  $$"
      ],
      "metadata": {
        "id": "6b0LSK9xKUx-"
      }
    },
    {
      "cell_type": "markdown",
      "source": [
        "<div align=\"center\">\n",
        "<img src=\"https://drive.google.com/uc?id=1i_LQ-H6YAQaYD46ZJ5qA0KQMyKIzUFdh\" width=\"700\">\n",
        "</div>"
      ],
      "metadata": {
        "id": "roqSIO_MmKDd"
      }
    },
    {
      "cell_type": "markdown",
      "source": [
        "* How about if we apply the approximation on segments with sub-intervals with smaller than interval [a,b]?\n",
        "\n",
        "<div align=\"center\">\n",
        "<img src=\"https://drive.google.com/uc?id=1CTZJtP00nIn4IvH589DflyNVkF9VyFfw\" width=\"450\">\n",
        "</div>"
      ],
      "metadata": {
        "id": "1z2A1mdUmdAK"
      }
    },
    {
      "cell_type": "markdown",
      "source": [
        "## 2-2) Trapezoid rule\n",
        "* It correponds to the case where the ploynomial is first order:\n",
        "\n",
        "$$\n",
        "\\begin{aligned}\n",
        "I &= \\int_a^b[f(a)+\\frac{f(b)-f(a)}{b-a}(x-a)]dx ⇒ \\\\\n",
        "I &= (b-a)\\frac{f(b)+f(a)}{2}\n",
        "\\end{aligned}\n",
        "\\tag{2-3}\n",
        "$$\n",
        "\n",
        "* Geometrically, the trapezoidal rule is equivalent to approximating the area of the trapezoid under the straight line connecting $f(a)$ and $f(b)$:\n",
        "\n",
        "<div align=\"center\">\n",
        "<img src=\"https://drive.google.com/uc?id=12VMro0KWSTEq_7pTW8YqfC5x8kx1xcRO\" width=\"400\">\n",
        "</div>\n",
        "\n",
        "\n",
        "* The local truncation error of single application of trapezoidal rule is give by:\n",
        "$$\n",
        "E_t = \\frac{1}{12} f^{\"}(ξ)(b-a)^3  \\tag{2-4}\n",
        "$$\n",
        "  this shows that the error is zero integrating functions up to first-order polynomial."
      ],
      "metadata": {
        "id": "WrMFLPQqKdJD"
      }
    },
    {
      "cell_type": "markdown",
      "source": [
        "### 2-2-1) Trapezoidal rule with sub-intervals\n",
        "* The integration formula can be applied to sub-intervals of domain [a,b] and then these integrals are summed to give the integral over the whole domain.\n",
        "* Consider that the interval [a,b] is divided into n equal sub-intervals with width $h$:\n",
        "$$\n",
        "h = \\frac{b-a}{n} \\tag{2-5}\n",
        "$$\n",
        "Then the intgral over [a,b] can be re-written as:\n",
        "$$\n",
        "I = \\int_{x_0=a}^{x_n=b} f(x)dx \\thickapprox \\int_{x_0}^{x_1} f(x)dx + \\int_{x_1}^{x_2} f(x)dx + ... + \\int_{x_{n-1}}^{x_n} f(x)dx\n",
        "\\tag{2-6}\n",
        "$$\n"
      ],
      "metadata": {
        "id": "Z2HKgdamHgBg"
      }
    },
    {
      "cell_type": "markdown",
      "source": [
        "<div align = \"center\">\n",
        "<img src=\"https://drive.google.com/uc?id=1GgZOKEi-TIi-zrC5amdE609njsBNY_h3\" width = \"450\">\n",
        "</div>"
      ],
      "metadata": {
        "id": "oTSXrTRrVUsk"
      }
    },
    {
      "cell_type": "markdown",
      "source": [
        "* Applying trapezoidal rule to each of the above integrals over sub-intervals:\n",
        "$$\n",
        "\\begin{aligned}\n",
        "I &= h \\frac{f(x_0)+f(x_1)}{2} + h \\frac{f(x_1)+f(x_2)}{2} + ...+ h \\frac{f(x_{n-1})+f(x_n)}{2} \\\\\n",
        "I &= \\frac{h}{2}[f(x_0)+ 2 \\sum_{i=1}^{n-1}f(x_i) + f(x_n)]\n",
        "\\end{aligned}\n",
        "\\tag{2-7}\n",
        "$$\n",
        "\n",
        "* The true error for Eq. (2-7) is:\n",
        "$$\n",
        "E_t = \\frac{h^3}{12} \\sum_{i=1}^{n} f^{\"}(ξ)  \\tag{2-8}\n",
        "$$"
      ],
      "metadata": {
        "id": "7i00T1ZSVxnh"
      }
    },
    {
      "cell_type": "markdown",
      "source": [
        "### ❓ **Example 1:**\n",
        "Compute the integral of the function $f(x) = 0.2+25x - 200x^2 + 675x^3 - 900x^4 +400x^5$ over interval [0,0.8] using trapezoidal rule with four sub-intervals."
      ],
      "metadata": {
        "id": "xdxiKK6rV2A5"
      }
    },
    {
      "cell_type": "markdown",
      "source": [
        "💡 *Solution*\n",
        "\n",
        "The interval length is:\n",
        "$$\n",
        "h = \\frac{0.8-0}{4} = 0.2\n",
        "$$\n",
        "And the value of function at interval points:\n",
        "$$\n",
        "\\begin{aligned}\n",
        "f(0) &= 0.2 \\\\\n",
        "f(0.2) &= 1.28800 \\\\\n",
        "f(0.4) &= 2.45600 \\\\\n",
        "f(0.6) &= 3.46400 \\\\\n",
        "f(0.8) &= 0.23200 \\\\\n",
        "\\end{aligned}\n",
        "$$\n",
        "\n",
        "According to Eq. (2-7):\n",
        "$$\n",
        "\\begin{aligned}\n",
        "I &= \\frac{h}{2}[f(x_0)+ 2 \\sum_{i=1}^{3}f(x_i) + f(x_4)]  \\\\\n",
        "  &= \\frac{0.2}{2}[0.2 + 2(1.28800+2.45600+3.46400)+0.23200] \\\\\n",
        "  & = 1.48480\n",
        "\\end{aligned}\n",
        "$$\n",
        "\n",
        "The analytical solution of the above integral give the exact value of 1.640533333 for the integral. So, the true relative error is:\n",
        "$$\n",
        "ϵ_t = \\frac{1.640533333-1.48480}{1.640533333} \\times 100 \\% = 9.493 \\%\n",
        "$$"
      ],
      "metadata": {
        "id": "pua3RpFgWXl4"
      }
    },
    {
      "cell_type": "markdown",
      "source": [
        "### 2-2-2) Code for trapezoidal rule"
      ],
      "metadata": {
        "id": "6_EskG1OPl0d"
      }
    },
    {
      "cell_type": "code",
      "source": [
        "# @title Trapezoidal rule integration\n",
        "def trapz(fx, a, b, n):\n",
        "  \"\"\"\n",
        "  Computes the integral of a function using the trapezoidal rule.\n",
        "\n",
        "  :param fx: The function to be integrated.\n",
        "  :param a: The lower limit of integration.\n",
        "  :param b: The upper limit of integration.\n",
        "  :param n: The number of subintervals (must be a positive integer).\n",
        "  :return: The estimated integral value.\n",
        "  \"\"\"\n",
        "  h = (b - a) / n\n",
        "  integral = 0.5 * (fx(a) + fx(b))\n",
        "\n",
        "  for i in range(1, n):\n",
        "    x_i = a + i * h\n",
        "    integral += fx(x_i)\n",
        "\n",
        "  integral *= h\n",
        "\n",
        "  return integral"
      ],
      "metadata": {
        "id": "9wAcEFY8PpvE"
      },
      "execution_count": null,
      "outputs": []
    },
    {
      "cell_type": "code",
      "source": [
        "# @title Test for trapezoidal rule\n",
        "exactInt = 1.640533333\n",
        "\n",
        "fx = lambda x: 0.2+25*x - 200*x**2 + 675*x**3 - 900*x**4 +400*x**5\n",
        "a = 0\n",
        "b = 0.8\n",
        "\n",
        "print(\"|  n  |     I     |     et    |\")\n",
        "print(\"|-----|-----------|-----------|\")\n",
        "for n in range(4,81,4):\n",
        "  I = trapz(fx, a,b,n)\n",
        "  et = abs(I-exactInt)/exactInt*100\n",
        "  print(f\"| {n:3d} | {I:9.7f} |  {et:6.4f} % |\")\n"
      ],
      "metadata": {
        "colab": {
          "base_uri": "https://localhost:8080/"
        },
        "id": "Zm1_30VQQaGg",
        "outputId": "7a088d60-dd49-4edc-bca0-8562c6ce3d2a"
      },
      "execution_count": null,
      "outputs": [
        {
          "output_type": "stream",
          "name": "stdout",
          "text": [
            "|  n  |     I     |     et    |\n",
            "|-----|-----------|-----------|\n",
            "|   4 | 1.4848000 |  9.4928 % |\n",
            "|   8 | 1.6008000 |  2.4220 % |\n",
            "|  12 | 1.6228082 |  1.0804 % |\n",
            "|  16 | 1.6305500 |  0.6085 % |\n",
            "|  20 | 1.6341402 |  0.3897 % |\n",
            "|  24 | 1.6360922 |  0.2707 % |\n",
            "|  28 | 1.6372698 |  0.1989 % |\n",
            "|  32 | 1.6380344 |  0.1523 % |\n",
            "|  36 | 1.6385587 |  0.1204 % |\n",
            "|  40 | 1.6389338 |  0.0975 % |\n",
            "|  44 | 1.6392113 |  0.0806 % |\n",
            "|  48 | 1.6394224 |  0.0677 % |\n",
            "|  52 | 1.6395867 |  0.0577 % |\n",
            "|  56 | 1.6397171 |  0.0498 % |\n",
            "|  60 | 1.6398223 |  0.0433 % |\n",
            "|  64 | 1.6399084 |  0.0381 % |\n",
            "|  68 | 1.6399798 |  0.0337 % |\n",
            "|  72 | 1.6400395 |  0.0301 % |\n",
            "|  76 | 1.6400902 |  0.0270 % |\n",
            "|  80 | 1.6401334 |  0.0244 % |\n"
          ]
        }
      ]
    },
    {
      "cell_type": "markdown",
      "source": [
        "## 2-3) Simpson’s 1/3 role\n",
        "* Consider that the polynomial is second-order and this polynomial connects 3 successive points $x_0=a$, $x_1$ and $x_2=b$.\n",
        "* The integral based on Eq. (2-1) becomes:\n",
        "$$\n",
        "\\begin{aligned}\n",
        "I &= \\int_{x_0}^{x_2} [\\frac{(x-x_1)(x-x_2)}{(x_0-x_1)(x_0-x_2)}f(x_0)+\\frac{(x-x_0)(x-x_2)}{(x_1-x_0)(x_1-x_2)}f(x_1)+\\frac{(x-x_0)(x-x_1)}{(x_2-x_0)(x_2-x_1)}f(x_2)]dx  \\\\\n",
        "⇒ I &= \\frac{h}{3}[f(x_0)+4f(x_1)+f(x_2)]\n",
        "\\end{aligned}\n",
        "\\tag{2-9}\n",
        "$$\n"
      ],
      "metadata": {
        "id": "4XKmcBgiKm47"
      }
    },
    {
      "cell_type": "markdown",
      "source": [
        "<div align=\"center\">\n",
        "<img src=\"https://drive.google.com/uc?id=16uMxveXDN792mW-kbYiYnpyaoL7cq8aL\" width=\"400\">\n",
        "</div>\n",
        "\n",
        "* The local true error associated with this integration (using Eq. (2-9)) is:\n",
        "$$\n",
        "E_t = - \\frac{1}{90}h^5f^4(\\xi)\n",
        "\\tag{2-10}\n",
        "$$\n",
        "  which means that this integration method give exact results for polynomials up to 3rd order (zero error).\n",
        "\n",
        "\n"
      ],
      "metadata": {
        "id": "ejfSvlBR4gDw"
      }
    },
    {
      "cell_type": "markdown",
      "source": [
        "### 2-3-1) Simpson's 1/3 rule with sub-intervals\n",
        "* The integration formula can be applied to sub-intervals of domain [a,b] with $n$ sub-intervals, where $n$ is an $even$ number.\n",
        "* Then the intgral over [a,b] can be re-written as:\n",
        "$$\n",
        "I = \\int_{x_0=a}^{x_n=b} f(x)dx \\thickapprox \\int_{x_0}^{x_2} f(x)dx + \\int_{x_2}^{x_4} f(x)dx + ... + \\int_{x_{n-2}}^{x_n} f(x)dx\n",
        "\\tag{2-11}\n",
        "$$\n",
        "  Note that each integral in the above equation covers two successive intervals.\n",
        "\n",
        "* Applying Simpson's 1/3 formula in Eq. (2-9), we get:\n",
        "\n",
        "$$\n",
        "\\begin{aligned}\n",
        "I &= \\frac{h}{3}(f(x_0)+4f(x_1)+f(x_2))+\\frac{h}{3}(f(x_2)+4f(x_3)+f(x_4))+...+\\frac{h}{3}(f(x_{n-2})+4f(x_{n-1})+f(x_n)) \\\\\n",
        "⇒ I &= \\frac{h}{3}[f(x_0)+ 4 \\sum_{i=1,3,5}^{n-1}f(x_i) + 2 \\sum_{i=2,4,6}^{n-2}f(x_i)+f(x_n)]\n",
        "\\end{aligned}\n",
        "\\tag{2-12}\n",
        "$$\n",
        "<div align=\"center\">\n",
        "<img src=\"https://drive.google.com/uc?id=18DhXPlWFzzvkwopSZ82AyfaIdO2pGWSs\" width=\"500\">\n",
        "</div>"
      ],
      "metadata": {
        "id": "2ya5k3YV46Hp"
      }
    },
    {
      "cell_type": "markdown",
      "source": [
        "### ❓ **Example 2:**\n",
        "Compute the integral of the function $f(x) = 0.2+25x - 200x^2 + 675x^3 - 900x^4 +400x^5$ over interval [0,0.8] using Simpson's 1/3 rule with four sub-intervals."
      ],
      "metadata": {
        "id": "RO3jZmVeABi2"
      }
    },
    {
      "cell_type": "markdown",
      "source": [
        "💡 *Solution*\n",
        "\n",
        "The interval length is:\n",
        "$$\n",
        "h = \\frac{0.8-0}{4} = 0.2\n",
        "$$\n",
        "And the value of function at interval points:\n",
        "$$\n",
        "\\begin{aligned}\n",
        "f(0) &= 0.2 \\\\\n",
        "f(0.2) &= 1.28800 \\\\\n",
        "f(0.4) &= 2.45600 \\\\\n",
        "f(0.6) &= 3.46400 \\\\\n",
        "f(0.8) &= 0.23200 \\\\\n",
        "\\end{aligned}\n",
        "$$\n",
        "\n",
        "According to Eq. (2-12):\n",
        "$$\n",
        "\\begin{aligned}\n",
        "I &= \\frac{h}{3}[f(x_0)+ 4f(x_1) + 2f(x_2) + 4f(x_3) + f(x_4)]  \\\\\n",
        "  &= \\frac{0.2}{3}[0.2 + 4(1.28800)+2(2.45600)+4(3.46400)+0.23200] \\\\\n",
        "  & = 1.62347\n",
        "\\end{aligned}\n",
        "$$\n",
        "\n",
        "The analytical solution of the above integral give the exact value of 1.640533333 for the integral. So, the true relative error is:\n",
        "$$\n",
        "ϵ_t = \\frac{1.640533333-1.62347}{1.640533333} \\times 100 \\% = 1.040 \\%\n",
        "$$"
      ],
      "metadata": {
        "id": "cjIbRNNX8mPh"
      }
    },
    {
      "cell_type": "markdown",
      "source": [
        "### 2-3-2) Code for Simpson's 1/3 rule"
      ],
      "metadata": {
        "id": "EuQSR44Y7tv2"
      }
    },
    {
      "cell_type": "code",
      "source": [
        "def simpsons(f, a, b, n):\n",
        "\n",
        "  if n % 2 != 0:\n",
        "    raise ValueError(\"Number of subintervals (n) must be even for Simpson's rule.\"\n",
        "                     f\"Input value is {n}.\")\n",
        "\n",
        "  h = (b - a) / n\n",
        "  result = f(a) + f(b)\n",
        "\n",
        "  for i in range(1, n):\n",
        "    x = a + i * h\n",
        "    if i % 2 == 0:\n",
        "      result += 2 * f(x)\n",
        "    else:\n",
        "      result += 4 * f(x)\n",
        "\n",
        "  return result * h/3.0"
      ],
      "metadata": {
        "id": "l-5ZPmSrYvt4"
      },
      "execution_count": null,
      "outputs": []
    },
    {
      "cell_type": "code",
      "source": [
        "exactInt = 1.640533333\n",
        "\n",
        "fx = lambda x: 0.2+25*x - 200*x**2 + 675*x**3 - 900*x**4 +400*x**5\n",
        "a = 0\n",
        "b = 0.8\n",
        "\n",
        "print(\"|  n  |     I     |     et    |\")\n",
        "print(\"|-----|-----------|-----------|\")\n",
        "for n in range(4,81,4):\n",
        "  I = simpsons(fx, a,b,n)\n",
        "  et = abs(I-exactInt)/exactInt*100\n",
        "  print(f\"| {n:3d} | {I:9.7f} | {et:7.5f} % |\")"
      ],
      "metadata": {
        "colab": {
          "base_uri": "https://localhost:8080/"
        },
        "id": "CySeGrQNZLcb",
        "outputId": "d70e5101-ee66-4153-d5dc-fdc5cee1d135"
      },
      "execution_count": null,
      "outputs": [
        {
          "output_type": "stream",
          "name": "stdout",
          "text": [
            "|  n  |     I     |     et    |\n",
            "|-----|-----------|-----------|\n",
            "|   4 | 1.6234667 | 1.04031 % |\n",
            "|   8 | 1.6394667 | 0.06502 % |\n",
            "|  12 | 1.6403226 | 0.01284 % |\n",
            "|  16 | 1.6404667 | 0.00406 % |\n",
            "|  20 | 1.6405060 | 0.00166 % |\n",
            "|  24 | 1.6405202 | 0.00080 % |\n",
            "|  28 | 1.6405262 | 0.00043 % |\n",
            "|  32 | 1.6405292 | 0.00025 % |\n",
            "|  36 | 1.6405307 | 0.00016 % |\n",
            "|  40 | 1.6405316 | 0.00010 % |\n",
            "|  44 | 1.6405322 | 0.00007 % |\n",
            "|  48 | 1.6405325 | 0.00005 % |\n",
            "|  52 | 1.6405327 | 0.00004 % |\n",
            "|  56 | 1.6405329 | 0.00003 % |\n",
            "|  60 | 1.6405330 | 0.00002 % |\n",
            "|  64 | 1.6405331 | 0.00002 % |\n",
            "|  68 | 1.6405331 | 0.00001 % |\n",
            "|  72 | 1.6405332 | 0.00001 % |\n",
            "|  76 | 1.6405332 | 0.00001 % |\n",
            "|  80 | 1.6405332 | 0.00001 % |\n"
          ]
        }
      ]
    },
    {
      "cell_type": "markdown",
      "source": [
        "## 2-4) Simpson’s 3/8 role\n",
        "\n",
        "* If we use third-order polynomial that connects four successive points $x_0$, $x_1$, $x_2$, and $x_3$, and integrate it over this range $[x_0, x_3]$, we get:\n",
        "$$\n",
        "I = \\frac{3h}{8}[f(x_0)+3f(x_1)+3f(x_2)+f(x_3)]\n",
        "\\tag{2-13}\n",
        "$$\n",
        "* And the local error for this integration is:\n",
        "$$\n",
        "E_t = - \\frac{3}{80}h^5f^{(4)}(\\xi)\n",
        "\\tag{2-14}\n",
        "$$\n",
        "\n",
        "* And we want to perform integration over multiple sub-intervals and let's say we number of these sub-intervals is $n=3k$ (multiple of 3):\n",
        "$$\n",
        "I = \\frac{3h}{8}[f(x_0)+ 3 [\\sum_{i=1}^{n/3}f(x_{3i-2})+f(x_{3i-1})]+2\\sum_{i=1}^{n/3-1}f(x_{3i}) +f(x_n)]\n",
        "\\tag{2-15}\n",
        "$$"
      ],
      "metadata": {
        "id": "t8b2xc9uLDqm"
      }
    },
    {
      "cell_type": "markdown",
      "source": [
        "## 2-5) A note on error of integration methods\n",
        "*\n"
      ],
      "metadata": {
        "id": "AAdVILSvhw5k"
      }
    },
    {
      "cell_type": "markdown",
      "source": [
        "## 2-6) Integration over intervals with unequal length\n",
        "* In all above methods, the intervals have equal length.\n",
        "* In practice, there are many situations where this condition does not hold and we must deal with unequal-sized intervals.\n",
        "* In this condition, we can apply proper formula (trapezoidal or Simpson) on each of these individual intervals and sum them up."
      ],
      "metadata": {
        "id": "m6e2tbQejV-o"
      }
    },
    {
      "cell_type": "markdown",
      "source": [
        "### ❓ **Example 3:**\n",
        "Consider the following data from the table below, integrate f(x) from 0 to 0.8. Compare your result with the exact answer 1.6405333.\n",
        "\n",
        "**a)** Using trapezoidal rule.\n",
        "\n",
        "**b)** Using a mix of trapezoidal and Simpson's 1/3 rule to achieve minimum error.\n",
        "\n",
        "| x | f(x) | x| f(x)|\n",
        "|---|---|---|---|\n",
        "|0.00| 0.200000| 0.44| 2.842985|\n",
        "|0.12| 1.309729| 0.54| 3.507297|\n",
        "|0.22| 1.305241| 0.64| 3.181929|\n",
        "|0.32| 1.743393| 0.70| 2.363000|\n",
        "|0.36| 2.074903| 0.80| 0.232000|\n",
        "|0.40| 2.456000| | |\n"
      ],
      "metadata": {
        "id": "ADHL0F-zjXbt"
      }
    },
    {
      "cell_type": "markdown",
      "source": [
        "💡 *Solution*\n",
        "\n",
        "**Part (a)**\n",
        "\n",
        "Since all the sub-intervals are not of equal length, we should apply trapezoidal rule on each sub-interval.\n",
        "$$\n",
        "I = \\frac{0.12}{2}(0.2+1.309729) + \\frac{0.1}{2}(1.309729+1.305241)+\\frac{0.1}{2}(1.305241+1.743393)+\\frac{0.04}{2}(1.743393+2.074903)+\\frac{0.04}{2}(2.074903+2.456000)+\\frac{0.04}{2}(2.456000+2.842985)+\\frac{0.1}{2}(2.842985+3.507297) + \\frac{0.1}{2}(3.507297+3.181929)+ \\frac{0.06}{2}(3.181929+2.363000) + \\frac{0.1}{2}(2.363000+0.232000) = 1.594801\n",
        "$$\n",
        "\n",
        "$$\n",
        "ϵ_t = \\begin{vmatrix} \\frac{1.6405333-1.594801}{1.6405333}\\end{vmatrix} \\times 100 \\% = 2.79 \\%\n",
        "$$\n",
        "\n"
      ],
      "metadata": {
        "id": "5HqW7wpcLN6P"
      }
    },
    {
      "cell_type": "markdown",
      "source": [
        "**Part (b)**\n",
        "\n",
        "We apply Simpson's 1/3 on two successive equal intervals, 3/8 rules on three successive equal intervals and trapezoidal rule on the rest.\n",
        "\n",
        "\\begin{aligned}\n",
        "(0.00,0.12) &⇒ \\text{trapezoidal} \\\\\n",
        "(0.12,0.32) &⇒ \\text{Simpson's 1/3} \\\\\n",
        "(0.32,0.44) &⇒ \\text{Simpson's 3/8} \\\\\n",
        "(0.44,0.64) &⇒ \\text{Simpson's 1/3} \\\\\n",
        "(0.64,0.70) &⇒ \\text{trapezoidal} \\\\\n",
        "(0.70,0.80) &⇒ \\text{trapezoidal} \\\\\n",
        "\\end{aligned}\n",
        "\n",
        "&nbsp;\n",
        "\n",
        "\n",
        "$$\n",
        "I =  \\frac{0.12}{2}(0.2+1.309729) + \\frac{0.1}{3}(1.309729+4 \\times 1.305241+1.743393) + \\frac{3 \\times 0.04}{8}(1.743393+3 \\times 2.074903+ 3 \\times 2.456000+2.842985)+ \\frac{0.1}{3}(2.842985+4 \\times 3.507297+3.181929) + \\frac{0.06}{2}(3.181929+2.363000)+\\frac{0.1}{2}(2.363000+0.232000) = 1.603641\n",
        "$$\n",
        "$$\n",
        "ϵ_t = \\begin{vmatrix} \\frac{1.6405333-1.603641}{1.6405333}\\end{vmatrix} \\times 100 \\% = 2.25 \\%\n",
        "$$"
      ],
      "metadata": {
        "id": "1h8VJpK_BVrv"
      }
    },
    {
      "cell_type": "markdown",
      "source": [
        "# 🔵 3) Differentiation"
      ],
      "metadata": {
        "id": "rQqu6kt1KICs"
      }
    }
  ]
}